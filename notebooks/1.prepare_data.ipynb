{
 "cells": [
  {
   "cell_type": "markdown",
   "metadata": {},
   "source": [
    "# 1. Preparing Data"
   ]
  },
  {
   "cell_type": "code",
   "execution_count": 121,
   "metadata": {},
   "outputs": [],
   "source": [
    "import pandas as pd\n",
    "import matplotlib.pyplot as plt\n",
    "from scipy.stats import skew"
   ]
  },
  {
   "cell_type": "markdown",
   "metadata": {},
   "source": [
    "## Contract data"
   ]
  },
  {
   "cell_type": "code",
   "execution_count": 2,
   "metadata": {},
   "outputs": [
    {
     "name": "stdout",
     "output_type": "stream",
     "text": [
      "loaded contract data\n",
      "Total number of contracts: 774,200\n"
     ]
    },
    {
     "data": {
      "text/html": [
       "<div>\n",
       "<style scoped>\n",
       "    .dataframe tbody tr th:only-of-type {\n",
       "        vertical-align: middle;\n",
       "    }\n",
       "\n",
       "    .dataframe tbody tr th {\n",
       "        vertical-align: top;\n",
       "    }\n",
       "\n",
       "    .dataframe thead th {\n",
       "        text-align: right;\n",
       "    }\n",
       "</style>\n",
       "<table border=\"1\" class=\"dataframe\">\n",
       "  <thead>\n",
       "    <tr style=\"text-align: right;\">\n",
       "      <th></th>\n",
       "      <th>vocop_id</th>\n",
       "      <th>full_name</th>\n",
       "      <th>first_name</th>\n",
       "      <th>patronymic</th>\n",
       "      <th>family_name_prefix</th>\n",
       "      <th>family_name</th>\n",
       "      <th>place_of_origin</th>\n",
       "      <th>place_id</th>\n",
       "      <th>disambiguated_person</th>\n",
       "      <th>person_cluster_id</th>\n",
       "      <th>...</th>\n",
       "      <th>changed_ship_at_cape_voyage_id</th>\n",
       "      <th>return_voyage_id</th>\n",
       "      <th>remark</th>\n",
       "      <th>source_id</th>\n",
       "      <th>scan_permalink</th>\n",
       "      <th>full_name_normalized</th>\n",
       "      <th>first_name_normalized</th>\n",
       "      <th>patronymic_normalized</th>\n",
       "      <th>family_name_prefix_normalized</th>\n",
       "      <th>family_name_normalized</th>\n",
       "    </tr>\n",
       "  </thead>\n",
       "  <tbody>\n",
       "    <tr>\n",
       "      <th>0</th>\n",
       "      <td>104944</td>\n",
       "      <td>Adriaen van Renteregem</td>\n",
       "      <td>Adriaen</td>\n",
       "      <td>NaN</td>\n",
       "      <td>van</td>\n",
       "      <td>Renteregem</td>\n",
       "      <td>Wassenaar</td>\n",
       "      <td>141865.0</td>\n",
       "      <td>1.0</td>\n",
       "      <td>415682.0</td>\n",
       "      <td>...</td>\n",
       "      <td>NaN</td>\n",
       "      <td>96993</td>\n",
       "      <td>NaN</td>\n",
       "      <td>3339</td>\n",
       "      <td>NL-HaNA_1.04.02_12674_0192.jpg</td>\n",
       "      <td>Adriaan van Renteregem</td>\n",
       "      <td>Adriaan</td>\n",
       "      <td>NaN</td>\n",
       "      <td>van</td>\n",
       "      <td>Renteregem</td>\n",
       "    </tr>\n",
       "    <tr>\n",
       "      <th>1</th>\n",
       "      <td>104945</td>\n",
       "      <td>Adriaen van der Meulen</td>\n",
       "      <td>Adriaen</td>\n",
       "      <td>NaN</td>\n",
       "      <td>van der</td>\n",
       "      <td>Meulen</td>\n",
       "      <td>Cooltiensplate</td>\n",
       "      <td>25576.0</td>\n",
       "      <td>1.0</td>\n",
       "      <td>406243.0</td>\n",
       "      <td>...</td>\n",
       "      <td>NaN</td>\n",
       "      <td>96942</td>\n",
       "      <td>NaN</td>\n",
       "      <td>3339</td>\n",
       "      <td>NL-HaNA_1.04.02_12674_0194.jpg</td>\n",
       "      <td>Adriaan van der Meul</td>\n",
       "      <td>Adriaan</td>\n",
       "      <td>NaN</td>\n",
       "      <td>van der</td>\n",
       "      <td>Meul</td>\n",
       "    </tr>\n",
       "    <tr>\n",
       "      <th>2</th>\n",
       "      <td>104946</td>\n",
       "      <td>Arnoldus Coutrel</td>\n",
       "      <td>Arnoldus</td>\n",
       "      <td>NaN</td>\n",
       "      <td>NaN</td>\n",
       "      <td>Coutrel</td>\n",
       "      <td>Antwerpen</td>\n",
       "      <td>6486.0</td>\n",
       "      <td>1.0</td>\n",
       "      <td>1.0</td>\n",
       "      <td>...</td>\n",
       "      <td>NaN</td>\n",
       "      <td>97025</td>\n",
       "      <td>NaN</td>\n",
       "      <td>3339</td>\n",
       "      <td>NL-HaNA_1.04.02_12674_0196.jpg</td>\n",
       "      <td>Arnoldus Koetrel</td>\n",
       "      <td>Arnoldus</td>\n",
       "      <td>NaN</td>\n",
       "      <td>NaN</td>\n",
       "      <td>Koetrel</td>\n",
       "    </tr>\n",
       "    <tr>\n",
       "      <th>3</th>\n",
       "      <td>104947</td>\n",
       "      <td>Albert Coolman</td>\n",
       "      <td>Albert</td>\n",
       "      <td>NaN</td>\n",
       "      <td>NaN</td>\n",
       "      <td>Coolman</td>\n",
       "      <td>Amsterdam</td>\n",
       "      <td>5532.0</td>\n",
       "      <td>1.0</td>\n",
       "      <td>77235.0</td>\n",
       "      <td>...</td>\n",
       "      <td>NaN</td>\n",
       "      <td>-1</td>\n",
       "      <td>NaN</td>\n",
       "      <td>3339</td>\n",
       "      <td>NL-HaNA_1.04.02_12674_0198.jpg</td>\n",
       "      <td>Albert Koolman</td>\n",
       "      <td>Albert</td>\n",
       "      <td>NaN</td>\n",
       "      <td>NaN</td>\n",
       "      <td>Koolman</td>\n",
       "    </tr>\n",
       "    <tr>\n",
       "      <th>4</th>\n",
       "      <td>104948</td>\n",
       "      <td>Anthonij Bonel</td>\n",
       "      <td>Anthonij</td>\n",
       "      <td>NaN</td>\n",
       "      <td>NaN</td>\n",
       "      <td>Bonel</td>\n",
       "      <td>Amsterdam</td>\n",
       "      <td>5532.0</td>\n",
       "      <td>1.0</td>\n",
       "      <td>65732.0</td>\n",
       "      <td>...</td>\n",
       "      <td>NaN</td>\n",
       "      <td>-1</td>\n",
       "      <td>NaN</td>\n",
       "      <td>3339</td>\n",
       "      <td>NL-HaNA_1.04.02_12674_0200.jpg</td>\n",
       "      <td>Antoni Bonel</td>\n",
       "      <td>Antoni</td>\n",
       "      <td>NaN</td>\n",
       "      <td>NaN</td>\n",
       "      <td>Bonel</td>\n",
       "    </tr>\n",
       "  </tbody>\n",
       "</table>\n",
       "<p>5 rows × 35 columns</p>\n",
       "</div>"
      ],
      "text/plain": [
       "   vocop_id               full_name first_name patronymic family_name_prefix  \\\n",
       "0    104944  Adriaen van Renteregem    Adriaen        NaN                van   \n",
       "1    104945  Adriaen van der Meulen    Adriaen        NaN            van der   \n",
       "2    104946        Arnoldus Coutrel   Arnoldus        NaN                NaN   \n",
       "3    104947          Albert Coolman     Albert        NaN                NaN   \n",
       "4    104948          Anthonij Bonel   Anthonij        NaN                NaN   \n",
       "\n",
       "  family_name place_of_origin  place_id  disambiguated_person  \\\n",
       "0  Renteregem       Wassenaar  141865.0                   1.0   \n",
       "1      Meulen  Cooltiensplate   25576.0                   1.0   \n",
       "2     Coutrel       Antwerpen    6486.0                   1.0   \n",
       "3     Coolman       Amsterdam    5532.0                   1.0   \n",
       "4       Bonel       Amsterdam    5532.0                   1.0   \n",
       "\n",
       "   person_cluster_id  ...  changed_ship_at_cape_voyage_id  return_voyage_id  \\\n",
       "0           415682.0  ...                             NaN             96993   \n",
       "1           406243.0  ...                             NaN             96942   \n",
       "2                1.0  ...                             NaN             97025   \n",
       "3            77235.0  ...                             NaN                -1   \n",
       "4            65732.0  ...                             NaN                -1   \n",
       "\n",
       "  remark  source_id                  scan_permalink    full_name_normalized  \\\n",
       "0    NaN       3339  NL-HaNA_1.04.02_12674_0192.jpg  Adriaan van Renteregem   \n",
       "1    NaN       3339  NL-HaNA_1.04.02_12674_0194.jpg    Adriaan van der Meul   \n",
       "2    NaN       3339  NL-HaNA_1.04.02_12674_0196.jpg        Arnoldus Koetrel   \n",
       "3    NaN       3339  NL-HaNA_1.04.02_12674_0198.jpg          Albert Koolman   \n",
       "4    NaN       3339  NL-HaNA_1.04.02_12674_0200.jpg            Antoni Bonel   \n",
       "\n",
       "  first_name_normalized patronymic_normalized family_name_prefix_normalized  \\\n",
       "0               Adriaan                   NaN                           van   \n",
       "1               Adriaan                   NaN                       van der   \n",
       "2              Arnoldus                   NaN                           NaN   \n",
       "3                Albert                   NaN                           NaN   \n",
       "4                Antoni                   NaN                           NaN   \n",
       "\n",
       "   family_name_normalized  \n",
       "0              Renteregem  \n",
       "1                    Meul  \n",
       "2                 Koetrel  \n",
       "3                 Koolman  \n",
       "4                   Bonel  \n",
       "\n",
       "[5 rows x 35 columns]"
      ]
     },
     "execution_count": 2,
     "metadata": {},
     "output_type": "execute_result"
    }
   ],
   "source": [
    "df = pd.read_csv('../data/raw/voc_person_contracts.csv.gz')\n",
    "print('loaded contract data')\n",
    "print(f'Total number of contracts: {df.shape[0]:,}')\n",
    "df.head()"
   ]
  },
  {
   "cell_type": "markdown",
   "metadata": {},
   "source": [
    "### Variables\n",
    "\n",
    "- __vocop_id__: the unique id for each contract <br>\n",
    "- __disambiguated_person__: indicates whether the person is disambiguated (0 = no, 1 = yes). <br>\n",
    "- __person_cluster_id__: id that refers to unique person. If a person is disambiguated, multiple contracts can belong to one person <br>\n",
    "- __date_begin_contract__: start date of contract <br>\n",
    "- __outward_voyage_id__: unique id of outward voyage."
   ]
  },
  {
   "cell_type": "code",
   "execution_count": 7,
   "metadata": {},
   "outputs": [],
   "source": [
    "# select relevant columns\n",
    "\n",
    "df = df[['vocop_id', 'disambiguated_person', 'person_cluster_id', 'date_begin_contract', 'outward_voyage_id']]"
   ]
  },
  {
   "cell_type": "code",
   "execution_count": 126,
   "metadata": {},
   "outputs": [
    {
     "name": "stdout",
     "output_type": "stream",
     "text": [
      "Number of contacts with missing data in start date field: 0\n",
      "Number of disambiguated records: 546,973\n"
     ]
    }
   ],
   "source": [
    "# Remove contracts without a start data\n",
    "nans = df['date_begin_contract'].isnull().sum()\n",
    "print(f'Number of contacts with missing data in start date field: {nans}')\n",
    "df = df.dropna(subset=['date_begin_contract'])\n",
    "\n",
    "\n",
    "# Only select disambiguated records\n",
    "records = df.loc[df['disambiguated_person'] == 1, 'person_cluster_id'].astype(int).values\n",
    "print(f'Number of disambiguated records: {len(records):,}')\n",
    "\n",
    "# Construct year variable\n",
    "# Pandas does not like old dates, so rather than using Datetime, we extract it from the string\n",
    "df['year'] = df['date_begin_contract'].str.split('-', expand=True)[0].astype(int)\n",
    "df = df.sort_values(by='year')\n",
    "assert df[\"year\"].min() == 1633 and df[\"year\"].max() == 1794\n",
    "\n",
    "df.to_csv('../data/voyages_clean.csv', index=False)"
   ]
  },
  {
   "cell_type": "code",
   "execution_count": 9,
   "metadata": {},
   "outputs": [],
   "source": [
    "sailors_df = df[df['outward_voyage_id'] != 0]"
   ]
  },
  {
   "cell_type": "code",
   "execution_count": 41,
   "metadata": {},
   "outputs": [],
   "source": [
    "contract_counts = sailors_df.groupby('outward_voyage_id')['vocop_id'].count()"
   ]
  },
  {
   "cell_type": "markdown",
   "metadata": {},
   "source": [
    "# Dutch-Asiatic Shipping (DAS)"
   ]
  },
  {
   "cell_type": "code",
   "execution_count": 85,
   "metadata": {},
   "outputs": [
    {
     "name": "stdout",
     "output_type": "stream",
     "text": [
      "number of outward voyages: 4352\n"
     ]
    }
   ],
   "source": [
    "das = pd.read_excel('../data/raw/das.xlsx')\n",
    "\n",
    "das = das[das['voyRGPDeel'] == 166] #only outbound voyages\n",
    "das = das[(das['voydepartureY'] >= 1633) & (das['voydepartureY'] <= 1794)] #same time period as contracts\n",
    "\n",
    "outward_voyage_ids = das['voyId'].values\n",
    "\n",
    "print(f'number of outward voyages: {len(outward_voyage_ids)}')\n"
   ]
  },
  {
   "cell_type": "code",
   "execution_count": 86,
   "metadata": {},
   "outputs": [],
   "source": [
    "das_onboard = pd.read_excel('../data/raw/das.xlsx', sheet_name='onboard')\n",
    "das_onboard = das_onboard[das_onboard['onbVoyageId'].isin(outward_voyage_ids)] # select outbound vogages in time period"
   ]
  },
  {
   "cell_type": "markdown",
   "metadata": {},
   "source": [
    "`onbI`: The number on board at departure. \n",
    "`onbII`: The number dying between the Netherlands and the Cape. \n",
    "`onbIII`: The number who left the ship at the Cape.  \n",
    "`onbIV`: The number who came on board at the Cape.\n",
    "`onbV`: The number dying on the whole voyage. \n",
    "`onbVI`: The number on board on arrival in Asia.\n",
    "\n",
    "For our purposes, we only need `onbI` and `onbIV`\n",
    "These columns contain dirty data, so we need to extract only the integers.\n"
   ]
  },
  {
   "cell_type": "code",
   "execution_count": 87,
   "metadata": {},
   "outputs": [],
   "source": [
    "das_onboard['onbI'] = das_onboard['onbI'].astype(str).str.extract('(\\d+)') #extract digits (400 / 500, +- 400)\n",
    "das_onboard['onbIV'] = das_onboard['onbIV'].astype(str).str.extract('(\\d+)')\n",
    "das_onboard.dropna(subset=['onbI'], inplace=True) # drop nans\n",
    "das_onboard['onbIV'] = das_onboard['onbIV'].fillna(0)\n"
   ]
  },
  {
   "cell_type": "code",
   "execution_count": 88,
   "metadata": {},
   "outputs": [],
   "source": [
    "das_onboard['counts'] = das_onboard['onbI'].astype(int) + das_onboard['onbIV'].astype(int)"
   ]
  },
  {
   "cell_type": "code",
   "execution_count": 89,
   "metadata": {},
   "outputs": [],
   "source": [
    "das_onboard = das_onboard[['onbVoyageId', 'counts']]\n",
    "\n",
    "# remove extreme values\n",
    "das_onboard = das_onboard[das_onboard['onbVoyageId'] != 93096]\n",
    "das_onboard = das_onboard[das_onboard['onbVoyageId'] != 92445]"
   ]
  },
  {
   "cell_type": "code",
   "execution_count": 91,
   "metadata": {},
   "outputs": [],
   "source": [
    "das_onboard_counts = das_onboard.groupby('onbVoyageId')['counts'].sum().reset_index()"
   ]
  },
  {
   "cell_type": "code",
   "execution_count": 92,
   "metadata": {},
   "outputs": [
    {
     "data": {
      "text/html": [
       "<div>\n",
       "<style scoped>\n",
       "    .dataframe tbody tr th:only-of-type {\n",
       "        vertical-align: middle;\n",
       "    }\n",
       "\n",
       "    .dataframe tbody tr th {\n",
       "        vertical-align: top;\n",
       "    }\n",
       "\n",
       "    .dataframe thead th {\n",
       "        text-align: right;\n",
       "    }\n",
       "</style>\n",
       "<table border=\"1\" class=\"dataframe\">\n",
       "  <thead>\n",
       "    <tr style=\"text-align: right;\">\n",
       "      <th></th>\n",
       "      <th>onbVoyageId</th>\n",
       "      <th>counts</th>\n",
       "    </tr>\n",
       "  </thead>\n",
       "  <tbody>\n",
       "    <tr>\n",
       "      <th>0</th>\n",
       "      <td>91478</td>\n",
       "      <td>189</td>\n",
       "    </tr>\n",
       "    <tr>\n",
       "      <th>1</th>\n",
       "      <td>91479</td>\n",
       "      <td>148</td>\n",
       "    </tr>\n",
       "    <tr>\n",
       "      <th>2</th>\n",
       "      <td>91480</td>\n",
       "      <td>348</td>\n",
       "    </tr>\n",
       "    <tr>\n",
       "      <th>3</th>\n",
       "      <td>91481</td>\n",
       "      <td>56</td>\n",
       "    </tr>\n",
       "    <tr>\n",
       "      <th>4</th>\n",
       "      <td>91482</td>\n",
       "      <td>159</td>\n",
       "    </tr>\n",
       "    <tr>\n",
       "      <th>...</th>\n",
       "      <td>...</td>\n",
       "      <td>...</td>\n",
       "    </tr>\n",
       "    <tr>\n",
       "      <th>3935</th>\n",
       "      <td>95822</td>\n",
       "      <td>181</td>\n",
       "    </tr>\n",
       "    <tr>\n",
       "      <th>3936</th>\n",
       "      <td>95823</td>\n",
       "      <td>237</td>\n",
       "    </tr>\n",
       "    <tr>\n",
       "      <th>3937</th>\n",
       "      <td>95826</td>\n",
       "      <td>151</td>\n",
       "    </tr>\n",
       "    <tr>\n",
       "      <th>3938</th>\n",
       "      <td>95827</td>\n",
       "      <td>192</td>\n",
       "    </tr>\n",
       "    <tr>\n",
       "      <th>3939</th>\n",
       "      <td>99185</td>\n",
       "      <td>112</td>\n",
       "    </tr>\n",
       "  </tbody>\n",
       "</table>\n",
       "<p>3940 rows × 2 columns</p>\n",
       "</div>"
      ],
      "text/plain": [
       "      onbVoyageId  counts\n",
       "0           91478     189\n",
       "1           91479     148\n",
       "2           91480     348\n",
       "3           91481      56\n",
       "4           91482     159\n",
       "...           ...     ...\n",
       "3935        95822     181\n",
       "3936        95823     237\n",
       "3937        95826     151\n",
       "3938        95827     192\n",
       "3939        99185     112\n",
       "\n",
       "[3940 rows x 2 columns]"
      ]
     },
     "execution_count": 92,
     "metadata": {},
     "output_type": "execute_result"
    }
   ],
   "source": [
    "das_onboard_counts"
   ]
  },
  {
   "cell_type": "code",
   "execution_count": 59,
   "metadata": {},
   "outputs": [],
   "source": [
    "compare_counts = pd.merge(das_onboard_counts, contract_counts, left_on='onbVoyageId', right_on='outward_voyage_id')"
   ]
  },
  {
   "cell_type": "code",
   "execution_count": 62,
   "metadata": {},
   "outputs": [
    {
     "data": {
      "text/plain": [
       "<matplotlib.legend.Legend at 0x7fbb1a7094f0>"
      ]
     },
     "execution_count": 62,
     "metadata": {},
     "output_type": "execute_result"
    },
    {
     "data": {
      "image/png": "[encoded data removed]",
      "text/plain": [
       "<Figure size 640x480 with 1 Axes>"
      ]
     },
     "metadata": {},
     "output_type": "display_data"
    }
   ],
   "source": [
    "plt.hist(compare_counts['counts'].values, label='DAS', bins=100)\n",
    "plt.hist(compare_counts['vocop_id'].values, label='VOCOP', bins=100)\n",
    "plt.legend()"
   ]
  },
  {
   "cell_type": "code",
   "execution_count": 117,
   "metadata": {},
   "outputs": [],
   "source": [
    "## Impute missing values\n",
    "\n",
    "impute_missing = pd.DataFrame(outward_voyage_ids, columns=['outward_voyage_id'])\n"
   ]
  },
  {
   "cell_type": "code",
   "execution_count": 118,
   "metadata": {},
   "outputs": [],
   "source": [
    "impute_missing = pd.merge(impute_missing, das_onboard_counts, left_on ='outward_voyage_id', right_on='onbVoyageId', how='left')"
   ]
  },
  {
   "cell_type": "code",
   "execution_count": 123,
   "metadata": {},
   "outputs": [
    {
     "data": {
      "text/plain": [
       "-0.1660142401527538"
      ]
     },
     "execution_count": 123,
     "metadata": {},
     "output_type": "execute_result"
    }
   ],
   "source": [
    "skew(impute_missing['counts'])\n",
    "\n"
   ]
  },
  {
   "cell_type": "markdown",
   "metadata": {},
   "source": [
    "The distribution is slightly skewed, so we might as well take the median"
   ]
  },
  {
   "cell_type": "code",
   "execution_count": 113,
   "metadata": {},
   "outputs": [
    {
     "data": {
      "text/plain": [
       "969920.5197969542"
      ]
     },
     "execution_count": 113,
     "metadata": {},
     "output_type": "execute_result"
    }
   ],
   "source": [
    "# impute_missing['counts'].fillna(value=impute_missing['counts'].mean(), inplace=True)\n",
    "# impute_missing['counts'].sum()"
   ]
  },
  {
   "cell_type": "code",
   "execution_count": 124,
   "metadata": {},
   "outputs": [
    {
     "data": {
      "text/plain": [
       "972859.0"
      ]
     },
     "execution_count": 124,
     "metadata": {},
     "output_type": "execute_result"
    }
   ],
   "source": [
    "impute_missing['counts'].fillna(value=impute_missing['counts'].median(), inplace=True)\n",
    "impute_missing['counts'].sum()"
   ]
  },
  {
   "cell_type": "code",
   "execution_count": 133,
   "metadata": {},
   "outputs": [],
   "source": [
    "impute_missing = pd.merge(impute_missing, das[['voyId', 'voydepartureY']], left_on='outward_voyage_id', right_on=['voyId'])"
   ]
  },
  {
   "cell_type": "code",
   "execution_count": 136,
   "metadata": {},
   "outputs": [],
   "source": [
    "impute_missing[['outward_voyage_id', 'counts', 'voydepartureY']].to_csv('../data/seafarer_counts.csv', index=False)"
   ]
  },
  {
   "cell_type": "code",
   "execution_count": 137,
   "metadata": {},
   "outputs": [
    {
     "data": {
      "text/html": [
       "<div>\n",
       "<style scoped>\n",
       "    .dataframe tbody tr th:only-of-type {\n",
       "        vertical-align: middle;\n",
       "    }\n",
       "\n",
       "    .dataframe tbody tr th {\n",
       "        vertical-align: top;\n",
       "    }\n",
       "\n",
       "    .dataframe thead th {\n",
       "        text-align: right;\n",
       "    }\n",
       "</style>\n",
       "<table border=\"1\" class=\"dataframe\">\n",
       "  <thead>\n",
       "    <tr style=\"text-align: right;\">\n",
       "      <th></th>\n",
       "      <th>outward_voyage_id</th>\n",
       "      <th>onbVoyageId</th>\n",
       "      <th>counts</th>\n",
       "      <th>voyId</th>\n",
       "      <th>voydepartureY</th>\n",
       "    </tr>\n",
       "  </thead>\n",
       "  <tbody>\n",
       "    <tr>\n",
       "      <th>0</th>\n",
       "      <td>91651</td>\n",
       "      <td>NaN</td>\n",
       "      <td>230.0</td>\n",
       "      <td>91651</td>\n",
       "      <td>1640.0</td>\n",
       "    </tr>\n",
       "    <tr>\n",
       "      <th>1</th>\n",
       "      <td>91881</td>\n",
       "      <td>NaN</td>\n",
       "      <td>230.0</td>\n",
       "      <td>91881</td>\n",
       "      <td>1653.0</td>\n",
       "    </tr>\n",
       "    <tr>\n",
       "      <th>2</th>\n",
       "      <td>91473</td>\n",
       "      <td>NaN</td>\n",
       "      <td>230.0</td>\n",
       "      <td>91473</td>\n",
       "      <td>1633.0</td>\n",
       "    </tr>\n",
       "    <tr>\n",
       "      <th>3</th>\n",
       "      <td>91474</td>\n",
       "      <td>NaN</td>\n",
       "      <td>230.0</td>\n",
       "      <td>91474</td>\n",
       "      <td>1633.0</td>\n",
       "    </tr>\n",
       "    <tr>\n",
       "      <th>4</th>\n",
       "      <td>91475</td>\n",
       "      <td>NaN</td>\n",
       "      <td>230.0</td>\n",
       "      <td>91475</td>\n",
       "      <td>1633.0</td>\n",
       "    </tr>\n",
       "    <tr>\n",
       "      <th>...</th>\n",
       "      <td>...</td>\n",
       "      <td>...</td>\n",
       "      <td>...</td>\n",
       "      <td>...</td>\n",
       "      <td>...</td>\n",
       "    </tr>\n",
       "    <tr>\n",
       "      <th>4347</th>\n",
       "      <td>95823</td>\n",
       "      <td>95823.0</td>\n",
       "      <td>237.0</td>\n",
       "      <td>95823</td>\n",
       "      <td>1794.0</td>\n",
       "    </tr>\n",
       "    <tr>\n",
       "      <th>4348</th>\n",
       "      <td>95824</td>\n",
       "      <td>NaN</td>\n",
       "      <td>230.0</td>\n",
       "      <td>95824</td>\n",
       "      <td>1794.0</td>\n",
       "    </tr>\n",
       "    <tr>\n",
       "      <th>4349</th>\n",
       "      <td>95825</td>\n",
       "      <td>NaN</td>\n",
       "      <td>230.0</td>\n",
       "      <td>95825</td>\n",
       "      <td>1794.0</td>\n",
       "    </tr>\n",
       "    <tr>\n",
       "      <th>4350</th>\n",
       "      <td>95826</td>\n",
       "      <td>95826.0</td>\n",
       "      <td>151.0</td>\n",
       "      <td>95826</td>\n",
       "      <td>1794.0</td>\n",
       "    </tr>\n",
       "    <tr>\n",
       "      <th>4351</th>\n",
       "      <td>95827</td>\n",
       "      <td>95827.0</td>\n",
       "      <td>192.0</td>\n",
       "      <td>95827</td>\n",
       "      <td>1794.0</td>\n",
       "    </tr>\n",
       "  </tbody>\n",
       "</table>\n",
       "<p>4352 rows × 5 columns</p>\n",
       "</div>"
      ],
      "text/plain": [
       "      outward_voyage_id  onbVoyageId  counts  voyId  voydepartureY\n",
       "0                 91651          NaN   230.0  91651         1640.0\n",
       "1                 91881          NaN   230.0  91881         1653.0\n",
       "2                 91473          NaN   230.0  91473         1633.0\n",
       "3                 91474          NaN   230.0  91474         1633.0\n",
       "4                 91475          NaN   230.0  91475         1633.0\n",
       "...                 ...          ...     ...    ...            ...\n",
       "4347              95823      95823.0   237.0  95823         1794.0\n",
       "4348              95824          NaN   230.0  95824         1794.0\n",
       "4349              95825          NaN   230.0  95825         1794.0\n",
       "4350              95826      95826.0   151.0  95826         1794.0\n",
       "4351              95827      95827.0   192.0  95827         1794.0\n",
       "\n",
       "[4352 rows x 5 columns]"
      ]
     },
     "execution_count": 137,
     "metadata": {},
     "output_type": "execute_result"
    }
   ],
   "source": [
    "impute_missing"
   ]
  },
  {
   "cell_type": "markdown",
   "metadata": {},
   "source": []
  }
 ],
 "metadata": {
  "kernelspec": {
   "display_name": "Python 3.9.13 64-bit ('sailor')",
   "language": "python",
   "name": "python3"
  },
  "language_info": {
   "codemirror_mode": {
    "name": "ipython",
    "version": 3
   },
   "file_extension": ".py",
   "mimetype": "text/x-python",
   "name": "python",
   "nbconvert_exporter": "python",
   "pygments_lexer": "ipython3",
   "version": "3.9.13"
  },
  "orig_nbformat": 4,
  "vscode": {
   "interpreter": {
    "hash": "07fb87be3254d990fd3cd84ff6d33ad45e16685cc7a7b3622affa24dc68a13d5"
   }
  }
 },
 "nbformat": 4,
 "nbformat_minor": 2
}
