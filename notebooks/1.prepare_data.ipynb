{
 "cells": [
  {
   "cell_type": "markdown",
   "metadata": {},
   "source": [
    "# 1. Preparing Data"
   ]
  },
  {
   "cell_type": "code",
   "execution_count": 255,
   "metadata": {},
   "outputs": [],
   "source": [
    "import pandas as pd\n",
    "import numpy as np\n",
    "import matplotlib.pyplot as plt\n",
    "from scipy.stats import skew"
   ]
  },
  {
   "cell_type": "markdown",
   "metadata": {},
   "source": [
    "## Contract data"
   ]
  },
  {
   "cell_type": "code",
   "execution_count": 256,
   "metadata": {},
   "outputs": [
    {
     "data": {
      "text/html": [
       "<div>\n",
       "<style scoped>\n",
       "    .dataframe tbody tr th:only-of-type {\n",
       "        vertical-align: middle;\n",
       "    }\n",
       "\n",
       "    .dataframe tbody tr th {\n",
       "        vertical-align: top;\n",
       "    }\n",
       "\n",
       "    .dataframe thead th {\n",
       "        text-align: right;\n",
       "    }\n",
       "</style>\n",
       "<table border=\"1\" class=\"dataframe\">\n",
       "  <thead>\n",
       "    <tr style=\"text-align: right;\">\n",
       "      <th></th>\n",
       "      <th>vocop_id</th>\n",
       "      <th>full_name</th>\n",
       "      <th>first_name</th>\n",
       "      <th>patronymic</th>\n",
       "      <th>family_name_prefix</th>\n",
       "      <th>family_name</th>\n",
       "      <th>place_of_origin</th>\n",
       "      <th>place_id</th>\n",
       "      <th>disambiguated_person</th>\n",
       "      <th>person_cluster_id</th>\n",
       "      <th>...</th>\n",
       "      <th>changed_ship_at_cape_voyage_id</th>\n",
       "      <th>return_voyage_id</th>\n",
       "      <th>remark</th>\n",
       "      <th>source_id</th>\n",
       "      <th>scan_permalink</th>\n",
       "      <th>full_name_normalized</th>\n",
       "      <th>first_name_normalized</th>\n",
       "      <th>patronymic_normalized</th>\n",
       "      <th>family_name_prefix_normalized</th>\n",
       "      <th>family_name_normalized</th>\n",
       "    </tr>\n",
       "  </thead>\n",
       "  <tbody>\n",
       "    <tr>\n",
       "      <th>0</th>\n",
       "      <td>104944</td>\n",
       "      <td>Adriaen van Renteregem</td>\n",
       "      <td>Adriaen</td>\n",
       "      <td>NaN</td>\n",
       "      <td>van</td>\n",
       "      <td>Renteregem</td>\n",
       "      <td>Wassenaar</td>\n",
       "      <td>141865.0</td>\n",
       "      <td>1.0</td>\n",
       "      <td>415682.0</td>\n",
       "      <td>...</td>\n",
       "      <td>NaN</td>\n",
       "      <td>96993</td>\n",
       "      <td>NaN</td>\n",
       "      <td>3339</td>\n",
       "      <td>NL-HaNA_1.04.02_12674_0192.jpg</td>\n",
       "      <td>Adriaan van Renteregem</td>\n",
       "      <td>Adriaan</td>\n",
       "      <td>NaN</td>\n",
       "      <td>van</td>\n",
       "      <td>Renteregem</td>\n",
       "    </tr>\n",
       "    <tr>\n",
       "      <th>1</th>\n",
       "      <td>104945</td>\n",
       "      <td>Adriaen van der Meulen</td>\n",
       "      <td>Adriaen</td>\n",
       "      <td>NaN</td>\n",
       "      <td>van der</td>\n",
       "      <td>Meulen</td>\n",
       "      <td>Cooltiensplate</td>\n",
       "      <td>25576.0</td>\n",
       "      <td>1.0</td>\n",
       "      <td>406243.0</td>\n",
       "      <td>...</td>\n",
       "      <td>NaN</td>\n",
       "      <td>96942</td>\n",
       "      <td>NaN</td>\n",
       "      <td>3339</td>\n",
       "      <td>NL-HaNA_1.04.02_12674_0194.jpg</td>\n",
       "      <td>Adriaan van der Meul</td>\n",
       "      <td>Adriaan</td>\n",
       "      <td>NaN</td>\n",
       "      <td>van der</td>\n",
       "      <td>Meul</td>\n",
       "    </tr>\n",
       "    <tr>\n",
       "      <th>2</th>\n",
       "      <td>104946</td>\n",
       "      <td>Arnoldus Coutrel</td>\n",
       "      <td>Arnoldus</td>\n",
       "      <td>NaN</td>\n",
       "      <td>NaN</td>\n",
       "      <td>Coutrel</td>\n",
       "      <td>Antwerpen</td>\n",
       "      <td>6486.0</td>\n",
       "      <td>1.0</td>\n",
       "      <td>1.0</td>\n",
       "      <td>...</td>\n",
       "      <td>NaN</td>\n",
       "      <td>97025</td>\n",
       "      <td>NaN</td>\n",
       "      <td>3339</td>\n",
       "      <td>NL-HaNA_1.04.02_12674_0196.jpg</td>\n",
       "      <td>Arnoldus Koetrel</td>\n",
       "      <td>Arnoldus</td>\n",
       "      <td>NaN</td>\n",
       "      <td>NaN</td>\n",
       "      <td>Koetrel</td>\n",
       "    </tr>\n",
       "    <tr>\n",
       "      <th>3</th>\n",
       "      <td>104947</td>\n",
       "      <td>Albert Coolman</td>\n",
       "      <td>Albert</td>\n",
       "      <td>NaN</td>\n",
       "      <td>NaN</td>\n",
       "      <td>Coolman</td>\n",
       "      <td>Amsterdam</td>\n",
       "      <td>5532.0</td>\n",
       "      <td>1.0</td>\n",
       "      <td>77235.0</td>\n",
       "      <td>...</td>\n",
       "      <td>NaN</td>\n",
       "      <td>-1</td>\n",
       "      <td>NaN</td>\n",
       "      <td>3339</td>\n",
       "      <td>NL-HaNA_1.04.02_12674_0198.jpg</td>\n",
       "      <td>Albert Koolman</td>\n",
       "      <td>Albert</td>\n",
       "      <td>NaN</td>\n",
       "      <td>NaN</td>\n",
       "      <td>Koolman</td>\n",
       "    </tr>\n",
       "    <tr>\n",
       "      <th>4</th>\n",
       "      <td>104948</td>\n",
       "      <td>Anthonij Bonel</td>\n",
       "      <td>Anthonij</td>\n",
       "      <td>NaN</td>\n",
       "      <td>NaN</td>\n",
       "      <td>Bonel</td>\n",
       "      <td>Amsterdam</td>\n",
       "      <td>5532.0</td>\n",
       "      <td>1.0</td>\n",
       "      <td>65732.0</td>\n",
       "      <td>...</td>\n",
       "      <td>NaN</td>\n",
       "      <td>-1</td>\n",
       "      <td>NaN</td>\n",
       "      <td>3339</td>\n",
       "      <td>NL-HaNA_1.04.02_12674_0200.jpg</td>\n",
       "      <td>Antoni Bonel</td>\n",
       "      <td>Antoni</td>\n",
       "      <td>NaN</td>\n",
       "      <td>NaN</td>\n",
       "      <td>Bonel</td>\n",
       "    </tr>\n",
       "  </tbody>\n",
       "</table>\n",
       "<p>5 rows × 35 columns</p>\n",
       "</div>"
      ],
      "text/plain": [
       "   vocop_id               full_name first_name patronymic family_name_prefix  \\\n",
       "0    104944  Adriaen van Renteregem    Adriaen        NaN                van   \n",
       "1    104945  Adriaen van der Meulen    Adriaen        NaN            van der   \n",
       "2    104946        Arnoldus Coutrel   Arnoldus        NaN                NaN   \n",
       "3    104947          Albert Coolman     Albert        NaN                NaN   \n",
       "4    104948          Anthonij Bonel   Anthonij        NaN                NaN   \n",
       "\n",
       "  family_name place_of_origin  place_id  disambiguated_person  \\\n",
       "0  Renteregem       Wassenaar  141865.0                   1.0   \n",
       "1      Meulen  Cooltiensplate   25576.0                   1.0   \n",
       "2     Coutrel       Antwerpen    6486.0                   1.0   \n",
       "3     Coolman       Amsterdam    5532.0                   1.0   \n",
       "4       Bonel       Amsterdam    5532.0                   1.0   \n",
       "\n",
       "   person_cluster_id  ...  changed_ship_at_cape_voyage_id  return_voyage_id  \\\n",
       "0           415682.0  ...                             NaN             96993   \n",
       "1           406243.0  ...                             NaN             96942   \n",
       "2                1.0  ...                             NaN             97025   \n",
       "3            77235.0  ...                             NaN                -1   \n",
       "4            65732.0  ...                             NaN                -1   \n",
       "\n",
       "  remark  source_id                  scan_permalink    full_name_normalized  \\\n",
       "0    NaN       3339  NL-HaNA_1.04.02_12674_0192.jpg  Adriaan van Renteregem   \n",
       "1    NaN       3339  NL-HaNA_1.04.02_12674_0194.jpg    Adriaan van der Meul   \n",
       "2    NaN       3339  NL-HaNA_1.04.02_12674_0196.jpg        Arnoldus Koetrel   \n",
       "3    NaN       3339  NL-HaNA_1.04.02_12674_0198.jpg          Albert Koolman   \n",
       "4    NaN       3339  NL-HaNA_1.04.02_12674_0200.jpg            Antoni Bonel   \n",
       "\n",
       "  first_name_normalized patronymic_normalized family_name_prefix_normalized  \\\n",
       "0               Adriaan                   NaN                           van   \n",
       "1               Adriaan                   NaN                       van der   \n",
       "2              Arnoldus                   NaN                           NaN   \n",
       "3                Albert                   NaN                           NaN   \n",
       "4                Antoni                   NaN                           NaN   \n",
       "\n",
       "   family_name_normalized  \n",
       "0              Renteregem  \n",
       "1                    Meul  \n",
       "2                 Koetrel  \n",
       "3                 Koolman  \n",
       "4                   Bonel  \n",
       "\n",
       "[5 rows x 35 columns]"
      ]
     },
     "execution_count": 256,
     "metadata": {},
     "output_type": "execute_result"
    }
   ],
   "source": [
    "df = pd.read_csv('../data/raw/voc_person_contracts.csv.gz')\n",
    "df.head()"
   ]
  },
  {
   "cell_type": "code",
   "execution_count": 257,
   "metadata": {},
   "outputs": [
    {
     "name": "stdout",
     "output_type": "stream",
     "text": [
      "Total number of contracts: 774,200\n"
     ]
    }
   ],
   "source": [
    "print(f'Total number of contracts: {df.shape[0]:,}')"
   ]
  },
  {
   "cell_type": "markdown",
   "metadata": {},
   "source": [
    "### Variables\n",
    "\n",
    "- __vocop_id__: the unique id for each contract <br>\n",
    "- __disambiguated_person__: indicates whether the person is disambiguated (0 = no, 1 = yes). <br>\n",
    "- __person_cluster_id__: id that refers to unique person. If a person is disambiguated, multiple contracts can belong to one person <br>\n",
    "- __date_begin_contract__: start date of contract <br>\n",
    "- __outward_voyage_id__: unique id of outward voyage."
   ]
  },
  {
   "cell_type": "code",
   "execution_count": 258,
   "metadata": {},
   "outputs": [],
   "source": [
    "# select relevant columns\n",
    "\n",
    "df = df[['vocop_id', 'disambiguated_person', 'person_cluster_id', 'date_begin_contract', 'outward_voyage_id']]"
   ]
  },
  {
   "cell_type": "code",
   "execution_count": 259,
   "metadata": {},
   "outputs": [
    {
     "name": "stdout",
     "output_type": "stream",
     "text": [
      "Number of contacts with missing data in start date field: 257\n",
      "Number of disambiguated records: 546,973\n"
     ]
    }
   ],
   "source": [
    "# Remove contracts without a start data\n",
    "nans = df['date_begin_contract'].isnull().sum()\n",
    "print(f'Number of contacts with missing data in start date field: {nans}')\n",
    "df = df.dropna(subset=['date_begin_contract'])\n",
    "\n",
    "\n",
    "# Only select disambiguated records\n",
    "records = df.loc[df['disambiguated_person'] == 1, 'person_cluster_id'].astype(int).values\n",
    "print(f'Number of disambiguated records: {len(records):,}')\n",
    "\n",
    "# Construct year variable\n",
    "# Pandas does not like old dates, so rather than using Datetime, we extract it from the string\n",
    "df['year'] = df['date_begin_contract'].str.split('-', expand=True)[0].astype(int)\n",
    "df = df.sort_values(by='year')\n",
    "assert df[\"year\"].min() == 1633 and df[\"year\"].max() == 1794\n",
    "\n",
    "df.to_csv('../data/voyages_clean.csv', index=False)"
   ]
  },
  {
   "cell_type": "code",
   "execution_count": 260,
   "metadata": {},
   "outputs": [],
   "source": [
    "sailors_df = df[df['outward_voyage_id'] != 0]"
   ]
  },
  {
   "cell_type": "code",
   "execution_count": 261,
   "metadata": {},
   "outputs": [],
   "source": [
    "contract_counts = sailors_df.groupby('outward_voyage_id')['vocop_id'].count()"
   ]
  },
  {
   "cell_type": "markdown",
   "metadata": {},
   "source": [
    "# Dutch-Asiatic Shipping (DAS)"
   ]
  },
  {
   "cell_type": "code",
   "execution_count": 305,
   "metadata": {},
   "outputs": [
    {
     "name": "stdout",
     "output_type": "stream",
     "text": [
      "number of das records: 4787\n",
      "number of outward voyages: 4787\n"
     ]
    }
   ],
   "source": [
    "das = pd.read_excel('../data/raw/das.xlsx')\n",
    "\n",
    "das = das[das['voyRGPDeel'] == 166] #only outbound voyages\n",
    "#das = das[(das['voydepartureY'] >= 1633) & (das['voydepartureY'] <= 1794)] # same time period as contracts\n",
    "\n",
    "outward_voyage_ids = das['voyId'].values\n",
    "print(f'number of das records: {das.shape[0]}')\n",
    "\n",
    "print(f'number of outward voyages: {len(outward_voyage_ids)}')"
   ]
  },
  {
   "cell_type": "code",
   "execution_count": 306,
   "metadata": {},
   "outputs": [
    {
     "name": "stdout",
     "output_type": "stream",
     "text": [
      "These are the date ranges: [(1610, 1620), (1620, 1630), (1630, 1640), (1640, 1650), (1650, 1660), (1660, 1670), (1670, 1680), (1680, 1690), (1690, 1700), (1700, 1710), (1710, 1720), (1720, 1730), (1730, 1740), (1740, 1750), (1750, 1760), (1760, 1770), (1770, 1780), (1780, 1790), (1790, 1795), (1602, 1700), (1700, 1795), (1595, 1602), (1602, 1610)]\n"
     ]
    }
   ],
   "source": [
    "bins = list(range(1610, 1790, 10)) + [1790]\n",
    "date_ranges = [(bins[i-1], bins[i]) for i in range(1, len(bins))]\n",
    "date_ranges.append((1790, 1795))\n",
    "date_ranges.append((1602, 1700))\n",
    "date_ranges.append((1700, 1795))\n",
    "date_ranges.append((1595, 1602))\n",
    "date_ranges.append((1602, 1610))\n",
    "print(f'These are the date ranges: {date_ranges}')"
   ]
  },
  {
   "cell_type": "code",
   "execution_count": 307,
   "metadata": {},
   "outputs": [],
   "source": [
    "das_onboard = pd.read_excel('../data/raw/das.xlsx', sheet_name='onboard')\n",
    "das_onboard = das_onboard[das_onboard['onbVoyageId'].isin(outward_voyage_ids)] # select outbound vogages in time period"
   ]
  },
  {
   "cell_type": "markdown",
   "metadata": {},
   "source": [
    "- `onbI`: The number on board at departure. \n",
    "- `onbII`: The number dying between the Netherlands and the Cape. \n",
    "- `onbIII`: The number who left the ship at the Cape.  \n",
    "- `onbIV`: The number who came on board at the Cape.\n",
    "- `onbV`: The number dying on the whole voyage. \n",
    "- `onbVI`: The number on board on arrival in Asia.\n",
    "\n",
    "For our purposes, we only need `onbI` and `onbIV`. These columns contain dirty data, so we need to extract only the integers."
   ]
  },
  {
   "cell_type": "code",
   "execution_count": 308,
   "metadata": {},
   "outputs": [
    {
     "name": "stdout",
     "output_type": "stream",
     "text": [
      "4505\n"
     ]
    }
   ],
   "source": [
    "print(das_onboard['onbVoyageId'].nunique())\n",
    "\n",
    "# not all onboard records have voyage ids that match the information on year of departure and such. 4787 vs 4505"
   ]
  },
  {
   "cell_type": "code",
   "execution_count": 309,
   "metadata": {},
   "outputs": [],
   "source": [
    "das_onboard = pd.merge(das_onboard, das[['voyId', 'voydepartureY']], left_on='onbVoyageId', right_on='voyId').drop('voyId', axis=1)"
   ]
  },
  {
   "cell_type": "code",
   "execution_count": 310,
   "metadata": {},
   "outputs": [],
   "source": [
    "# table27_das = list()\n",
    "\n",
    "# for index, (start, end) in enumerate(date_ranges):\n",
    "#     d = {}\n",
    "#     df_slice = das_onboard[das_onboard['voydepartureY'].between(start, end, inclusive=\"left\")]\n",
    "#     ships = df_slice['onbVoyageId'].nunique()\n",
    "#     d[\"period\"] = f\"{start} - {end}\"\n",
    "#     d['ships'] = ships\n",
    "#     table27_das.append(d)"
   ]
  },
  {
   "cell_type": "code",
   "execution_count": 311,
   "metadata": {},
   "outputs": [],
   "source": [
    "# Select rows where onbI is either int or str (removing nans and some weird datetime object)\n",
    "das_onboard = das_onboard.loc[das_onboard['onbI'].apply(lambda x: isinstance(x, (int, str)))]\n",
    "\n",
    "das_onboard['onbI'] = das_onboard['onbI'].astype(str).str.extract('(\\d+)') #extract digits (400 / 500, +- 400)\n",
    "das_onboard['onbIV'] = das_onboard['onbIV'].astype(str).str.extract('(\\d+)')\n",
    "das_onboard['onbIV'] = das_onboard['onbIV'].fillna(0) #fill missing with 0 so that we can more easily add them together"
   ]
  },
  {
   "cell_type": "code",
   "execution_count": 312,
   "metadata": {},
   "outputs": [
    {
     "name": "stdout",
     "output_type": "stream",
     "text": [
      "4181\n"
     ]
    }
   ],
   "source": [
    "das_onboard.shape[0]\n",
    "print(das_onboard['onbVoyageId'].nunique())"
   ]
  },
  {
   "cell_type": "code",
   "execution_count": 313,
   "metadata": {},
   "outputs": [
    {
     "data": {
      "text/plain": [
       "Seafarers     2912\n",
       "Soldiers      2631\n",
       "Passengers    1703\n",
       "Craftsmen     1308\n",
       "Total         1268\n",
       "Name: onbCategory, dtype: int64"
      ]
     },
     "execution_count": 313,
     "metadata": {},
     "output_type": "execute_result"
    }
   ],
   "source": [
    "das_onboard['onbCategory'].value_counts()"
   ]
  },
  {
   "cell_type": "code",
   "execution_count": 314,
   "metadata": {},
   "outputs": [],
   "source": [
    "# das_onboard = pd.merge(das_onboard, das[['voyId', 'voydepartureY']], left_on='onbVoyageId', right_on='voyId').drop('voyId', axis=1)"
   ]
  },
  {
   "cell_type": "markdown",
   "metadata": {},
   "source": [
    "The contracts include seafarers, soldiers and craftsmen. We need to remove the passengers"
   ]
  },
  {
   "cell_type": "code",
   "execution_count": 315,
   "metadata": {},
   "outputs": [
    {
     "data": {
      "text/html": [
       "<div>\n",
       "<style scoped>\n",
       "    .dataframe tbody tr th:only-of-type {\n",
       "        vertical-align: middle;\n",
       "    }\n",
       "\n",
       "    .dataframe tbody tr th {\n",
       "        vertical-align: top;\n",
       "    }\n",
       "\n",
       "    .dataframe thead th {\n",
       "        text-align: right;\n",
       "    }\n",
       "</style>\n",
       "<table border=\"1\" class=\"dataframe\">\n",
       "  <thead>\n",
       "    <tr style=\"text-align: right;\">\n",
       "      <th></th>\n",
       "      <th>onbId</th>\n",
       "      <th>onbVoyageId</th>\n",
       "      <th>onbCategory</th>\n",
       "      <th>onbI</th>\n",
       "      <th>onbII</th>\n",
       "      <th>onbIII</th>\n",
       "      <th>onbIV</th>\n",
       "      <th>onbV</th>\n",
       "      <th>onbVI</th>\n",
       "      <th>voydepartureY</th>\n",
       "    </tr>\n",
       "  </thead>\n",
       "  <tbody>\n",
       "    <tr>\n",
       "      <th>0</th>\n",
       "      <td>604755</td>\n",
       "      <td>91055</td>\n",
       "      <td>Total</td>\n",
       "      <td>59</td>\n",
       "      <td>NaN</td>\n",
       "      <td>NaN</td>\n",
       "      <td>0</td>\n",
       "      <td>NaN</td>\n",
       "      <td>NaN</td>\n",
       "      <td>1595.0</td>\n",
       "    </tr>\n",
       "    <tr>\n",
       "      <th>1</th>\n",
       "      <td>604760</td>\n",
       "      <td>91056</td>\n",
       "      <td>Total</td>\n",
       "      <td>20</td>\n",
       "      <td>NaN</td>\n",
       "      <td>NaN</td>\n",
       "      <td>0</td>\n",
       "      <td>NaN</td>\n",
       "      <td>NaN</td>\n",
       "      <td>1595.0</td>\n",
       "    </tr>\n",
       "    <tr>\n",
       "      <th>2</th>\n",
       "      <td>604765</td>\n",
       "      <td>91057</td>\n",
       "      <td>Total</td>\n",
       "      <td>85</td>\n",
       "      <td>NaN</td>\n",
       "      <td>NaN</td>\n",
       "      <td>0</td>\n",
       "      <td>NaN</td>\n",
       "      <td>NaN</td>\n",
       "      <td>1595.0</td>\n",
       "    </tr>\n",
       "    <tr>\n",
       "      <th>3</th>\n",
       "      <td>604770</td>\n",
       "      <td>91058</td>\n",
       "      <td>Total</td>\n",
       "      <td>85</td>\n",
       "      <td>NaN</td>\n",
       "      <td>NaN</td>\n",
       "      <td>0</td>\n",
       "      <td>NaN</td>\n",
       "      <td>NaN</td>\n",
       "      <td>1595.0</td>\n",
       "    </tr>\n",
       "    <tr>\n",
       "      <th>4</th>\n",
       "      <td>604775</td>\n",
       "      <td>91059</td>\n",
       "      <td>Total</td>\n",
       "      <td>75</td>\n",
       "      <td>NaN</td>\n",
       "      <td>NaN</td>\n",
       "      <td>0</td>\n",
       "      <td>NaN</td>\n",
       "      <td>NaN</td>\n",
       "      <td>1598.0</td>\n",
       "    </tr>\n",
       "    <tr>\n",
       "      <th>...</th>\n",
       "      <td>...</td>\n",
       "      <td>...</td>\n",
       "      <td>...</td>\n",
       "      <td>...</td>\n",
       "      <td>...</td>\n",
       "      <td>...</td>\n",
       "      <td>...</td>\n",
       "      <td>...</td>\n",
       "      <td>...</td>\n",
       "      <td>...</td>\n",
       "    </tr>\n",
       "    <tr>\n",
       "      <th>10576</th>\n",
       "      <td>645576</td>\n",
       "      <td>93086</td>\n",
       "      <td>Seafarers</td>\n",
       "      <td>122</td>\n",
       "      <td>5</td>\n",
       "      <td>2</td>\n",
       "      <td>0</td>\n",
       "      <td>5</td>\n",
       "      <td>104</td>\n",
       "      <td>1707.0</td>\n",
       "    </tr>\n",
       "    <tr>\n",
       "      <th>10577</th>\n",
       "      <td>645577</td>\n",
       "      <td>93086</td>\n",
       "      <td>Soldiers</td>\n",
       "      <td>38</td>\n",
       "      <td>NaN</td>\n",
       "      <td>1</td>\n",
       "      <td>0</td>\n",
       "      <td>1</td>\n",
       "      <td>25</td>\n",
       "      <td>1707.0</td>\n",
       "    </tr>\n",
       "    <tr>\n",
       "      <th>10578</th>\n",
       "      <td>645580</td>\n",
       "      <td>93091</td>\n",
       "      <td>Total</td>\n",
       "      <td>200</td>\n",
       "      <td>22</td>\n",
       "      <td>NaN</td>\n",
       "      <td>0</td>\n",
       "      <td>NaN</td>\n",
       "      <td>NaN</td>\n",
       "      <td>1707.0</td>\n",
       "    </tr>\n",
       "    <tr>\n",
       "      <th>10579</th>\n",
       "      <td>645583</td>\n",
       "      <td>93094</td>\n",
       "      <td>Total</td>\n",
       "      <td>100</td>\n",
       "      <td>NaN</td>\n",
       "      <td>NaN</td>\n",
       "      <td>0</td>\n",
       "      <td>NaN</td>\n",
       "      <td>NaN</td>\n",
       "      <td>1707.0</td>\n",
       "    </tr>\n",
       "    <tr>\n",
       "      <th>10580</th>\n",
       "      <td>645708</td>\n",
       "      <td>91238</td>\n",
       "      <td>NaN</td>\n",
       "      <td>213</td>\n",
       "      <td>NaN</td>\n",
       "      <td>NaN</td>\n",
       "      <td>0</td>\n",
       "      <td>NaN</td>\n",
       "      <td>NaN</td>\n",
       "      <td>1616.0</td>\n",
       "    </tr>\n",
       "  </tbody>\n",
       "</table>\n",
       "<p>9823 rows × 10 columns</p>\n",
       "</div>"
      ],
      "text/plain": [
       "        onbId  onbVoyageId onbCategory onbI onbII onbIII onbIV onbV onbVI  \\\n",
       "0      604755        91055       Total   59   NaN    NaN     0  NaN   NaN   \n",
       "1      604760        91056       Total   20   NaN    NaN     0  NaN   NaN   \n",
       "2      604765        91057       Total   85   NaN    NaN     0  NaN   NaN   \n",
       "3      604770        91058       Total   85   NaN    NaN     0  NaN   NaN   \n",
       "4      604775        91059       Total   75   NaN    NaN     0  NaN   NaN   \n",
       "...       ...          ...         ...  ...   ...    ...   ...  ...   ...   \n",
       "10576  645576        93086   Seafarers  122     5      2     0    5   104   \n",
       "10577  645577        93086    Soldiers   38   NaN      1     0    1    25   \n",
       "10578  645580        93091       Total  200    22    NaN     0  NaN   NaN   \n",
       "10579  645583        93094       Total  100   NaN    NaN     0  NaN   NaN   \n",
       "10580  645708        91238         NaN  213   NaN    NaN     0  NaN   NaN   \n",
       "\n",
       "       voydepartureY  \n",
       "0             1595.0  \n",
       "1             1595.0  \n",
       "2             1595.0  \n",
       "3             1595.0  \n",
       "4             1598.0  \n",
       "...              ...  \n",
       "10576         1707.0  \n",
       "10577         1707.0  \n",
       "10578         1707.0  \n",
       "10579         1707.0  \n",
       "10580         1616.0  \n",
       "\n",
       "[9823 rows x 10 columns]"
      ]
     },
     "execution_count": 315,
     "metadata": {},
     "output_type": "execute_result"
    }
   ],
   "source": [
    "das_onboard"
   ]
  },
  {
   "cell_type": "code",
   "execution_count": 316,
   "metadata": {},
   "outputs": [],
   "source": [
    "das_onboard['counts'] = das_onboard['onbI'].astype(int).add(das_onboard['onbIV'].astype(int))"
   ]
  },
  {
   "cell_type": "code",
   "execution_count": 320,
   "metadata": {},
   "outputs": [
    {
     "data": {
      "text/html": [
       "<div>\n",
       "<style scoped>\n",
       "    .dataframe tbody tr th:only-of-type {\n",
       "        vertical-align: middle;\n",
       "    }\n",
       "\n",
       "    .dataframe tbody tr th {\n",
       "        vertical-align: top;\n",
       "    }\n",
       "\n",
       "    .dataframe thead th {\n",
       "        text-align: right;\n",
       "    }\n",
       "</style>\n",
       "<table border=\"1\" class=\"dataframe\">\n",
       "  <thead>\n",
       "    <tr style=\"text-align: right;\">\n",
       "      <th></th>\n",
       "      <th>onbId</th>\n",
       "      <th>onbVoyageId</th>\n",
       "      <th>onbCategory</th>\n",
       "      <th>onbI</th>\n",
       "      <th>onbII</th>\n",
       "      <th>onbIII</th>\n",
       "      <th>onbIV</th>\n",
       "      <th>onbV</th>\n",
       "      <th>onbVI</th>\n",
       "      <th>voydepartureY</th>\n",
       "      <th>counts</th>\n",
       "    </tr>\n",
       "  </thead>\n",
       "  <tbody>\n",
       "    <tr>\n",
       "      <th>187</th>\n",
       "      <td>606340</td>\n",
       "      <td>91356</td>\n",
       "      <td>Seafarers</td>\n",
       "      <td>160</td>\n",
       "      <td>NaN</td>\n",
       "      <td>NaN</td>\n",
       "      <td>0</td>\n",
       "      <td>31</td>\n",
       "      <td>129</td>\n",
       "      <td>1625.0</td>\n",
       "      <td>160</td>\n",
       "    </tr>\n",
       "    <tr>\n",
       "      <th>188</th>\n",
       "      <td>606341</td>\n",
       "      <td>91356</td>\n",
       "      <td>Soldiers</td>\n",
       "      <td>69</td>\n",
       "      <td>NaN</td>\n",
       "      <td>NaN</td>\n",
       "      <td>0</td>\n",
       "      <td>32</td>\n",
       "      <td>37</td>\n",
       "      <td>1625.0</td>\n",
       "      <td>69</td>\n",
       "    </tr>\n",
       "    <tr>\n",
       "      <th>189</th>\n",
       "      <td>606342</td>\n",
       "      <td>91356</td>\n",
       "      <td>Passengers</td>\n",
       "      <td>17</td>\n",
       "      <td>NaN</td>\n",
       "      <td>NaN</td>\n",
       "      <td>0</td>\n",
       "      <td>4</td>\n",
       "      <td>13</td>\n",
       "      <td>1625.0</td>\n",
       "      <td>17</td>\n",
       "    </tr>\n",
       "  </tbody>\n",
       "</table>\n",
       "</div>"
      ],
      "text/plain": [
       "      onbId  onbVoyageId onbCategory onbI onbII onbIII onbIV onbV onbVI  \\\n",
       "187  606340        91356   Seafarers  160   NaN    NaN     0   31   129   \n",
       "188  606341        91356    Soldiers   69   NaN    NaN     0   32    37   \n",
       "189  606342        91356  Passengers   17   NaN    NaN     0    4    13   \n",
       "\n",
       "     voydepartureY  counts  \n",
       "187         1625.0     160  \n",
       "188         1625.0      69  \n",
       "189         1625.0      17  "
      ]
     },
     "execution_count": 320,
     "metadata": {},
     "output_type": "execute_result"
    }
   ],
   "source": [
    "das_onboard[das_onboard['onbVoyageId'] == 91356]"
   ]
  },
  {
   "cell_type": "code",
   "execution_count": 302,
   "metadata": {},
   "outputs": [],
   "source": [
    "das_onboard = das_onboard[das_onboard['onbCategory'] != 'Passengers']"
   ]
  },
  {
   "cell_type": "code",
   "execution_count": 303,
   "metadata": {},
   "outputs": [],
   "source": [
    "das_onboard['counts_without_passengers'] = das_onboard['onbI'].astype(int).add(das_onboard['onbIV'].astype(int))"
   ]
  },
  {
   "cell_type": "code",
   "execution_count": 325,
   "metadata": {},
   "outputs": [],
   "source": [
    "import math\n",
    "table27_das = list()\n",
    "\n",
    "das_onboard = das_onboard[das_onboard['onbVoyageId'] != 93096]\n",
    "das_onboard = das_onboard[das_onboard['onbVoyageId'] != 93096]\n",
    "\n",
    "for index, (start, end) in enumerate(date_ranges):\n",
    "    d = {}\n",
    "    df_slice = das_onboard[das_onboard['voydepartureY'].between(start, end, inclusive=\"left\")]\n",
    "    ships = df_slice['onbVoyageId'].nunique()\n",
    "    voyagers = df_slice['counts'].sum()\n",
    "    voyagers_without_passengers = df_slice[df_slice['onbCategory'] != 'Passengers']['counts'].sum()\n",
    "    voyagers = int(math.ceil(voyagers / 100.0)) * 100\n",
    "    voyagers_without_passengers = int(math.ceil(voyagers_without_passengers / 100.0)) * 100\n",
    "    d[\"period\"] = f\"{start} - {end}\"\n",
    "    d['ships'] = ships\n",
    "    d['voyages'] = voyagers\n",
    "    d['voyages_no_pass'] = voyagers_without_passengers\n",
    "    try:\n",
    "        average = voyagers / ships\n",
    "        average_no_pass = voyagers_without_passengers / ships\n",
    "    except Exception:\n",
    "        average = np.nan\n",
    "    d['average'] = np.round(average, 1)\n",
    "    d['average_no_pass'] = np.round(average_no_pass, 1)\n",
    "    table27_das.append(d)"
   ]
  },
  {
   "cell_type": "code",
   "execution_count": 326,
   "metadata": {},
   "outputs": [
    {
     "data": {
      "text/plain": [
       "[{'period': '1610 - 1620',\n",
       "  'ships': 61,\n",
       "  'voyages': 9600,\n",
       "  'voyages_no_pass': 9600,\n",
       "  'average': 157.4,\n",
       "  'average_no_pass': 157.4},\n",
       " {'period': '1620 - 1630',\n",
       "  'ships': 96,\n",
       "  'voyages': 16900,\n",
       "  'voyages_no_pass': 16700,\n",
       "  'average': 176.0,\n",
       "  'average_no_pass': 174.0},\n",
       " {'period': '1630 - 1640',\n",
       "  'ships': 22,\n",
       "  'voyages': 4300,\n",
       "  'voyages_no_pass': 4300,\n",
       "  'average': 195.5,\n",
       "  'average_no_pass': 195.5},\n",
       " {'period': '1640 - 1650',\n",
       "  'ships': 25,\n",
       "  'voyages': 5200,\n",
       "  'voyages_no_pass': 5200,\n",
       "  'average': 208.0,\n",
       "  'average_no_pass': 208.0},\n",
       " {'period': '1650 - 1660',\n",
       "  'ships': 97,\n",
       "  'voyages': 20300,\n",
       "  'voyages_no_pass': 20200,\n",
       "  'average': 209.3,\n",
       "  'average_no_pass': 208.2},\n",
       " {'period': '1660 - 1670',\n",
       "  'ships': 231,\n",
       "  'voyages': 41400,\n",
       "  'voyages_no_pass': 40500,\n",
       "  'average': 179.2,\n",
       "  'average_no_pass': 175.3},\n",
       " {'period': '1670 - 1680',\n",
       "  'ships': 214,\n",
       "  'voyages': 41400,\n",
       "  'voyages_no_pass': 40400,\n",
       "  'average': 193.5,\n",
       "  'average_no_pass': 188.8},\n",
       " {'period': '1680 - 1690',\n",
       "  'ships': 202,\n",
       "  'voyages': 39200,\n",
       "  'voyages_no_pass': 38100,\n",
       "  'average': 194.1,\n",
       "  'average_no_pass': 188.6},\n",
       " {'period': '1690 - 1700',\n",
       "  'ships': 231,\n",
       "  'voyages': 45600,\n",
       "  'voyages_no_pass': 44700,\n",
       "  'average': 197.4,\n",
       "  'average_no_pass': 193.5},\n",
       " {'period': '1700 - 1710',\n",
       "  'ships': 270,\n",
       "  'voyages': 51100,\n",
       "  'voyages_no_pass': 49900,\n",
       "  'average': 189.3,\n",
       "  'average_no_pass': 184.8},\n",
       " {'period': '1710 - 1720',\n",
       "  'ships': 316,\n",
       "  'voyages': 63900,\n",
       "  'voyages_no_pass': 63000,\n",
       "  'average': 202.2,\n",
       "  'average_no_pass': 199.4},\n",
       " {'period': '1720 - 1730',\n",
       "  'ships': 377,\n",
       "  'voyages': 74300,\n",
       "  'voyages_no_pass': 74000,\n",
       "  'average': 197.1,\n",
       "  'average_no_pass': 196.3},\n",
       " {'period': '1730 - 1740',\n",
       "  'ships': 375,\n",
       "  'voyages': 80700,\n",
       "  'voyages_no_pass': 80100,\n",
       "  'average': 215.2,\n",
       "  'average_no_pass': 213.6},\n",
       " {'period': '1740 - 1750',\n",
       "  'ships': 311,\n",
       "  'voyages': 77000,\n",
       "  'voyages_no_pass': 76400,\n",
       "  'average': 247.6,\n",
       "  'average_no_pass': 245.7},\n",
       " {'period': '1750 - 1760',\n",
       "  'ships': 288,\n",
       "  'voyages': 82800,\n",
       "  'voyages_no_pass': 82100,\n",
       "  'average': 287.5,\n",
       "  'average_no_pass': 285.1},\n",
       " {'period': '1760 - 1770',\n",
       "  'ships': 295,\n",
       "  'voyages': 89100,\n",
       "  'voyages_no_pass': 88700,\n",
       "  'average': 302.0,\n",
       "  'average_no_pass': 300.7},\n",
       " {'period': '1770 - 1780',\n",
       "  'ships': 290,\n",
       "  'voyages': 79200,\n",
       "  'voyages_no_pass': 79000,\n",
       "  'average': 273.1,\n",
       "  'average_no_pass': 272.4},\n",
       " {'period': '1780 - 1790',\n",
       "  'ships': 284,\n",
       "  'voyages': 60700,\n",
       "  'voyages_no_pass': 60500,\n",
       "  'average': 213.7,\n",
       "  'average_no_pass': 213.0},\n",
       " {'period': '1790 - 1795',\n",
       "  'ships': 122,\n",
       "  'voyages': 25200,\n",
       "  'voyages_no_pass': 24800,\n",
       "  'average': 206.6,\n",
       "  'average_no_pass': 203.3},\n",
       " {'period': '1602 - 1700',\n",
       "  'ships': 1220,\n",
       "  'voyages': 228000,\n",
       "  'voyages_no_pass': 223700,\n",
       "  'average': 186.9,\n",
       "  'average_no_pass': 183.4},\n",
       " {'period': '1700 - 1795',\n",
       "  'ships': 2928,\n",
       "  'voyages': 683500,\n",
       "  'voyages_no_pass': 678200,\n",
       "  'average': 233.4,\n",
       "  'average_no_pass': 231.6},\n",
       " {'period': '1595 - 1602',\n",
       "  'ships': 30,\n",
       "  'voyages': 2500,\n",
       "  'voyages_no_pass': 2500,\n",
       "  'average': 83.3,\n",
       "  'average_no_pass': 83.3},\n",
       " {'period': '1602 - 1610',\n",
       "  'ships': 41,\n",
       "  'voyages': 4600,\n",
       "  'voyages_no_pass': 4600,\n",
       "  'average': 112.2,\n",
       "  'average_no_pass': 112.2}]"
      ]
     },
     "execution_count": 326,
     "metadata": {},
     "output_type": "execute_result"
    }
   ],
   "source": [
    "table27_das"
   ]
  },
  {
   "cell_type": "code",
   "execution_count": 89,
   "metadata": {},
   "outputs": [],
   "source": [
    "das_onboard = das_onboard[['onbVoyageId', 'counts']]\n",
    "\n",
    "# remove extreme values \n",
    "# TODO: I'm not sure what a reasonable low count is. There's quite a few with 25 people on board\n",
    "das_onboard = das_onboard[das_onboard['onbVoyageId'] != 93096]\n",
    "das_onboard = das_onboard[das_onboard['onbVoyageId'] != 93096]\n",
    "das_onboard = das_onboard[das_onboard['counts'] != 0]"
   ]
  },
  {
   "cell_type": "code",
   "execution_count": 90,
   "metadata": {},
   "outputs": [],
   "source": [
    "das_onboard_counts = das_onboard.groupby('onbVoyageId')['counts'].sum().reset_index()"
   ]
  },
  {
   "cell_type": "code",
   "execution_count": 91,
   "metadata": {},
   "outputs": [],
   "source": [
    "compare_counts = pd.merge(das_onboard_counts, contract_counts, left_on='onbVoyageId', right_on='outward_voyage_id')"
   ]
  },
  {
   "cell_type": "code",
   "execution_count": 92,
   "metadata": {},
   "outputs": [
    {
     "data": {
      "text/plain": [
       "<matplotlib.legend.Legend at 0x7f9a68501430>"
      ]
     },
     "execution_count": 92,
     "metadata": {},
     "output_type": "execute_result"
    },
    {
     "data": {
      "image/png": "[encoded data removed]",
      "text/plain": [
       "<Figure size 640x480 with 1 Axes>"
      ]
     },
     "metadata": {},
     "output_type": "display_data"
    }
   ],
   "source": [
    "plt.hist(compare_counts['counts'].values, label='DAS', bins=100)\n",
    "plt.hist(compare_counts['vocop_id'].values, label='VOCOP', bins=100)\n",
    "plt.legend()"
   ]
  },
  {
   "cell_type": "code",
   "execution_count": 93,
   "metadata": {},
   "outputs": [
    {
     "data": {
      "text/plain": [
       "-0.1065940027718685"
      ]
     },
     "execution_count": 93,
     "metadata": {},
     "output_type": "execute_result"
    }
   ],
   "source": [
    "skew(compare_counts['counts'])"
   ]
  },
  {
   "cell_type": "markdown",
   "metadata": {},
   "source": [
    "The distribution is slightly skewed, so we might as well take the median"
   ]
  },
  {
   "cell_type": "code",
   "execution_count": 94,
   "metadata": {},
   "outputs": [],
   "source": [
    "## Impute missing values\n",
    "impute_missing = pd.DataFrame(outward_voyage_ids, columns=['outward_voyage_id'])"
   ]
  },
  {
   "cell_type": "code",
   "execution_count": 95,
   "metadata": {},
   "outputs": [],
   "source": [
    "impute_missing = pd.merge(\n",
    "    impute_missing, das_onboard_counts, left_on ='outward_voyage_id', right_on='onbVoyageId', how='left')"
   ]
  },
  {
   "cell_type": "code",
   "execution_count": 96,
   "metadata": {},
   "outputs": [],
   "source": [
    "# impute_missing['counts'].fillna(value=impute_missing['counts'].mean(), inplace=True)\n",
    "# impute_missing['counts'].sum()"
   ]
  },
  {
   "cell_type": "code",
   "execution_count": 97,
   "metadata": {},
   "outputs": [
    {
     "data": {
      "text/plain": [
       "962398.0"
      ]
     },
     "execution_count": 97,
     "metadata": {},
     "output_type": "execute_result"
    }
   ],
   "source": [
    "impute_missing['counts'].fillna(value=impute_missing['counts'].median(), inplace=True)\n",
    "impute_missing['counts'].sum()"
   ]
  },
  {
   "cell_type": "code",
   "execution_count": 98,
   "metadata": {},
   "outputs": [],
   "source": [
    "# add voyage ID and year of departure to dataframe\n",
    "impute_missing = pd.merge(impute_missing, das[['voyId', 'voydepartureY']], left_on='outward_voyage_id', right_on=['voyId'])\n",
    "impute_missing[['outward_voyage_id', 'counts', 'voydepartureY']].to_csv('../data/seafarer_counts.csv', index=False)"
   ]
  },
  {
   "cell_type": "code",
   "execution_count": 99,
   "metadata": {},
   "outputs": [],
   "source": []
  },
  {
   "cell_type": "code",
   "execution_count": null,
   "metadata": {},
   "outputs": [],
   "source": []
  }
 ],
 "metadata": {
  "kernelspec": {
   "display_name": "Python 3 (ipykernel)",
   "language": "python",
   "name": "python3"
  },
  "language_info": {
   "codemirror_mode": {
    "name": "ipython",
    "version": 3
   },
   "file_extension": ".py",
   "mimetype": "text/x-python",
   "name": "python",
   "nbconvert_exporter": "python",
   "pygments_lexer": "ipython3",
   "version": "3.9.13"
  },
  "vscode": {
   "interpreter": {
    "hash": "07fb87be3254d990fd3cd84ff6d33ad45e16685cc7a7b3622affa24dc68a13d5"
   }
  }
 },
 "nbformat": 4,
 "nbformat_minor": 4
}
