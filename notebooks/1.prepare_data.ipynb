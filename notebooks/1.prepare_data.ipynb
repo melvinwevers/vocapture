{
 "cells": [
  {
   "cell_type": "markdown",
   "metadata": {},
   "source": [
    "# 1. Preparing Data"
   ]
  },
  {
   "cell_type": "code",
   "execution_count": 3,
   "metadata": {},
   "outputs": [],
   "source": [
    "import pandas as pd\n",
    "import math\n",
    "import numpy as np\n",
    "import matplotlib.pyplot as plt\n",
    "from scipy.stats import skew, ks_2samp"
   ]
  },
  {
   "cell_type": "markdown",
   "metadata": {},
   "source": [
    "## Contract data"
   ]
  },
  {
   "cell_type": "code",
   "execution_count": 4,
   "metadata": {},
   "outputs": [
    {
     "data": {
      "text/html": [
       "<div>\n",
       "<style scoped>\n",
       "    .dataframe tbody tr th:only-of-type {\n",
       "        vertical-align: middle;\n",
       "    }\n",
       "\n",
       "    .dataframe tbody tr th {\n",
       "        vertical-align: top;\n",
       "    }\n",
       "\n",
       "    .dataframe thead th {\n",
       "        text-align: right;\n",
       "    }\n",
       "</style>\n",
       "<table border=\"1\" class=\"dataframe\">\n",
       "  <thead>\n",
       "    <tr style=\"text-align: right;\">\n",
       "      <th></th>\n",
       "      <th>vocop_id</th>\n",
       "      <th>full_name</th>\n",
       "      <th>first_name</th>\n",
       "      <th>patronymic</th>\n",
       "      <th>family_name_prefix</th>\n",
       "      <th>family_name</th>\n",
       "      <th>place_of_origin</th>\n",
       "      <th>place_id</th>\n",
       "      <th>disambiguated_person</th>\n",
       "      <th>person_cluster_id</th>\n",
       "      <th>...</th>\n",
       "      <th>changed_ship_at_cape_voyage_id</th>\n",
       "      <th>return_voyage_id</th>\n",
       "      <th>remark</th>\n",
       "      <th>source_id</th>\n",
       "      <th>scan_permalink</th>\n",
       "      <th>full_name_normalized</th>\n",
       "      <th>first_name_normalized</th>\n",
       "      <th>patronymic_normalized</th>\n",
       "      <th>family_name_prefix_normalized</th>\n",
       "      <th>family_name_normalized</th>\n",
       "    </tr>\n",
       "  </thead>\n",
       "  <tbody>\n",
       "    <tr>\n",
       "      <th>0</th>\n",
       "      <td>104944</td>\n",
       "      <td>Adriaen van Renteregem</td>\n",
       "      <td>Adriaen</td>\n",
       "      <td>NaN</td>\n",
       "      <td>van</td>\n",
       "      <td>Renteregem</td>\n",
       "      <td>Wassenaar</td>\n",
       "      <td>141865.0</td>\n",
       "      <td>1.0</td>\n",
       "      <td>415682.0</td>\n",
       "      <td>...</td>\n",
       "      <td>NaN</td>\n",
       "      <td>96993</td>\n",
       "      <td>NaN</td>\n",
       "      <td>3339</td>\n",
       "      <td>NL-HaNA_1.04.02_12674_0192.jpg</td>\n",
       "      <td>Adriaan van Renteregem</td>\n",
       "      <td>Adriaan</td>\n",
       "      <td>NaN</td>\n",
       "      <td>van</td>\n",
       "      <td>Renteregem</td>\n",
       "    </tr>\n",
       "    <tr>\n",
       "      <th>1</th>\n",
       "      <td>104945</td>\n",
       "      <td>Adriaen van der Meulen</td>\n",
       "      <td>Adriaen</td>\n",
       "      <td>NaN</td>\n",
       "      <td>van der</td>\n",
       "      <td>Meulen</td>\n",
       "      <td>Cooltiensplate</td>\n",
       "      <td>25576.0</td>\n",
       "      <td>1.0</td>\n",
       "      <td>406243.0</td>\n",
       "      <td>...</td>\n",
       "      <td>NaN</td>\n",
       "      <td>96942</td>\n",
       "      <td>NaN</td>\n",
       "      <td>3339</td>\n",
       "      <td>NL-HaNA_1.04.02_12674_0194.jpg</td>\n",
       "      <td>Adriaan van der Meul</td>\n",
       "      <td>Adriaan</td>\n",
       "      <td>NaN</td>\n",
       "      <td>van der</td>\n",
       "      <td>Meul</td>\n",
       "    </tr>\n",
       "    <tr>\n",
       "      <th>2</th>\n",
       "      <td>104946</td>\n",
       "      <td>Arnoldus Coutrel</td>\n",
       "      <td>Arnoldus</td>\n",
       "      <td>NaN</td>\n",
       "      <td>NaN</td>\n",
       "      <td>Coutrel</td>\n",
       "      <td>Antwerpen</td>\n",
       "      <td>6486.0</td>\n",
       "      <td>1.0</td>\n",
       "      <td>1.0</td>\n",
       "      <td>...</td>\n",
       "      <td>NaN</td>\n",
       "      <td>97025</td>\n",
       "      <td>NaN</td>\n",
       "      <td>3339</td>\n",
       "      <td>NL-HaNA_1.04.02_12674_0196.jpg</td>\n",
       "      <td>Arnoldus Koetrel</td>\n",
       "      <td>Arnoldus</td>\n",
       "      <td>NaN</td>\n",
       "      <td>NaN</td>\n",
       "      <td>Koetrel</td>\n",
       "    </tr>\n",
       "    <tr>\n",
       "      <th>3</th>\n",
       "      <td>104947</td>\n",
       "      <td>Albert Coolman</td>\n",
       "      <td>Albert</td>\n",
       "      <td>NaN</td>\n",
       "      <td>NaN</td>\n",
       "      <td>Coolman</td>\n",
       "      <td>Amsterdam</td>\n",
       "      <td>5532.0</td>\n",
       "      <td>1.0</td>\n",
       "      <td>77235.0</td>\n",
       "      <td>...</td>\n",
       "      <td>NaN</td>\n",
       "      <td>-1</td>\n",
       "      <td>NaN</td>\n",
       "      <td>3339</td>\n",
       "      <td>NL-HaNA_1.04.02_12674_0198.jpg</td>\n",
       "      <td>Albert Koolman</td>\n",
       "      <td>Albert</td>\n",
       "      <td>NaN</td>\n",
       "      <td>NaN</td>\n",
       "      <td>Koolman</td>\n",
       "    </tr>\n",
       "    <tr>\n",
       "      <th>4</th>\n",
       "      <td>104948</td>\n",
       "      <td>Anthonij Bonel</td>\n",
       "      <td>Anthonij</td>\n",
       "      <td>NaN</td>\n",
       "      <td>NaN</td>\n",
       "      <td>Bonel</td>\n",
       "      <td>Amsterdam</td>\n",
       "      <td>5532.0</td>\n",
       "      <td>1.0</td>\n",
       "      <td>65732.0</td>\n",
       "      <td>...</td>\n",
       "      <td>NaN</td>\n",
       "      <td>-1</td>\n",
       "      <td>NaN</td>\n",
       "      <td>3339</td>\n",
       "      <td>NL-HaNA_1.04.02_12674_0200.jpg</td>\n",
       "      <td>Antoni Bonel</td>\n",
       "      <td>Antoni</td>\n",
       "      <td>NaN</td>\n",
       "      <td>NaN</td>\n",
       "      <td>Bonel</td>\n",
       "    </tr>\n",
       "  </tbody>\n",
       "</table>\n",
       "<p>5 rows × 35 columns</p>\n",
       "</div>"
      ],
      "text/org": [
       "|    |   vocop_id | full_name              | first_name   |   patronymic | family_name_prefix   | family_name   | place_of_origin   |   place_id |   disambiguated_person |   person_cluster_id |   person_cluster_multi_voyage |   person_cluster_row | rank   |   rank_id |   wage | debt_letter   | month_letter   | date_begin_contract   | date_end_contract   |   contract_length | reason_end_contract   |   could_muster_again | location_end_contract   |   outward_voyage_id |   changed_ship_at_cape |   changed_ship_at_cape_voyage_id |   return_voyage_id |   remark |   source_id | scan_permalink                 | full_name_normalized   | first_name_normalized   |   patronymic_normalized | family_name_prefix_normalized   | family_name_normalized   |\n",
       "|----+------------+------------------------+--------------+--------------+----------------------+---------------+-------------------+------------+------------------------+---------------------+-------------------------------+----------------------+--------+-----------+--------+---------------+----------------+-----------------------+---------------------+-------------------+-----------------------+----------------------+-------------------------+---------------------+------------------------+----------------------------------+--------------------+----------+-------------+--------------------------------+------------------------+-------------------------+-------------------------+---------------------------------+--------------------------|\n",
       "|  0 |     104944 | Adriaen van Renteregem | Adriaen      |          nan | van                  | Renteregem    | Wassenaar         |     141865 |                      1 |              415682 |                             0 |                    1 | sailor |       123 |     11 | Ja            | Ja             | 1700-05-05            | 1700-11-29          |               208 | Repatriated           |                    1 | Concordia               |               92895 |                    nan |                              nan |              96993 |      nan |        3339 | NL-HaNA_1.04.02_12674_0192.jpg | Adriaan van Renteregem | Adriaan                 |                     nan | van                             | Renteregem               |\n",
       "|  1 |     104945 | Adriaen van der Meulen | Adriaen      |          nan | van der              | Meulen        | Cooltiensplate    |      25576 |                      1 |              406243 |                             0 |                    1 | sailor |       123 |     11 | Nee           | Nee            | 1700-05-05            | 1701-01-04          |               244 | Deceased              |                    0 | Theeboom                |               92895 |                    nan |                              nan |              96942 |      nan |        3339 | NL-HaNA_1.04.02_12674_0194.jpg | Adriaan van der Meul   | Adriaan                 |                     nan | van der                         | Meul                     |\n",
       "|  2 |     104946 | Arnoldus Coutrel       | Arnoldus     |          nan | nan                  | Coutrel       | Antwerpen         |       6486 |                      1 |                   1 |                             1 |                    1 | sailor |       123 |     11 | Ja            | Nee            | 1700-05-05            | 1700-11-29          |               208 | Repatriated           |                    1 | Westhoven               |               92895 |                    nan |                              nan |              97025 |      nan |        3339 | NL-HaNA_1.04.02_12674_0196.jpg | Arnoldus Koetrel       | Arnoldus                |                     nan | nan                             | Koetrel                  |\n",
       "|  3 |     104947 | Albert Coolman         | Albert       |          nan | nan                  | Coolman       | Amsterdam         |       5532 |                      1 |               77235 |                             0 |                    1 | sailor |       123 |     11 | Ja            | Nee            | 1700-05-05            | 1700-08-05          |                92 | Deceased              |                    0 | Huis te Loo             |               92895 |                    nan |                              nan |                 -1 |      nan |        3339 | NL-HaNA_1.04.02_12674_0198.jpg | Albert Koolman         | Albert                  |                     nan | nan                             | Koolman                  |\n",
       "|  4 |     104948 | Anthonij Bonel         | Anthonij     |          nan | nan                  | Bonel         | Amsterdam         |       5532 |                      1 |               65732 |                             0 |                    1 | sailor |       123 |     11 | Ja            | Nee            | 1700-05-05            | 1707-06-30          |              2612 | Last record           |                    1 | Asia                    |               92895 |                    nan |                              nan |                 -1 |      nan |        3339 | NL-HaNA_1.04.02_12674_0200.jpg | Antoni Bonel           | Antoni                  |                     nan | nan                             | Bonel                    |"
      ],
      "text/plain": [
       "   vocop_id               full_name first_name patronymic family_name_prefix  \\\n",
       "0    104944  Adriaen van Renteregem    Adriaen        NaN                van   \n",
       "1    104945  Adriaen van der Meulen    Adriaen        NaN            van der   \n",
       "2    104946        Arnoldus Coutrel   Arnoldus        NaN                NaN   \n",
       "3    104947          Albert Coolman     Albert        NaN                NaN   \n",
       "4    104948          Anthonij Bonel   Anthonij        NaN                NaN   \n",
       "\n",
       "  family_name place_of_origin  place_id  disambiguated_person  \\\n",
       "0  Renteregem       Wassenaar  141865.0                   1.0   \n",
       "1      Meulen  Cooltiensplate   25576.0                   1.0   \n",
       "2     Coutrel       Antwerpen    6486.0                   1.0   \n",
       "3     Coolman       Amsterdam    5532.0                   1.0   \n",
       "4       Bonel       Amsterdam    5532.0                   1.0   \n",
       "\n",
       "   person_cluster_id  ...  changed_ship_at_cape_voyage_id  return_voyage_id  \\\n",
       "0           415682.0  ...                             NaN             96993   \n",
       "1           406243.0  ...                             NaN             96942   \n",
       "2                1.0  ...                             NaN             97025   \n",
       "3            77235.0  ...                             NaN                -1   \n",
       "4            65732.0  ...                             NaN                -1   \n",
       "\n",
       "  remark  source_id                  scan_permalink    full_name_normalized  \\\n",
       "0    NaN       3339  NL-HaNA_1.04.02_12674_0192.jpg  Adriaan van Renteregem   \n",
       "1    NaN       3339  NL-HaNA_1.04.02_12674_0194.jpg    Adriaan van der Meul   \n",
       "2    NaN       3339  NL-HaNA_1.04.02_12674_0196.jpg        Arnoldus Koetrel   \n",
       "3    NaN       3339  NL-HaNA_1.04.02_12674_0198.jpg          Albert Koolman   \n",
       "4    NaN       3339  NL-HaNA_1.04.02_12674_0200.jpg            Antoni Bonel   \n",
       "\n",
       "  first_name_normalized patronymic_normalized family_name_prefix_normalized  \\\n",
       "0               Adriaan                   NaN                           van   \n",
       "1               Adriaan                   NaN                       van der   \n",
       "2              Arnoldus                   NaN                           NaN   \n",
       "3                Albert                   NaN                           NaN   \n",
       "4                Antoni                   NaN                           NaN   \n",
       "\n",
       "   family_name_normalized  \n",
       "0              Renteregem  \n",
       "1                    Meul  \n",
       "2                 Koetrel  \n",
       "3                 Koolman  \n",
       "4                   Bonel  \n",
       "\n",
       "[5 rows x 35 columns]"
      ]
     },
     "execution_count": 4,
     "metadata": {},
     "output_type": "execute_result"
    }
   ],
   "source": [
    "df = pd.read_csv('../data/raw/voc_person_contracts.csv.gz')\n",
    "df.head()"
   ]
  },
  {
   "cell_type": "code",
   "execution_count": 5,
   "metadata": {},
   "outputs": [
    {
     "name": "stdout",
     "output_type": "stream",
     "text": [
      "Total number of contracts: 774,200\n"
     ]
    }
   ],
   "source": [
    "print(f'Total number of contracts: {df.shape[0]:,}')"
   ]
  },
  {
   "cell_type": "markdown",
   "metadata": {},
   "source": [
    "### Variables\n",
    "\n",
    "- __vocop_id__: the unique id for each contract <br>\n",
    "- __disambiguated_person__: indicates whether the person is disambiguated (0 = no, 1 = yes). <br>\n",
    "- __person_cluster_id__: id that refers to unique person. If a person is disambiguated, multiple contracts can belong to one person <br>\n",
    "- __date_begin_contract__: start date of contract <br>\n",
    "- __outward_voyage_id__: unique id of outward voyage."
   ]
  },
  {
   "cell_type": "code",
   "execution_count": 6,
   "metadata": {},
   "outputs": [],
   "source": [
    "# select relevant columns\n",
    "\n",
    "df = df[['vocop_id', 'disambiguated_person', 'person_cluster_id', 'date_begin_contract', 'outward_voyage_id']]"
   ]
  },
  {
   "cell_type": "code",
   "execution_count": 7,
   "metadata": {},
   "outputs": [
    {
     "name": "stdout",
     "output_type": "stream",
     "text": [
      "Number of contacts with missing data in start date field: 257\n",
      "Number of disambiguated records: 546,973\n"
     ]
    }
   ],
   "source": [
    "# Remove contracts without a start data\n",
    "nans = df['date_begin_contract'].isnull().sum()\n",
    "print(f'Number of contacts with missing data in start date field: {nans}')\n",
    "df = df.dropna(subset=['date_begin_contract'])\n",
    "\n",
    "# Only select disambiguated records\n",
    "records = df.loc[df['disambiguated_person'] == 1, 'person_cluster_id'].astype(int).values\n",
    "print(f'Number of disambiguated records: {len(records):,}')\n",
    "\n",
    "# Construct year variable\n",
    "# Pandas does not like old dates, so rather than using Datetime, we extract it from the string\n",
    "df['year'] = df['date_begin_contract'].str.split('-', expand=True)[0].astype(int)\n",
    "df = df.sort_values(by='year')\n",
    "assert df[\"year\"].min() == 1633 and df[\"year\"].max() == 1794\n",
    "\n",
    "df.to_csv('../data/voyages_clean.csv', index=False)"
   ]
  },
  {
   "cell_type": "code",
   "execution_count": 8,
   "metadata": {},
   "outputs": [],
   "source": [
    "sailors_df = df[df['outward_voyage_id'] != 0]"
   ]
  },
  {
   "cell_type": "code",
   "execution_count": 9,
   "metadata": {},
   "outputs": [],
   "source": [
    "contract_counts = sailors_df.groupby('outward_voyage_id')['vocop_id'].count()"
   ]
  },
  {
   "cell_type": "markdown",
   "metadata": {},
   "source": [
    "# Dutch-Asiatic Shipping (DAS)"
   ]
  },
  {
   "cell_type": "code",
   "execution_count": 10,
   "metadata": {},
   "outputs": [
    {
     "name": "stdout",
     "output_type": "stream",
     "text": [
      "number of das records: 4352\n",
      "number of outward voyages: 4352\n"
     ]
    }
   ],
   "source": [
    "das = pd.read_excel('../data/raw/das.xlsx')\n",
    "\n",
    "das = das[das['voyRGPDeel'] == 166] #only outbound voyages\n",
    "das = das[(das['voydepartureY'] >= 1633) & (das['voydepartureY'] <= 1794)] # same time period as contracts\n",
    "\n",
    "outward_voyage_ids = das['voyId'].values\n",
    "print(f'number of das records: {das.shape[0]}')\n",
    "\n",
    "print(f'number of outward voyages: {len(outward_voyage_ids)}')"
   ]
  },
  {
   "cell_type": "code",
   "execution_count": 11,
   "metadata": {},
   "outputs": [],
   "source": [
    "das_onboard = pd.read_excel('../data/raw/das.xlsx', sheet_name='onboard')\n",
    "das_onboard = das_onboard[das_onboard['onbVoyageId'].isin(outward_voyage_ids)] # select outbound vogages in time period"
   ]
  },
  {
   "cell_type": "markdown",
   "metadata": {},
   "source": [
    "- `onbI`: The number on board at departure. \n",
    "- `onbII`: The number dying between the Netherlands and the Cape. \n",
    "- `onbIII`: The number who left the ship at the Cape.  \n",
    "- `onbIV`: The number who came on board at the Cape.\n",
    "- `onbV`: The number dying on the whole voyage. \n",
    "- `onbVI`: The number on board on arrival in Asia.\n",
    "\n",
    "For our purposes, we only need `onbI` and `onbIV`. These columns contain dirty data, so we need to extract only the integers."
   ]
  },
  {
   "cell_type": "code",
   "execution_count": 12,
   "metadata": {},
   "outputs": [
    {
     "name": "stdout",
     "output_type": "stream",
     "text": [
      "4223\n"
     ]
    }
   ],
   "source": [
    "print(das_onboard['onbVoyageId'].nunique())\n",
    "\n",
    "# not all onboard records have voyage ids that match the information on year of departure and such. 4787 vs 4505\n",
    "# therefore we need to use the means for the travels in onboard and multiple with voyages in das to estimate total number of passengers."
   ]
  },
  {
   "cell_type": "code",
   "execution_count": 13,
   "metadata": {},
   "outputs": [
    {
     "data": {
      "text/plain": [
       "322                    1\n",
       "515                    1\n",
       "408                    1\n",
       "393                    1\n",
       "± 249                  1\n",
       "25200                  1\n",
       "775                    1\n",
       "376                    1\n",
       "2018-04-03 00:00:00    1\n",
       "430                    1\n",
       "250?                   1\n",
       "770                    1\n",
       "327                    1\n",
       "313(?)                 1\n",
       "383                    1\n",
       "251                    1\n",
       "367                    1\n",
       "346                    1\n",
       "339                    1\n",
       "375                    1\n",
       "Name: onbI, dtype: int64"
      ]
     },
     "execution_count": 13,
     "metadata": {},
     "output_type": "execute_result"
    }
   ],
   "source": [
    "das_onboard['onbI'].value_counts().tail(20)"
   ]
  },
  {
   "cell_type": "markdown",
   "metadata": {},
   "source": [
    "- Take first value when there are two values (separated with /)\n",
    "- remove ? and ± using regex\n",
    "- remove date 2018-04-03 00:00:00\n",
    "- remove 25200 (this is probably 252) "
   ]
  },
  {
   "cell_type": "code",
   "execution_count": 14,
   "metadata": {},
   "outputs": [
    {
     "data": {
      "text/plain": [
       "144    1\n",
       "113    1\n",
       "165    1\n",
       "62     1\n",
       "96     1\n",
       "70     1\n",
       "172    1\n",
       "91     1\n",
       "54     1\n",
       "71     1\n",
       "2*     1\n",
       "82     1\n",
       "26*    1\n",
       "49     1\n",
       "107    1\n",
       "54*    1\n",
       "0*     1\n",
       "10*    1\n",
       "3*     1\n",
       "100    1\n",
       "Name: onbIV, dtype: int64"
      ]
     },
     "execution_count": 14,
     "metadata": {},
     "output_type": "execute_result"
    }
   ],
   "source": [
    "das_onboard['onbIV'].value_counts().tail(20)"
   ]
  },
  {
   "cell_type": "markdown",
   "metadata": {},
   "source": [
    "- replace * with 0"
   ]
  },
  {
   "cell_type": "code",
   "execution_count": 18,
   "metadata": {},
   "outputs": [],
   "source": [
    "das_onboard = das_onboard.loc[das_onboard['onbI'].apply(lambda x: isinstance(x, (int, str)))]\n",
    "das_onboard['onbIV'] =  das_onboard['onbIV'].astype(str).str.replace('*', '0', regex=False)\n",
    "das_onboard['onbI'] = das_onboard['onbI'].astype(str).str.extract('(\\d+)') #extract digits (400 / 500, +- 400)\n",
    "das_onboard['onbIV'] = das_onboard['onbIV'].astype(str).str.extract('(\\d+)')\n",
    "das_onboard['onbIV'] = das_onboard['onbIV'].fillna(0) #fill missing with 0 so that we can more easily add them together"
   ]
  },
  {
   "cell_type": "code",
   "execution_count": 19,
   "metadata": {},
   "outputs": [
    {
     "data": {
      "text/plain": [
       "Seafarers     2891\n",
       "Soldiers      2614\n",
       "Passengers    1696\n",
       "Craftsmen     1308\n",
       "Total         1051\n",
       "Name: onbCategory, dtype: int64"
      ]
     },
     "execution_count": 19,
     "metadata": {},
     "output_type": "execute_result"
    }
   ],
   "source": [
    "das_onboard['onbCategory'].value_counts()"
   ]
  },
  {
   "cell_type": "code",
   "execution_count": 20,
   "metadata": {},
   "outputs": [],
   "source": [
    "# add year of departure\n",
    "das_onboard = pd.merge(\n",
    "    das_onboard, das[['voyId', 'voydepartureY']], \n",
    "    left_on='onbVoyageId', right_on='voyId'\n",
    ").drop('voyId', axis=1)"
   ]
  },
  {
   "cell_type": "code",
   "execution_count": 21,
   "metadata": {},
   "outputs": [],
   "source": [
    "# add onboarding in republic with those in cape\n",
    "das_onboard['counts'] = das_onboard['onbI'].astype(int).add(das_onboard['onbIV'].astype(int))"
   ]
  },
  {
   "cell_type": "code",
   "execution_count": 22,
   "metadata": {},
   "outputs": [
    {
     "name": "stdout",
     "output_type": "stream",
     "text": [
      "These are the date ranges: [(1633, 1658), (1658, 1683), (1683, 1708), (1708, 1733), (1733, 1758), (1758, 1783), (1783, 1795)]\n"
     ]
    }
   ],
   "source": [
    "bins = list(range(1633, 1795, 25)) + [1795]\n",
    "date_ranges = [(bins[i-1], bins[i]) for i in range(1, len(bins))]\n",
    "print(f'These are the date ranges: {date_ranges}')"
   ]
  },
  {
   "cell_type": "code",
   "execution_count": 24,
   "metadata": {},
   "outputs": [],
   "source": [
    "count_table = list()\n",
    "total_count = 0\n",
    "\n",
    "das_onboard = das_onboard[das_onboard['onbVoyageId'] != 93096] # remove extreme value\n",
    "das_onboard = das_onboard[das_onboard['counts'] >= 0] # remove voyages with no passengers, we don't want ghost ships\n",
    "\n",
    "for index, (start, end) in enumerate(date_ranges):\n",
    "    d = {}\n",
    "    das_slice = das[das['voydepartureY'].between(start, end, inclusive=\"left\")]\n",
    "    df_slice = das_onboard[das_onboard['voydepartureY'].between(start, end, inclusive=\"left\")]\n",
    "    ships_das = das_slice['voyId'].nunique()\n",
    "    ships_onboard = df_slice['onbVoyageId'].nunique()\n",
    "    voyagers = df_slice[df_slice['onbCategory'] != 'Passengers']['counts'].sum() # exclude passengers\n",
    "\n",
    "    d[\"period\"] = f\"{start} - {end}\"\n",
    "    d['ships'] = ships_das\n",
    "    d['ships_onboard'] = ships_onboard\n",
    "    d['voyagers_onboard'] = voyagers\n",
    "\n",
    "    average_pass = voyagers / ships_onboard\n",
    "    \n",
    "    totals_pass = average_pass * ships_das\n",
    "    total_count += totals_pass\n",
    "    total_count = int(np.round(total_count))\n",
    "    d['average_voyagers'] = np.round(average_pass, 1)\n",
    "    d['total_voyagers'] = int(np.round(totals_pass))\n",
    "    count_table.append(d)\n",
    "total_count = int(np.round(total_count))"
   ]
  },
  {
   "cell_type": "code",
   "execution_count": 25,
   "metadata": {},
   "outputs": [],
   "source": [
    "total_counts_df = pd.DataFrame(count_table)"
   ]
  },
  {
   "cell_type": "code",
   "execution_count": 27,
   "metadata": {},
   "outputs": [
    {
     "name": "stdout",
     "output_type": "stream",
     "text": [
      "952147\n"
     ]
    },
    {
     "data": {
      "text/plain": [
       "952147"
      ]
     },
     "execution_count": 27,
     "metadata": {},
     "output_type": "execute_result"
    }
   ],
   "source": [
    "print(total_count)\n",
    "total_counts_df['total_voyagers'].sum()"
   ]
  },
  {
   "cell_type": "code",
   "execution_count": 28,
   "metadata": {},
   "outputs": [],
   "source": [
    "total_counts_df.to_csv('../data/total_counts.csv', index=False)"
   ]
  }
 ],
 "metadata": {
  "kernelspec": {
   "display_name": "Python 3 (ipykernel)",
   "language": "python",
   "name": "python3"
  },
  "language_info": {
   "codemirror_mode": {
    "name": "ipython",
    "version": 3
   },
   "file_extension": ".py",
   "mimetype": "text/x-python",
   "name": "python",
   "nbconvert_exporter": "python",
   "pygments_lexer": "ipython3",
   "version": "3.10.8"
  },
  "vscode": {
   "interpreter": {
    "hash": "07fb87be3254d990fd3cd84ff6d33ad45e16685cc7a7b3622affa24dc68a13d5"
   }
  }
 },
 "nbformat": 4,
 "nbformat_minor": 4
}
