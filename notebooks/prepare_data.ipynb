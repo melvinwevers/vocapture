{
 "cells": [
  {
   "cell_type": "code",
   "execution_count": 12,
   "metadata": {},
   "outputs": [],
   "source": [
    "import pandas as pd"
   ]
  },
  {
   "cell_type": "code",
   "execution_count": 20,
   "metadata": {},
   "outputs": [],
   "source": [
    "df = pd.read_csv('../data/raw/voc_person_contracts.csv.gz', compression='gzip', \n",
    "                usecols=['vocop_id', 'person_cluster_id', 'outward_voyage_id','date_begin_contract', 'disambiguated_person'])"
   ]
  },
  {
   "cell_type": "code",
   "execution_count": 23,
   "metadata": {},
   "outputs": [
    {
     "data": {
      "text/plain": [
       "Index(['vocop_id', 'full_name', 'first_name', 'patronymic',\n",
       "       'family_name_prefix', 'family_name', 'place_of_origin', 'place_id',\n",
       "       'disambiguated_person', 'person_cluster_id',\n",
       "       'person_cluster_multi_voyage', 'person_cluster_row', 'rank', 'rank_id',\n",
       "       'wage', 'debt_letter', 'month_letter', 'date_begin_contract',\n",
       "       'date_end_contract', 'contract_length', 'reason_end_contract',\n",
       "       'could_muster_again', 'location_end_contract', 'outward_voyage_id',\n",
       "       'changed_ship_at_cape', 'changed_ship_at_cape_voyage_id',\n",
       "       'return_voyage_id', 'remark', 'source_id', 'scan_permalink',\n",
       "       'full_name_normalized', 'first_name_normalized',\n",
       "       'patronymic_normalized', 'family_name_prefix_normalized',\n",
       "       'family_name_normalized'],\n",
       "      dtype='object')"
      ]
     },
     "execution_count": 23,
     "metadata": {},
     "output_type": "execute_result"
    }
   ],
   "source": [
    "df.columns"
   ]
  },
  {
   "cell_type": "code",
   "execution_count": 19,
   "metadata": {},
   "outputs": [],
   "source": [
    "df.to_csv('../data/raw/vocapture.csv', index=False)"
   ]
  },
  {
   "cell_type": "code",
   "execution_count": null,
   "metadata": {},
   "outputs": [],
   "source": []
  }
 ],
 "metadata": {
  "interpreter": {
   "hash": "2f1dcb2d14e818eb78da5fc0066a669981c8f24be2db3cc976636f8607eeea8a"
  },
  "kernelspec": {
   "display_name": "Python 3.9.12 ('vocapture')",
   "language": "python",
   "name": "python3"
  },
  "language_info": {
   "codemirror_mode": {
    "name": "ipython",
    "version": 3
   },
   "file_extension": ".py",
   "mimetype": "text/x-python",
   "name": "python",
   "nbconvert_exporter": "python",
   "pygments_lexer": "ipython3",
   "version": "3.9.12"
  },
  "orig_nbformat": 4
 },
 "nbformat": 4,
 "nbformat_minor": 2
}
