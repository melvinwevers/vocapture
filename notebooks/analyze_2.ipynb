{
 "cells": [
  {
   "cell_type": "code",
   "execution_count": 11,
   "metadata": {},
   "outputs": [],
   "source": [
    "import collections\n",
    "import math\n",
    "import matplotlib.pyplot as plt\n",
    "import numpy as np\n",
    "import pandas as pd\n",
    "import scipy.stats as stats\n",
    "\n",
    "from copia import chao1"
   ]
  },
  {
   "cell_type": "code",
   "execution_count": 12,
   "metadata": {},
   "outputs": [],
   "source": [
    "plt.style.use('science')"
   ]
  },
  {
   "cell_type": "markdown",
   "metadata": {},
   "source": [
    "# Functions"
   ]
  },
  {
   "cell_type": "code",
   "execution_count": 13,
   "metadata": {},
   "outputs": [],
   "source": [
    "def chao_wor(x, q, conf=0.95):\n",
    "    x = x[x > 0]\n",
    "    n = x.sum() # sample size\n",
    "    t = len(x)  # number of unique items\n",
    "    # Convert the int64 to longs to ensure the numbers\n",
    "    # don't get too big in the variance calculation\n",
    "    f1 = (x == 1).sum().item() # number of singletons\n",
    "    f2 = (x == 2).sum().item() # number of doubletons\n",
    "    w = n / (n - 1)\n",
    "    r = q / (1 - q)\n",
    "    f0 = (f1 ** 2) / (2 * w * f2 + r * f1)\n",
    "\n",
    "    # compute sd\n",
    "    t1 = ((2 * w * f2 * (f0**2) + (f1**2) * f0) ** 2) / (f1 ** 5)\n",
    "    t2 = (4 * (w**2) * f2) * ((f0 / f1)**4)\n",
    "    var = f0 + t1 + t2\n",
    "        \n",
    "    z = abs(stats.norm.ppf((1 - conf) / 2))\n",
    "    K = np.exp(z * np.sqrt(np.log(1 + var / f0 ** 2)))\n",
    "    lci, uci = t + f0 / K, t + f0 * K\n",
    "    return {\n",
    "        \"q\": q,\n",
    "        \"f1\": f1,\n",
    "        \"f2\": f2,\n",
    "        \"f0\": f0,\n",
    "        \"V_obs\": t,\n",
    "        \"V_est\": math.ceil(t + f0), \n",
    "        \"var\": var,\n",
    "        \"sd\": np.sqrt(var),\n",
    "        \"lci\": lci,\n",
    "        \"uci\": uci,\n",
    "        \"Chao1\": chao1(x)\n",
    "    }"
   ]
  },
  {
   "cell_type": "markdown",
   "metadata": {},
   "source": [
    "# Loading Data"
   ]
  },
  {
   "cell_type": "code",
   "execution_count": 14,
   "metadata": {},
   "outputs": [
    {
     "data": {
      "text/html": [
       "<div>\n",
       "<style scoped>\n",
       "    .dataframe tbody tr th:only-of-type {\n",
       "        vertical-align: middle;\n",
       "    }\n",
       "\n",
       "    .dataframe tbody tr th {\n",
       "        vertical-align: top;\n",
       "    }\n",
       "\n",
       "    .dataframe thead th {\n",
       "        text-align: right;\n",
       "    }\n",
       "</style>\n",
       "<table border=\"1\" class=\"dataframe\">\n",
       "  <thead>\n",
       "    <tr style=\"text-align: right;\">\n",
       "      <th></th>\n",
       "      <th>vocop_id</th>\n",
       "      <th>disambiguated_person</th>\n",
       "      <th>person_cluster_id</th>\n",
       "      <th>date_begin_contract</th>\n",
       "      <th>outward_voyage_id</th>\n",
       "    </tr>\n",
       "  </thead>\n",
       "  <tbody>\n",
       "    <tr>\n",
       "      <th>0</th>\n",
       "      <td>104944</td>\n",
       "      <td>1.0</td>\n",
       "      <td>415682.0</td>\n",
       "      <td>1700-05-05</td>\n",
       "      <td>92895</td>\n",
       "    </tr>\n",
       "    <tr>\n",
       "      <th>1</th>\n",
       "      <td>104945</td>\n",
       "      <td>1.0</td>\n",
       "      <td>406243.0</td>\n",
       "      <td>1700-05-05</td>\n",
       "      <td>92895</td>\n",
       "    </tr>\n",
       "    <tr>\n",
       "      <th>2</th>\n",
       "      <td>104946</td>\n",
       "      <td>1.0</td>\n",
       "      <td>1.0</td>\n",
       "      <td>1700-05-05</td>\n",
       "      <td>92895</td>\n",
       "    </tr>\n",
       "    <tr>\n",
       "      <th>3</th>\n",
       "      <td>104947</td>\n",
       "      <td>1.0</td>\n",
       "      <td>77235.0</td>\n",
       "      <td>1700-05-05</td>\n",
       "      <td>92895</td>\n",
       "    </tr>\n",
       "    <tr>\n",
       "      <th>4</th>\n",
       "      <td>104948</td>\n",
       "      <td>1.0</td>\n",
       "      <td>65732.0</td>\n",
       "      <td>1700-05-05</td>\n",
       "      <td>92895</td>\n",
       "    </tr>\n",
       "  </tbody>\n",
       "</table>\n",
       "</div>"
      ],
      "text/org": [
       "|    |   vocop_id |   disambiguated_person |   person_cluster_id | date_begin_contract   |   outward_voyage_id |\n",
       "|----+------------+------------------------+---------------------+-----------------------+---------------------|\n",
       "|  0 |     104944 |                      1 |              415682 | 1700-05-05            |               92895 |\n",
       "|  1 |     104945 |                      1 |              406243 | 1700-05-05            |               92895 |\n",
       "|  2 |     104946 |                      1 |                   1 | 1700-05-05            |               92895 |\n",
       "|  3 |     104947 |                      1 |               77235 | 1700-05-05            |               92895 |\n",
       "|  4 |     104948 |                      1 |               65732 | 1700-05-05            |               92895 |"
      ],
      "text/plain": [
       "   vocop_id  disambiguated_person  person_cluster_id date_begin_contract  \\\n",
       "0    104944                   1.0           415682.0          1700-05-05   \n",
       "1    104945                   1.0           406243.0          1700-05-05   \n",
       "2    104946                   1.0                1.0          1700-05-05   \n",
       "3    104947                   1.0            77235.0          1700-05-05   \n",
       "4    104948                   1.0            65732.0          1700-05-05   \n",
       "\n",
       "   outward_voyage_id  \n",
       "0              92895  \n",
       "1              92895  \n",
       "2              92895  \n",
       "3              92895  \n",
       "4              92895  "
      ]
     },
     "execution_count": 14,
     "metadata": {},
     "output_type": "execute_result"
    }
   ],
   "source": [
    "df = pd.read_csv('../data/raw/vocapture.csv')\n",
    "df.head()"
   ]
  },
  {
   "cell_type": "markdown",
   "metadata": {},
   "source": [
    "__vocop_id__: the unique id for each contract \\\n",
    "__disambiguated_person__: indicates whether the person is disambiguated (0 = no, 1 = yes). \\\n",
    "__person_cluster_id__: id that refers to unique person. If a person is disambiguated, multiple contracts can belong to one person \\\n",
    "__date_begin_contract__: start date of contract \\\n",
    "__outward_voyage_id__: unique id of outward voyage. "
   ]
  },
  {
   "cell_type": "code",
   "execution_count": 15,
   "metadata": {},
   "outputs": [
    {
     "name": "stdout",
     "output_type": "stream",
     "text": [
      "total number of contracts: 774200\n"
     ]
    }
   ],
   "source": [
    "print(f'total number of contracts: {df.shape[0]}')"
   ]
  },
  {
   "cell_type": "code",
   "execution_count": 16,
   "metadata": {},
   "outputs": [
    {
     "name": "stdout",
     "output_type": "stream",
     "text": [
      "number of nans in date field: 257\n"
     ]
    }
   ],
   "source": [
    "nans = df['date_begin_contract'].isnull().sum()\n",
    "print(f'number of nans in date field: {nans}')\n",
    "df = df.dropna(subset=['date_begin_contract'])"
   ]
  },
  {
   "cell_type": "code",
   "execution_count": 17,
   "metadata": {},
   "outputs": [
    {
     "name": "stdout",
     "output_type": "stream",
     "text": [
      "number of disambiguated records: 546973\n"
     ]
    }
   ],
   "source": [
    "#only select disambiguated records\n",
    "records = df.loc[df['disambiguated_person'] == 1, 'person_cluster_id'].astype(int).values\n",
    "print(f'number of disambiguated records: {len(records)}')"
   ]
  },
  {
   "cell_type": "code",
   "execution_count": 18,
   "metadata": {},
   "outputs": [
    {
     "data": {
      "text/plain": [
       "array([1633, 1635, 1636, 1637, 1638, 1640, 1641, 1643, 1644, 1645, 1646,\n",
       "       1647, 1648, 1649, 1661, 1662, 1668, 1671, 1672, 1674, 1675, 1676,\n",
       "       1677, 1678, 1679, 1680, 1681, 1682, 1683, 1684, 1685, 1686, 1687,\n",
       "       1688, 1689, 1690, 1691, 1692, 1693, 1694, 1695, 1696, 1697, 1698,\n",
       "       1699, 1700, 1701, 1702, 1703, 1704, 1705, 1706, 1707, 1708, 1709,\n",
       "       1710, 1711, 1712, 1713, 1714, 1715, 1716, 1717, 1718, 1719, 1720,\n",
       "       1721, 1722, 1723, 1724, 1725, 1726, 1727, 1728, 1729, 1730, 1731,\n",
       "       1732, 1733, 1734, 1735, 1736, 1737, 1738, 1739, 1740, 1741, 1742,\n",
       "       1743, 1744, 1745, 1746, 1747, 1748, 1749, 1750, 1751, 1752, 1753,\n",
       "       1754, 1755, 1756, 1757, 1758, 1759, 1760, 1761, 1762, 1763, 1764,\n",
       "       1765, 1766, 1767, 1768, 1769, 1770, 1771, 1772, 1773, 1774, 1775,\n",
       "       1776, 1777, 1778, 1779, 1780, 1781, 1782, 1783, 1784, 1785, 1786,\n",
       "       1787, 1788, 1789, 1790, 1791, 1792, 1793, 1794])"
      ]
     },
     "execution_count": 18,
     "metadata": {},
     "output_type": "execute_result"
    }
   ],
   "source": [
    "# construct year variable\n",
    "df['year'] = df['date_begin_contract'].str.split('-', expand=True)[0].astype(int)\n",
    "df = df.sort_values(by='year')\n",
    "df[\"year\"].unique()"
   ]
  },
  {
   "cell_type": "code",
   "execution_count": 19,
   "metadata": {},
   "outputs": [],
   "source": [
    "df_disambiguated = df.loc[df['disambiguated_person'] == 1]\n",
    "df_unique_persons = df.loc[df['disambiguated_person'] == 1].drop_duplicates(subset=['person_cluster_id'])"
   ]
  },
  {
   "cell_type": "markdown",
   "metadata": {},
   "source": [
    "## plot time series\n",
    "\n",
    "\n"
   ]
  },
  {
   "cell_type": "code",
   "execution_count": 21,
   "metadata": {},
   "outputs": [
    {
     "data": {
      "image/png": "[encoded data removed]",
      "text/plain": [
       "<Figure size 360x288 with 1 Axes>"
      ]
     },
     "metadata": {
      "needs_background": "light"
     },
     "output_type": "display_data"
    }
   ],
   "source": [
    "fig, ax = plt.subplots(figsize=(5, 4))\n",
    "\n",
    "df_disambiguated.groupby('year')['date_begin_contract'].count().plot(ax=ax, color=\"k\", label=None) # disambiguated\n",
    "ax.set(xlabel='Year', ylabel='Number of clustre contracts')\n",
    "ax.ticklabel_format(axis=\"y\", style=\"sci\", scilimits=(3, 3))\n",
    "plt.savefig('../figures/total_contracts.png', dpi=300)"
   ]
  },
  {
   "cell_type": "markdown",
   "metadata": {},
   "source": [
    "## Calculating number of sailors on a ship"
   ]
  },
  {
   "cell_type": "code",
   "execution_count": 22,
   "metadata": {},
   "outputs": [],
   "source": [
    "# remove outward_voyage_id 0\n",
    "sailors_df = df[df['outward_voyage_id'] != 0]"
   ]
  },
  {
   "cell_type": "code",
   "execution_count": 24,
   "metadata": {},
   "outputs": [
    {
     "name": "stdout",
     "output_type": "stream",
     "text": [
      "mean sailors on a ship: 244.59721342621913\n",
      "median sailors on a ship: 247.0\n"
     ]
    }
   ],
   "source": [
    "# For the calculation of the median and mean, we outward voyages to which no contracts are linked. \n",
    "\n",
    "mean_sailors = sailors_df.groupby(['outward_voyage_id'])['vocop_id'].count().mean()\n",
    "median_sailors = sailors_df.groupby(['outward_voyage_id'])['vocop_id'].count().median()\n",
    "print(f'mean sailors on a ship: {mean_sailors}')\n",
    "print(f'median sailors on a ship: {median_sailors}')\n",
    "n_records = 4_352"
   ]
  },
  {
   "cell_type": "code",
   "execution_count": 74,
   "metadata": {},
   "outputs": [],
   "source": [
    "# I used person_cluster_id before, this should be vocop_id, we want to use all records\n",
    "# not only the disambiguated ones\n"
   ]
  },
  {
   "cell_type": "code",
   "execution_count": 25,
   "metadata": {},
   "outputs": [
    {
     "name": "stdout",
     "output_type": "stream",
     "text": [
      "The archive consists of N=546973 records and V_obs=460274 unique sailors.\n"
     ]
    }
   ],
   "source": [
    "counts = np.array(list(collections.Counter(records).values()))\n",
    "N_obs, V_obs = counts.sum(), counts.shape[0]\n",
    "\n",
    "#N, V = len(records), len(np.unique(records))\n",
    "print(f\"The archive consists of N={N_obs} records and V_obs={V_obs} unique sailors.\")"
   ]
  },
  {
   "cell_type": "markdown",
   "metadata": {},
   "source": [
    "### Using Mean Sailors"
   ]
  },
  {
   "cell_type": "code",
   "execution_count": 34,
   "metadata": {},
   "outputs": [
    {
     "name": "stdout",
     "output_type": "stream",
     "text": [
      "1064487\n"
     ]
    }
   ],
   "source": [
    "N_est = int(mean_sailors * n_records)\n",
    "print(N_est)"
   ]
  },
  {
   "cell_type": "code",
   "execution_count": 35,
   "metadata": {},
   "outputs": [
    {
     "name": "stdout",
     "output_type": "stream",
     "text": [
      "0.5138371816659104\n"
     ]
    }
   ],
   "source": [
    "q = N_obs / N_est\n",
    "print(q)"
   ]
  },
  {
   "cell_type": "code",
   "execution_count": 36,
   "metadata": {},
   "outputs": [
    {
     "data": {
      "text/plain": [
       "{'q': 0.5138371816659104,\n",
       " 'f1': 401179,\n",
       " 'f2': 42889,\n",
       " 'f0': 315705.2121473892,\n",
       " 'V_obs': 460274,\n",
       " 'V_est': 775980,\n",
       " 'var': 720580.4720172862,\n",
       " 'sd': 848.8701149276527,\n",
       " 'lci': 774319.8365583214,\n",
       " 'uci': 777647.3556519173,\n",
       " 'Chao1': 2336562.7429766366}"
      ]
     },
     "execution_count": 36,
     "metadata": {},
     "output_type": "execute_result"
    }
   ],
   "source": [
    "estimates = chao_wor(counts, q)\n",
    "estimates"
   ]
  },
  {
   "cell_type": "code",
   "execution_count": 37,
   "metadata": {},
   "outputs": [
    {
     "data": {
      "text/plain": [
       "0.59315188535787"
      ]
     },
     "execution_count": 37,
     "metadata": {},
     "output_type": "execute_result"
    }
   ],
   "source": [
    "estimates['V_obs'] /estimates['V_est']"
   ]
  },
  {
   "cell_type": "markdown",
   "metadata": {},
   "source": [
    "### Using Median"
   ]
  },
  {
   "cell_type": "code",
   "execution_count": 38,
   "metadata": {},
   "outputs": [
    {
     "name": "stdout",
     "output_type": "stream",
     "text": [
      "1074944\n"
     ]
    }
   ],
   "source": [
    "N_est = int(median_sailors * n_records)\n",
    "print(N_est)"
   ]
  },
  {
   "cell_type": "code",
   "execution_count": 39,
   "metadata": {},
   "outputs": [
    {
     "name": "stdout",
     "output_type": "stream",
     "text": [
      "0.5088385999642772\n"
     ]
    }
   ],
   "source": [
    "q = N_obs / N_est\n",
    "print(q)"
   ]
  },
  {
   "cell_type": "code",
   "execution_count": 40,
   "metadata": {},
   "outputs": [
    {
     "data": {
      "text/plain": [
       "{'q': 0.5088385999642772,\n",
       " 'f1': 401179,\n",
       " 'f2': 42889,\n",
       " 'f0': 320993.07334599714,\n",
       " 'V_obs': 460274,\n",
       " 'V_est': 781268,\n",
       " 'var': 743535.5172261045,\n",
       " 'sd': 862.2850556666888,\n",
       " 'lci': 779581.470028203,\n",
       " 'uci': 782961.5748538171,\n",
       " 'Chao1': 2336562.7429766366}"
      ]
     },
     "execution_count": 40,
     "metadata": {},
     "output_type": "execute_result"
    }
   ],
   "source": [
    "estimates = chao_wor(counts, q)\n",
    "estimates"
   ]
  },
  {
   "cell_type": "code",
   "execution_count": 41,
   "metadata": {},
   "outputs": [
    {
     "data": {
      "text/plain": [
       "0.5891371462801497"
      ]
     },
     "execution_count": 41,
     "metadata": {},
     "output_type": "execute_result"
    }
   ],
   "source": [
    "estimates['V_obs'] / estimates['V_est'] "
   ]
  },
  {
   "cell_type": "markdown",
   "metadata": {},
   "source": [
    "Note that Chao1 gives an unrealistic lowerbound of more than 2 million, which by far exceeds the know upper limt of N_est. "
   ]
  },
  {
   "cell_type": "markdown",
   "metadata": {},
   "source": [
    "## per 25 years"
   ]
  },
  {
   "cell_type": "code",
   "execution_count": 47,
   "metadata": {},
   "outputs": [
    {
     "data": {
      "text/org": [
       "|    |    0 |    1 |\n",
       "|----+------+------|\n",
       "|  0 | 1633 | 1658 |\n",
       "|  1 | 1658 | 1683 |\n",
       "|  2 | 1683 | 1708 |\n",
       "|  3 | 1708 | 1733 |\n",
       "|  4 | 1733 | 1758 |\n",
       "|  5 | 1758 | 1783 |\n",
       "|  6 | 1783 | 1795 |"
      ],
      "text/plain": [
       "[(1633, 1658),\n",
       " (1658, 1683),\n",
       " (1683, 1708),\n",
       " (1708, 1733),\n",
       " (1733, 1758),\n",
       " (1758, 1783),\n",
       " (1783, 1795)]"
      ]
     },
     "execution_count": 47,
     "metadata": {},
     "output_type": "execute_result"
    }
   ],
   "source": [
    "bins = list(range(1633, 1795, 25)) + [1795]\n",
    "date_ranges = [(bins[i-1], bins[i]) for i in range(1, len(bins))]\n",
    "date_ranges"
   ]
  },
  {
   "cell_type": "code",
   "execution_count": 48,
   "metadata": {},
   "outputs": [],
   "source": [
    "DAS_voyages = [468, 586, 620, 884, 848, 718, 383]"
   ]
  },
  {
   "cell_type": "code",
   "execution_count": 53,
   "metadata": {},
   "outputs": [
    {
     "name": "stdout",
     "output_type": "stream",
     "text": [
      "0     True\n",
      "1     True\n",
      "2    False\n",
      "3    False\n",
      "4    False\n",
      "dtype: bool\n",
      "0    False\n",
      "1    False\n",
      "2     True\n",
      "3     True\n",
      "4    False\n",
      "dtype: bool\n"
     ]
    }
   ],
   "source": [
    "x = pd.Series(range(5))\n",
    "print(x.between(0, 2, inclusive=\"left\"))\n",
    "print(x.between(2, 4, inclusive=\"left\"))"
   ]
  },
  {
   "cell_type": "code",
   "execution_count": 56,
   "metadata": {},
   "outputs": [
    {
     "name": "stdout",
     "output_type": "stream",
     "text": [
      "1633 1658\n",
      "mean number of sailors:181\n",
      "1658 1683\n",
      "mean number of sailors:240\n",
      "1683 1708\n",
      "mean number of sailors:194\n",
      "1708 1733\n",
      "mean number of sailors:201\n",
      "1733 1758\n",
      "mean number of sailors:251\n",
      "1758 1783\n",
      "mean number of sailors:309\n",
      "1783 1795\n",
      "mean number of sailors:273\n"
     ]
    }
   ],
   "source": [
    "estimates = []\n",
    "V_observations = []\n",
    "for index, (start, end) in enumerate(date_ranges):\n",
    "    print(start, end)\n",
    "    df_slice = sailors_df[sailors_df['year'].between(start, end, inclusive=\"left\")]\n",
    "    mean_sailors = int(df_slice.groupby(['outward_voyage_id'])['vocop_id'].count().mean())\n",
    "    print(f'mean number of sailors:{mean_sailors}')\n",
    "    V = DAS_voyages[index] * mean_sailors\n",
    "    records = df_slice.loc[df_slice['disambiguated_person'] == 1, 'person_cluster_id'].astype(int).values\n",
    "    counts = np.array(list(collections.Counter(records).values()))\n",
    "    N, V_obs = counts.sum(), counts.shape[0]\n",
    "    V_observations.append(V_obs)\n",
    "    q = len(records) / V\n",
    "    estimate = chao_wor(counts, q)\n",
    "    estimates.append(estimate)"
   ]
  },
  {
   "cell_type": "code",
   "execution_count": 57,
   "metadata": {},
   "outputs": [
    {
     "data": {
      "image/png": "[encoded data removed]",
      "text/plain": [
       "<Figure size 432x288 with 1 Axes>"
      ]
     },
     "metadata": {
      "needs_background": "light"
     },
     "output_type": "display_data"
    }
   ],
   "source": [
    "labels = [x[0] for x in date_ranges]\n",
    "\n",
    "fig, ax = plt.subplots(figsize=(6, 4))\n",
    "\n",
    "ax.plot(labels, V_observations, label=r'$V_{\\text{obs}}$', color=\"k\", linestyle='dashed')\n",
    "lci, uci, est = zip(*[(est[\"lci\"], est[\"uci\"], est[\"V_est\"]) for est in estimates])\n",
    "ax.plot(labels, est, color=\"k\", label=r'$\\hat{V}$')\n",
    "ax.fill_between(labels, lci, uci, color=\"lightgrey\", alpha=0.4)\n",
    "ax.set(xlabel='year', ylabel='Number of unique sailors')\n",
    "ax.ticklabel_format(axis=\"y\", style=\"sci\", scilimits=(3, 3))\n",
    "ax.legend()\n",
    "plt.savefig('../figures/25year_plot.png', dpi=300)"
   ]
  },
  {
   "cell_type": "markdown",
   "metadata": {},
   "source": [
    "### Median Sailors"
   ]
  },
  {
   "cell_type": "markdown",
   "metadata": {},
   "source": []
  },
  {
   "cell_type": "code",
   "execution_count": 59,
   "metadata": {},
   "outputs": [
    {
     "name": "stdout",
     "output_type": "stream",
     "text": [
      "1633 1658\n",
      "median number of sailors:148\n",
      "1658 1683\n",
      "median number of sailors:262\n",
      "1683 1708\n",
      "median number of sailors:204\n",
      "1708 1733\n",
      "median number of sailors:199\n",
      "1733 1758\n",
      "median number of sailors:254\n",
      "1758 1783\n",
      "median number of sailors:312\n",
      "1783 1795\n",
      "median number of sailors:298\n"
     ]
    }
   ],
   "source": [
    "estimates = []\n",
    "V_observations = []\n",
    "for index, (start, end) in enumerate(date_ranges):\n",
    "    print(start, end)\n",
    "    df_slice = sailors_df[sailors_df['year'].between(start, end, inclusive=\"left\")]\n",
    "    median_sailors = int(df_slice.groupby(['outward_voyage_id'])['vocop_id'].count().median())\n",
    "    \n",
    "    print(f'median number of sailors:{median_sailors}')\n",
    "    V = DAS_voyages[index] * median_sailors\n",
    "    records = df_slice.loc[df_slice['disambiguated_person'] == 1]['person_cluster_id'].astype(int).values\n",
    "    counts = np.array(list(collections.Counter(records).values()))\n",
    "    N, V_obs = counts.sum(), counts.shape[0]\n",
    "    V_observations.append(V_obs)\n",
    "    q = len(records) / V\n",
    "    estimate = chao_wor(counts, q)\n",
    "    estimate['period'] = (start, end)\n",
    "    estimates.append(estimate)"
   ]
  },
  {
   "cell_type": "code",
   "execution_count": 60,
   "metadata": {},
   "outputs": [
    {
     "data": {
      "text/org": [
       "|    |         q |     f1 |    f2 |       f0 |   V_obs |   V_est |              var |       sd |      lci |      uci |   Chao1 | period       |\n",
       "|----+-----------+--------+-------+----------+---------+---------+------------------+----------+----------+----------+---------+--------------|\n",
       "|  0 | 0.0356751 |   2443 |    14 |  50411.8 |    2457 |   52869 |      1.18031e+07 | 3435.56  |  46572.4 |  60063.9 |  215522 | (1633, 1658) |\n",
       "|  1 | 0.035771  |   5432 |    30 | 112824   |    5462 |  118287 |      2.59963e+07 | 5098.66  | 108727   | 128730   |  497150 | (1658, 1683) |\n",
       "|  2 | 0.441682  |  47787 |  3190 |  51683.6 |   51501 |  103185 | 142350           |  377.293 | 102450   | 103929   |  409425 | (1683, 1708) |\n",
       "|  3 | 0.746805  |  95847 | 10681 |  30212.7 |  110517 |  140730 |  41543.3         |  203.822 | 140333   | 141132   |  540560 | (1708, 1733) |\n",
       "|  4 | 0.696089  | 115396 | 11174 |  46453.8 |  130069 |  176523 |  69357.6         |  263.358 | 176010   | 177042   |  725923 | (1733, 1758) |\n",
       "|  5 | 0.658105  | 106675 | 12613 |  49355.7 |  123553 |  172909 |  79773.7         |  282.442 | 172358   | 173465   |  574654 | (1758, 1783) |\n",
       "|  6 | 0.47446   |  44110 |  3977 |  40724.6 |   48738 |   89463 | 103444           |  321.627 |  88837.1 |  90097.9 |  293352 | (1783, 1795) |"
      ],
      "text/plain": [
       "[{'q': 0.035675098175098174,\n",
       "  'f1': 2443,\n",
       "  'f2': 14,\n",
       "  'f0': 50411.82422503258,\n",
       "  'V_obs': 2457,\n",
       "  'V_est': 52869,\n",
       "  'var': 11803071.796889361,\n",
       "  'sd': 3435.559895692311,\n",
       "  'lci': 46572.40940107014,\n",
       "  'uci': 60063.90099441612,\n",
       "  'Chao1': 215522.48866855525,\n",
       "  'period': (1633, 1658)},\n",
       " {'q': 0.035771044472813485,\n",
       "  'f1': 5432,\n",
       "  'f2': 30,\n",
       "  'f0': 112824.08440178585,\n",
       "  'V_obs': 5462,\n",
       "  'V_est': 118287,\n",
       "  'var': 25996296.94366372,\n",
       "  'sd': 5098.6563861142595,\n",
       "  'lci': 108727.34775026624,\n",
       "  'uci': 128729.62363581425,\n",
       "  'Chao1': 497149.5224083515,\n",
       "  'period': (1658, 1683)},\n",
       " {'q': 0.4416824794433903,\n",
       "  'f1': 47787,\n",
       "  'f2': 3190,\n",
       "  'f0': 51683.57983856962,\n",
       "  'V_obs': 51501,\n",
       "  'V_est': 103185,\n",
       "  'var': 142349.81356994636,\n",
       "  'sd': 377.2927425354831,\n",
       "  'lci': 102450.37440348248,\n",
       "  'uci': 103929.36553351712,\n",
       "  'Chao1': 409425.2149217709,\n",
       "  'period': (1683, 1708)},\n",
       " {'q': 0.7468052934355033,\n",
       "  'f1': 95847,\n",
       "  'f2': 10681,\n",
       "  'f0': 30212.702328860487,\n",
       "  'V_obs': 110517,\n",
       "  'V_est': 140730,\n",
       "  'var': 41543.27371032035,\n",
       "  'sd': 203.82167134610674,\n",
       "  'lci': 140332.85313157592,\n",
       "  'uci': 141131.83359151782,\n",
       "  'Chao1': 540559.9492600405,\n",
       "  'period': (1708, 1733)},\n",
       " {'q': 0.6960889912345862,\n",
       "  'f1': 115396,\n",
       "  'f2': 11174,\n",
       "  'f0': 46453.81358344409,\n",
       "  'V_obs': 130069,\n",
       "  'V_est': 176523,\n",
       "  'var': 69357.5683163892,\n",
       "  'sd': 263.3582508986365,\n",
       "  'lci': 176009.50213878218,\n",
       "  'uci': 177041.8604603924,\n",
       "  'Chao1': 725923.1256857443,\n",
       "  'period': (1733, 1758)},\n",
       " {'q': 0.6581047782301265,\n",
       "  'f1': 106675,\n",
       "  'f2': 12613,\n",
       "  'f0': 49355.73637708434,\n",
       "  'V_obs': 123553,\n",
       "  'V_est': 172909,\n",
       "  'var': 79773.65519044318,\n",
       "  'sd': 282.44230417988587,\n",
       "  'lci': 172358.25701460932,\n",
       "  'uci': 173465.42465120222,\n",
       "  'Chao1': 574654.1827775068,\n",
       "  'period': (1758, 1783)},\n",
       " {'q': 0.474459845444828,\n",
       "  'f1': 44110,\n",
       "  'f2': 3977,\n",
       "  'f0': 40724.58830772201,\n",
       "  'V_obs': 48738,\n",
       "  'V_est': 89463,\n",
       "  'var': 103443.84329753228,\n",
       "  'sd': 321.6268696759216,\n",
       "  'lci': 88837.07464145645,\n",
       "  'uci': 90097.85948959569,\n",
       "  'Chao1': 293351.54913272185,\n",
       "  'period': (1783, 1795)}]"
      ]
     },
     "execution_count": 60,
     "metadata": {},
     "output_type": "execute_result"
    }
   ],
   "source": [
    "estimates"
   ]
  },
  {
   "cell_type": "code",
   "execution_count": 61,
   "metadata": {},
   "outputs": [
    {
     "data": {
      "image/png": "[encoded data removed]",
      "text/plain": [
       "<Figure size 432x288 with 1 Axes>"
      ]
     },
     "metadata": {
      "needs_background": "light"
     },
     "output_type": "display_data"
    }
   ],
   "source": [
    "labels = [x[0] for x in date_ranges]\n",
    "\n",
    "fig, ax = plt.subplots(figsize=(6, 4))\n",
    "\n",
    "ax.plot(labels, V_observations, label=r'$V_{\\text{obs}}$', color=\"k\", linestyle='dashed')\n",
    "lci, uci, est = zip(*[(est[\"lci\"], est[\"uci\"], est[\"V_est\"]) for est in estimates])\n",
    "ax.plot(labels, est, color=\"k\", label=r'$\\hat{V}$')\n",
    "ax.fill_between(labels, lci, uci, color=\"lightgrey\", alpha=0.4)\n",
    "ax.set(xlabel='year', ylabel='Number of unique sailors')\n",
    "ax.ticklabel_format(axis=\"y\", style=\"sci\", scilimits=(3, 3))\n",
    "ax.legend()\n",
    "plt.savefig('../figures/25year_plot_median.png', dpi=300)"
   ]
  },
  {
   "cell_type": "code",
   "execution_count": 104,
   "metadata": {},
   "outputs": [],
   "source": [
    "## TODO: make latex table from estimates output"
   ]
  },
  {
   "cell_type": "code",
   "execution_count": null,
   "metadata": {},
   "outputs": [],
   "source": []
  }
 ],
 "metadata": {
  "kernelspec": {
   "display_name": "Python 3 (ipykernel)",
   "language": "python",
   "name": "python3"
  },
  "language_info": {
   "codemirror_mode": {
    "name": "ipython",
    "version": 3
   },
   "file_extension": ".py",
   "mimetype": "text/x-python",
   "name": "python",
   "nbconvert_exporter": "python",
   "pygments_lexer": "ipython3",
   "version": "3.9.13"
  },
  "vscode": {
   "interpreter": {
    "hash": "2f1dcb2d14e818eb78da5fc0066a669981c8f24be2db3cc976636f8607eeea8a"
   }
  }
 },
 "nbformat": 4,
 "nbformat_minor": 2
}
