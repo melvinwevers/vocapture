{
 "cells": [
  {
   "cell_type": "code",
   "execution_count": 1,
   "metadata": {},
   "outputs": [],
   "source": [
    "import collections\n",
    "import matplotlib.pyplot as plt\n",
    "import numpy as np\n",
    "import pandas as pd\n",
    "import scipy.stats as stats\n",
    "\n",
    "from copia import chao1"
   ]
  },
  {
   "cell_type": "code",
   "execution_count": 2,
   "metadata": {},
   "outputs": [],
   "source": [
    "plt.style.use('science')"
   ]
  },
  {
   "cell_type": "markdown",
   "metadata": {},
   "source": [
    "# Functions"
   ]
  },
  {
   "cell_type": "code",
   "execution_count": 3,
   "metadata": {},
   "outputs": [],
   "source": [
    "def chao_wor(x, q, conf=0.95):\n",
    "    x = x[x > 0]\n",
    "    n = x.sum() # sample size\n",
    "    t = len(x)  # number of unique items\n",
    "    # Convert the int64 to longs to ensure the numbers\n",
    "    # don't get too big in the variance calculation\n",
    "    f1 = (x == 1).sum().item() # number of singletons\n",
    "    f2 = (x == 2).sum().item() # number of doubletons\n",
    "    w = n / (n - 1)\n",
    "    r = q / (1 - q)\n",
    "    f0 = (f1 ** 2) / (2 * w * f2 + r * f1)\n",
    "\n",
    "    # compute sd\n",
    "    t1 = ((2 * w * f2 * (f0**2) + (f1**2) * f0) ** 2) / (f1 ** 5)\n",
    "    t2 = (4 * (w**2) * f2) * ((f0 / f1)**4)\n",
    "    var = f0 + t1 + t2\n",
    "        \n",
    "    z = abs(stats.norm.ppf((1 - conf) / 2))\n",
    "    K = np.exp(z * np.sqrt(np.log(1 + var / f0 ** 2)))\n",
    "    lci, uci = t + f0 / K, t + f0 * K\n",
    "    return {\n",
    "        \"q\": q,\n",
    "        \"f1\": f1,\n",
    "        \"f2\": f2,\n",
    "        \"f0\": f0,\n",
    "        \"V_obs\": t,\n",
    "        \"V_est\": int(t + f0), ##turned this into integer\n",
    "        \"var\": var,\n",
    "        \"sd\": np.sqrt(var),\n",
    "        \"lci\": lci,\n",
    "        \"uci\": uci,\n",
    "        \"Chao1\": chao1(x)\n",
    "    }"
   ]
  },
  {
   "cell_type": "markdown",
   "metadata": {},
   "source": [
    "# Loading Data"
   ]
  },
  {
   "cell_type": "code",
   "execution_count": 4,
   "metadata": {},
   "outputs": [
    {
     "data": {
      "text/html": [
       "<div>\n",
       "<style scoped>\n",
       "    .dataframe tbody tr th:only-of-type {\n",
       "        vertical-align: middle;\n",
       "    }\n",
       "\n",
       "    .dataframe tbody tr th {\n",
       "        vertical-align: top;\n",
       "    }\n",
       "\n",
       "    .dataframe thead th {\n",
       "        text-align: right;\n",
       "    }\n",
       "</style>\n",
       "<table border=\"1\" class=\"dataframe\">\n",
       "  <thead>\n",
       "    <tr style=\"text-align: right;\">\n",
       "      <th></th>\n",
       "      <th>vocop_id</th>\n",
       "      <th>disambiguated_person</th>\n",
       "      <th>person_cluster_id</th>\n",
       "      <th>date_begin_contract</th>\n",
       "      <th>outward_voyage_id</th>\n",
       "    </tr>\n",
       "  </thead>\n",
       "  <tbody>\n",
       "    <tr>\n",
       "      <th>0</th>\n",
       "      <td>104944</td>\n",
       "      <td>1.0</td>\n",
       "      <td>415682.0</td>\n",
       "      <td>1700-05-05</td>\n",
       "      <td>92895</td>\n",
       "    </tr>\n",
       "    <tr>\n",
       "      <th>1</th>\n",
       "      <td>104945</td>\n",
       "      <td>1.0</td>\n",
       "      <td>406243.0</td>\n",
       "      <td>1700-05-05</td>\n",
       "      <td>92895</td>\n",
       "    </tr>\n",
       "    <tr>\n",
       "      <th>2</th>\n",
       "      <td>104946</td>\n",
       "      <td>1.0</td>\n",
       "      <td>1.0</td>\n",
       "      <td>1700-05-05</td>\n",
       "      <td>92895</td>\n",
       "    </tr>\n",
       "    <tr>\n",
       "      <th>3</th>\n",
       "      <td>104947</td>\n",
       "      <td>1.0</td>\n",
       "      <td>77235.0</td>\n",
       "      <td>1700-05-05</td>\n",
       "      <td>92895</td>\n",
       "    </tr>\n",
       "    <tr>\n",
       "      <th>4</th>\n",
       "      <td>104948</td>\n",
       "      <td>1.0</td>\n",
       "      <td>65732.0</td>\n",
       "      <td>1700-05-05</td>\n",
       "      <td>92895</td>\n",
       "    </tr>\n",
       "  </tbody>\n",
       "</table>\n",
       "</div>"
      ],
      "text/plain": [
       "   vocop_id  disambiguated_person  person_cluster_id date_begin_contract  \\\n",
       "0    104944                   1.0           415682.0          1700-05-05   \n",
       "1    104945                   1.0           406243.0          1700-05-05   \n",
       "2    104946                   1.0                1.0          1700-05-05   \n",
       "3    104947                   1.0            77235.0          1700-05-05   \n",
       "4    104948                   1.0            65732.0          1700-05-05   \n",
       "\n",
       "   outward_voyage_id  \n",
       "0              92895  \n",
       "1              92895  \n",
       "2              92895  \n",
       "3              92895  \n",
       "4              92895  "
      ]
     },
     "execution_count": 4,
     "metadata": {},
     "output_type": "execute_result"
    }
   ],
   "source": [
    "df = pd.read_csv('../data/raw/vocapture.csv')\n",
    "df.head()"
   ]
  },
  {
   "cell_type": "markdown",
   "metadata": {},
   "source": [
    "__vocop_id__: the unique id for each contract \\\n",
    "__disambiguated_person__: indicates whether the person is disambiguated (0 = no, 1 = yes). \\\n",
    "__person_cluster_id__: id that refers to unique person. If a person is disambiguated, multiple contracts can belong to one person \\\n",
    "__date_begin_contract__: start date of contract \\\n",
    "__outward_voyage_id__: unique id of outward voyage. "
   ]
  },
  {
   "cell_type": "code",
   "execution_count": 5,
   "metadata": {},
   "outputs": [
    {
     "name": "stdout",
     "output_type": "stream",
     "text": [
      "total number of contracts: 774200\n"
     ]
    }
   ],
   "source": [
    "print(f'total number of contracts: {df.shape[0]}')"
   ]
  },
  {
   "cell_type": "code",
   "execution_count": 6,
   "metadata": {},
   "outputs": [
    {
     "name": "stdout",
     "output_type": "stream",
     "text": [
      "number of nans in date field: 257\n"
     ]
    }
   ],
   "source": [
    "nans = df['date_begin_contract'].isnull().sum()\n",
    "print(f'number of nans in date field: {nans}')\n",
    "df = df.dropna(subset=['date_begin_contract'])"
   ]
  },
  {
   "cell_type": "code",
   "execution_count": 9,
   "metadata": {},
   "outputs": [
    {
     "name": "stdout",
     "output_type": "stream",
     "text": [
      "number of disambiguated records: 546973\n"
     ]
    }
   ],
   "source": [
    "#only select disambiguated records\n",
    "records = df.loc[df['disambiguated_person'] == 1]['person_cluster_id'].astype(int).values\n",
    "print(f'number of disambiguated records: {len(records)}')"
   ]
  },
  {
   "cell_type": "code",
   "execution_count": 7,
   "metadata": {},
   "outputs": [],
   "source": [
    "# construct year variable as Pandas is notoriously bad at working with dates before 1643\n",
    "\n",
    "df['year'] = df['date_begin_contract'].str.split('-', expand=True)[0].astype(int)\n",
    "df = df.sort_values(by='year')"
   ]
  },
  {
   "cell_type": "code",
   "execution_count": 18,
   "metadata": {},
   "outputs": [],
   "source": [
    "df_disambiguated = df.loc[df['disambiguated_person'] == 1]\n",
    "df_unique_persons = df.loc[df['disambiguated_person'] == 1].drop_duplicates(subset=['person_cluster_id'])"
   ]
  },
  {
   "cell_type": "markdown",
   "metadata": {},
   "source": [
    "## plot time series\n",
    "\n",
    "\n"
   ]
  },
  {
   "cell_type": "code",
   "execution_count": 111,
   "metadata": {},
   "outputs": [
    {
     "data": {
      "image/png": "[encoded data removed]",
      "text/plain": [
       "<Figure size 360x288 with 1 Axes>"
      ]
     },
     "metadata": {
      "needs_background": "light"
     },
     "output_type": "display_data"
    }
   ],
   "source": [
    "fig, ax = plt.subplots(figsize=(5, 4))\n",
    "\n",
    "#df.groupby(pd.Grouper(key='year'))['date_begin_contract'].count().plot(ax=ax, color=\"k\", label='') # all records\n",
    "df_disambiguated.groupby(pd.Grouper(key='year'))['date_begin_contract'].count().plot(ax=ax, color=\"k\") # disambiguated\n",
    "#df_unique_persons.groupby(pd.Grouper(key='year'))['date_begin_contract'].count().plot(ax=ax, color=\"k\", linestyle='dashed') # unique persons\n",
    "ax.set(xlabel='Year', ylabel='Number of clustre contracts')\n",
    "ax.ticklabel_format(axis=\"y\", style=\"sci\", scilimits=(3, 3))\n",
    "plt.title('Overview of Contracts per Year')\n",
    "plt.savefig('../figures/total_contracts.png', dpi=300)"
   ]
  },
  {
   "cell_type": "markdown",
   "metadata": {},
   "source": [
    "## Calculating number of sailors on a ship"
   ]
  },
  {
   "cell_type": "code",
   "execution_count": 65,
   "metadata": {},
   "outputs": [],
   "source": [
    "# remove outward_voyage_id 0\n",
    "sailors_df = df[df['outward_voyage_id'] != 0]"
   ]
  },
  {
   "cell_type": "code",
   "execution_count": 74,
   "metadata": {},
   "outputs": [],
   "source": [
    "# I used person_cluster_id before, this should be vocop_id, we want to use all records\n",
    "# not only the disambiguated ones\n"
   ]
  },
  {
   "cell_type": "code",
   "execution_count": 121,
   "metadata": {},
   "outputs": [
    {
     "name": "stdout",
     "output_type": "stream",
     "text": [
      "mean sailors on a ship: 244.99620132953467\n",
      "median sailors on a ship: 247.0\n"
     ]
    }
   ],
   "source": [
    "# For the calculation of the median and mean, we outward voyages to which no contracts are linked. \n",
    "\n",
    "mean_sailors = df.groupby(['outward_voyage_id'])['vocop_id'].count().mean()\n",
    "median_sailors = df.groupby(['outward_voyage_id'])['vocop_id'].count().median()\n",
    "print(f'mean sailors on a ship: {mean_sailors}')\n",
    "print(f'median sailors on a ship: {median_sailors}')\n",
    "n_records = 4_352"
   ]
  },
  {
   "cell_type": "code",
   "execution_count": 89,
   "metadata": {},
   "outputs": [
    {
     "name": "stdout",
     "output_type": "stream",
     "text": [
      "The archive consists of N=546973 records and V_obs=460274 unique sailors.\n"
     ]
    }
   ],
   "source": [
    "counts = np.array(list(collections.Counter(records).values()))\n",
    "N_obs, V_obs = counts.sum(), counts.shape[0]\n",
    "\n",
    "#N, V = len(records), len(np.unique(records))\n",
    "print(f\"The archive consists of N={N_obs} records and V_obs={V_obs} unique sailors.\")"
   ]
  },
  {
   "cell_type": "markdown",
   "metadata": {},
   "source": [
    "### Using Mean Sailors"
   ]
  },
  {
   "cell_type": "code",
   "execution_count": 90,
   "metadata": {},
   "outputs": [
    {
     "name": "stdout",
     "output_type": "stream",
     "text": [
      "1066223\n"
     ]
    }
   ],
   "source": [
    "N_est = int(mean_sailors * n_records)\n",
    "print(N_est)"
   ]
  },
  {
   "cell_type": "code",
   "execution_count": 91,
   "metadata": {},
   "outputs": [
    {
     "name": "stdout",
     "output_type": "stream",
     "text": [
      "0.5130005636719523\n"
     ]
    }
   ],
   "source": [
    "q = N_obs / N_est\n",
    "print(q)"
   ]
  },
  {
   "cell_type": "code",
   "execution_count": 92,
   "metadata": {},
   "outputs": [
    {
     "data": {
      "text/plain": [
       "{'q': 0.5130005636719523,\n",
       " 'f1': 401179,\n",
       " 'f2': 42889,\n",
       " 'f0': 316585.55462328886,\n",
       " 'V_obs': 460274,\n",
       " 'V_est': 776859,\n",
       " 'var': 724365.3788273942,\n",
       " 'sd': 851.0965743247908,\n",
       " 'lci': 775195.8260156485,\n",
       " 'uci': 778532.0726912054,\n",
       " 'Chao1': 2336562.7429766366}"
      ]
     },
     "execution_count": 92,
     "metadata": {},
     "output_type": "execute_result"
    }
   ],
   "source": [
    "estimates = chao_wor(counts, q)\n",
    "estimates"
   ]
  },
  {
   "cell_type": "code",
   "execution_count": 93,
   "metadata": {},
   "outputs": [
    {
     "data": {
      "text/plain": [
       "1.6878185602488953"
      ]
     },
     "execution_count": 93,
     "metadata": {},
     "output_type": "execute_result"
    }
   ],
   "source": [
    "estimates['V_est'] /estimates['V_obs']"
   ]
  },
  {
   "cell_type": "markdown",
   "metadata": {},
   "source": [
    "### Using Median"
   ]
  },
  {
   "cell_type": "code",
   "execution_count": 113,
   "metadata": {},
   "outputs": [
    {
     "name": "stdout",
     "output_type": "stream",
     "text": [
      "1296896\n"
     ]
    }
   ],
   "source": [
    "N_est = int(median_sailors * n_records)\n",
    "print(N_est)"
   ]
  },
  {
   "cell_type": "code",
   "execution_count": 114,
   "metadata": {},
   "outputs": [
    {
     "name": "stdout",
     "output_type": "stream",
     "text": [
      "0.4217554838630083\n"
     ]
    }
   ],
   "source": [
    "q = N_obs / N_est\n",
    "print(q)"
   ]
  },
  {
   "cell_type": "code",
   "execution_count": 115,
   "metadata": {},
   "outputs": [
    {
     "data": {
      "text/plain": [
       "{'q': 0.4217554838630083,\n",
       " 'f1': 44110,\n",
       " 'f2': 3977,\n",
       " 'f0': 48488.6476567973,\n",
       " 'V_obs': 48738,\n",
       " 'V_est': 97226,\n",
       " 'var': 148246.32563606897,\n",
       " 'sd': 385.0276946351638,\n",
       " 'lci': 96477.86093230956,\n",
       " 'uci': 97987.17889724759,\n",
       " 'Chao1': 293351.54913272185}"
      ]
     },
     "execution_count": 115,
     "metadata": {},
     "output_type": "execute_result"
    }
   ],
   "source": [
    "estimates = chao_wor(counts, q)\n",
    "estimates"
   ]
  },
  {
   "cell_type": "code",
   "execution_count": 117,
   "metadata": {},
   "outputs": [
    {
     "data": {
      "text/plain": [
       "0.5012856643284718"
      ]
     },
     "execution_count": 117,
     "metadata": {},
     "output_type": "execute_result"
    }
   ],
   "source": [
    "estimates['V_obs'] / estimates['V_est'] "
   ]
  },
  {
   "cell_type": "markdown",
   "metadata": {},
   "source": [
    "Note that Chao1 gives an unrealistic lowerbound of more than 2 million, which by far exceeds the know upper limt of N_est. "
   ]
  },
  {
   "cell_type": "markdown",
   "metadata": {},
   "source": [
    "## per 25 years"
   ]
  },
  {
   "cell_type": "code",
   "execution_count": 97,
   "metadata": {},
   "outputs": [
    {
     "data": {
      "text/plain": [
       "[(1633, 1658),\n",
       " (1658, 1683),\n",
       " (1683, 1708),\n",
       " (1708, 1733),\n",
       " (1733, 1758),\n",
       " (1758, 1783),\n",
       " (1783, 1795)]"
      ]
     },
     "execution_count": 97,
     "metadata": {},
     "output_type": "execute_result"
    }
   ],
   "source": [
    "date_ranges = []\n",
    "x = 1633\n",
    "y = 0\n",
    "while y < 1795:\n",
    "    y = x + 25\n",
    "    if y > 1795:\n",
    "        y = 1795\n",
    "    date_ranges.append((x, y))\n",
    "    x = y\n",
    "\n",
    "\n",
    "date_ranges\n"
   ]
  },
  {
   "cell_type": "code",
   "execution_count": 98,
   "metadata": {},
   "outputs": [],
   "source": [
    "DAS_voyages = [468, 586, 620, 884, 848, 718, 383]"
   ]
  },
  {
   "cell_type": "code",
   "execution_count": 99,
   "metadata": {},
   "outputs": [
    {
     "name": "stdout",
     "output_type": "stream",
     "text": [
      "(1633, 1658)\n",
      "mean number of sailors:181\n",
      "(1658, 1683)\n",
      "mean number of sailors:238\n",
      "(1683, 1708)\n",
      "mean number of sailors:193\n",
      "(1708, 1733)\n",
      "mean number of sailors:202\n",
      "(1733, 1758)\n",
      "mean number of sailors:253\n",
      "(1758, 1783)\n",
      "mean number of sailors:311\n",
      "(1783, 1795)\n",
      "mean number of sailors:272\n"
     ]
    }
   ],
   "source": [
    "estimates = []\n",
    "V_observations = []\n",
    "for index, date in enumerate(date_ranges):\n",
    "    print(date)\n",
    "    df_slice = df[df['year'].between(date[0], date[1])]\n",
    "    mean_sailors = int(df_slice.groupby(['outward_voyage_id'])['vocop_id'].count().mean())\n",
    "    print(f'mean number of sailors:{mean_sailors}')\n",
    "    V = DAS_voyages[index] * mean_sailors\n",
    "    records = df_slice.loc[df_slice['disambiguated_person'] == 1]['person_cluster_id'].astype(int).values\n",
    "    counts = np.array(list(collections.Counter(records).values()))\n",
    "    N, V_obs = counts.sum(), counts.shape[0]\n",
    "    V_observations.append(V_obs)\n",
    "    q = len(records) / V\n",
    "    estimate = chao_wor(counts, q)\n",
    "    estimates.append(estimate)"
   ]
  },
  {
   "cell_type": "code",
   "execution_count": 100,
   "metadata": {},
   "outputs": [
    {
     "data": {
      "image/png": "[encoded data removed]",
      "text/plain": [
       "<Figure size 432x288 with 1 Axes>"
      ]
     },
     "metadata": {
      "needs_background": "light"
     },
     "output_type": "display_data"
    }
   ],
   "source": [
    "labels = [x[0] for x in date_ranges]\n",
    "\n",
    "fig, ax = plt.subplots(figsize=(6, 4))\n",
    "\n",
    "ax.plot(labels, V_observations, label=r'$V_{\\text{obs}}$', color=\"k\", linestyle='dashed')\n",
    "lci, uci, est = zip(*[(est[\"lci\"], est[\"uci\"], est[\"V_est\"]) for est in estimates])\n",
    "ax.plot(labels, est, color=\"k\", label=r'$\\hat{V}$')\n",
    "ax.fill_between(labels, lci, uci, color=\"lightgrey\", alpha=0.4)\n",
    "ax.set(xlabel='year', ylabel='Number of unique sailors')\n",
    "ax.ticklabel_format(axis=\"y\", style=\"sci\", scilimits=(3, 3))\n",
    "ax.legend()\n",
    "plt.savefig('../figures/25year_plot.png', dpi=300)"
   ]
  },
  {
   "cell_type": "markdown",
   "metadata": {},
   "source": [
    "### Median Sailors"
   ]
  },
  {
   "cell_type": "markdown",
   "metadata": {},
   "source": []
  },
  {
   "cell_type": "code",
   "execution_count": 127,
   "metadata": {},
   "outputs": [
    {
     "name": "stdout",
     "output_type": "stream",
     "text": [
      "(1633, 1658)\n",
      "median number of sailors:148\n",
      "(1658, 1683)\n",
      "median number of sailors:262\n",
      "(1683, 1708)\n",
      "median number of sailors:203\n",
      "(1708, 1733)\n",
      "median number of sailors:199\n",
      "(1733, 1758)\n",
      "median number of sailors:256\n",
      "(1758, 1783)\n",
      "median number of sailors:312\n",
      "(1783, 1795)\n",
      "median number of sailors:298\n"
     ]
    }
   ],
   "source": [
    "estimates = []\n",
    "V_observations = []\n",
    "for index, date in enumerate(date_ranges):\n",
    "    print(date)\n",
    "    df_slice = df[df['year'].between(date[0], date[1])]\n",
    "    median_sailors = int(df_slice.groupby(['outward_voyage_id'])['vocop_id'].count().median())\n",
    "    \n",
    "    print(f'median number of sailors:{median_sailors}')\n",
    "    V = DAS_voyages[index] * median_sailors\n",
    "    records = df_slice.loc[df_slice['disambiguated_person'] == 1]['person_cluster_id'].astype(int).values\n",
    "    counts = np.array(list(collections.Counter(records).values()))\n",
    "    N, V_obs = counts.sum(), counts.shape[0]\n",
    "    V_observations.append(V_obs)\n",
    "    q = len(records) / V\n",
    "    estimate = chao_wor(counts, q)\n",
    "    estimate['period'] = date\n",
    "    estimates.append(estimate)"
   ]
  },
  {
   "cell_type": "code",
   "execution_count": 128,
   "metadata": {},
   "outputs": [
    {
     "data": {
      "text/plain": [
       "[{'q': 0.035675098175098174,\n",
       "  'f1': 2443,\n",
       "  'f2': 14,\n",
       "  'f0': 50411.82422503258,\n",
       "  'V_obs': 2457,\n",
       "  'V_est': 52868,\n",
       "  'var': 11803071.796889361,\n",
       "  'sd': 3435.559895692311,\n",
       "  'lci': 46572.40940107014,\n",
       "  'uci': 60063.90099441612,\n",
       "  'Chao1': 215522.48866855525,\n",
       "  'period': (1633, 1658)},\n",
       " {'q': 0.043391605658755175,\n",
       "  'f1': 6576,\n",
       "  'f2': 43,\n",
       "  'f0': 112526.31380819393,\n",
       "  'V_obs': 6619,\n",
       "  'V_est': 119145,\n",
       "  'var': 17747644.817950103,\n",
       "  'sd': 4212.795368629967,\n",
       "  'lci': 111186.73487497088,\n",
       "  'uci': 127709.61475224636,\n",
       "  'Chao1': 509378.1266258474,\n",
       "  'period': (1658, 1683)},\n",
       " {'q': 0.46854441442873035,\n",
       "  'f1': 50227,\n",
       "  'f2': 3432,\n",
       "  'f0': 49325.010095404126,\n",
       "  'V_obs': 54239,\n",
       "  'V_est': 103564,\n",
       "  'var': 124407.08627926047,\n",
       "  'sd': 352.7138872787127,\n",
       "  'lci': 102877.53418652521,\n",
       "  'uci': 104260.17480723225,\n",
       "  'Chao1': 421766.4984662417,\n",
       "  'period': (1683, 1708)},\n",
       " {'q': 0.7698333295436458,\n",
       "  'f1': 98575,\n",
       "  'f2': 11054,\n",
       "  'f0': 27620.127486016794,\n",
       "  'V_obs': 113772,\n",
       "  'V_est': 141392,\n",
       "  'var': 36634.874670807236,\n",
       "  'sd': 191.40238940725698,\n",
       "  'lci': 141019.52626743802,\n",
       "  'uci': 141769.82390724713,\n",
       "  'Chao1': 553294.2938941331,\n",
       "  'period': (1708, 1733)},\n",
       " {'q': 0.7167415978773585,\n",
       "  'f1': 119256,\n",
       "  'f2': 11689,\n",
       "  'f0': 43741.53833397693,\n",
       "  'V_obs': 134658,\n",
       "  'V_est': 178399,\n",
       "  'var': 63021.73707399158,\n",
       "  'sd': 251.0413055136377,\n",
       "  'lci': 177910.267415584,\n",
       "  'uci': 178894.34389935806,\n",
       "  'Chao1': 743003.5442152264,\n",
       "  'period': (1733, 1758)},\n",
       " {'q': 0.6836342046996643,\n",
       "  'f1': 111416,\n",
       "  'f2': 12908,\n",
       "  'f0': 46566.765270887634,\n",
       "  'V_obs': 128683,\n",
       "  'V_est': 175249,\n",
       "  'var': 71557.34668527373,\n",
       "  'sd': 267.50204987116217,\n",
       "  'lci': 174728.41562884318,\n",
       "  'uci': 175777.01789905017,\n",
       "  'Chao1': 609526.0430224801,\n",
       "  'period': (1758, 1783)},\n",
       " {'q': 0.474459845444828,\n",
       "  'f1': 44110,\n",
       "  'f2': 3977,\n",
       "  'f0': 40724.58830772201,\n",
       "  'V_obs': 48738,\n",
       "  'V_est': 89462,\n",
       "  'var': 103443.84329753228,\n",
       "  'sd': 321.6268696759216,\n",
       "  'lci': 88837.07464145645,\n",
       "  'uci': 90097.85948959569,\n",
       "  'Chao1': 293351.54913272185,\n",
       "  'period': (1783, 1795)}]"
      ]
     },
     "execution_count": 128,
     "metadata": {},
     "output_type": "execute_result"
    }
   ],
   "source": [
    "estimates"
   ]
  },
  {
   "cell_type": "code",
   "execution_count": 129,
   "metadata": {},
   "outputs": [
    {
     "data": {
      "image/png": "[encoded data removed]",
      "text/plain": [
       "<Figure size 432x288 with 1 Axes>"
      ]
     },
     "metadata": {
      "needs_background": "light"
     },
     "output_type": "display_data"
    }
   ],
   "source": [
    "labels = [x[0] for x in date_ranges]\n",
    "\n",
    "fig, ax = plt.subplots(figsize=(6, 4))\n",
    "\n",
    "ax.plot(labels, V_observations, label=r'$V_{\\text{obs}}$', color=\"k\", linestyle='dashed')\n",
    "lci, uci, est = zip(*[(est[\"lci\"], est[\"uci\"], est[\"V_est\"]) for est in estimates])\n",
    "ax.plot(labels, est, color=\"k\", label=r'$\\hat{V}$')\n",
    "ax.fill_between(labels, lci, uci, color=\"lightgrey\", alpha=0.4)\n",
    "ax.set(xlabel='year', ylabel='Number of unique sailors')\n",
    "ax.ticklabel_format(axis=\"y\", style=\"sci\", scilimits=(3, 3))\n",
    "ax.legend()\n",
    "plt.savefig('../figures/25year_plot_median.png', dpi=300)"
   ]
  },
  {
   "cell_type": "code",
   "execution_count": 104,
   "metadata": {},
   "outputs": [],
   "source": [
    "## TODO: make latex table from estimates output"
   ]
  },
  {
   "cell_type": "code",
   "execution_count": null,
   "metadata": {},
   "outputs": [],
   "source": []
  }
 ],
 "metadata": {
  "kernelspec": {
   "display_name": "Python 3 (ipykernel)",
   "language": "python",
   "name": "python3"
  },
  "language_info": {
   "codemirror_mode": {
    "name": "ipython",
    "version": 3
   },
   "file_extension": ".py",
   "mimetype": "text/x-python",
   "name": "python",
   "nbconvert_exporter": "python",
   "pygments_lexer": "ipython3",
   "version": "3.9.12"
  },
  "vscode": {
   "interpreter": {
    "hash": "2f1dcb2d14e818eb78da5fc0066a669981c8f24be2db3cc976636f8607eeea8a"
   }
  }
 },
 "nbformat": 4,
 "nbformat_minor": 2
}
