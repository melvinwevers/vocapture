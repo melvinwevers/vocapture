{
 "cells": [
  {
   "cell_type": "code",
   "execution_count": 373,
   "metadata": {},
   "outputs": [],
   "source": [
    "import collections\n",
    "import math\n",
    "import matplotlib.pyplot as plt\n",
    "import numpy as np\n",
    "import pandas as pd\n",
    "import scipy.stats as stats\n",
    "\n",
    "from copia import chao1"
   ]
  },
  {
   "cell_type": "code",
   "execution_count": 374,
   "metadata": {},
   "outputs": [],
   "source": [
    "plt.style.use('science')"
   ]
  },
  {
   "cell_type": "markdown",
   "metadata": {},
   "source": [
    "# Functions"
   ]
  },
  {
   "cell_type": "code",
   "execution_count": 375,
   "metadata": {},
   "outputs": [],
   "source": [
    "def chao_wor(x, q, conf=0.95):\n",
    "    x = x[x > 0]\n",
    "    n = x.sum() # sample size\n",
    "    t = len(x)  # number of unique items\n",
    "    # Convert the int64 to longs to ensure the numbers\n",
    "    # don't get too big in the variance calculation\n",
    "    f1 = (x == 1).sum().item() # number of singletons\n",
    "    f2 = (x == 2).sum().item() # number of doubletons\n",
    "    w = n / (n - 1)\n",
    "    r = q / (1 - q)\n",
    "    f0 = (f1 ** 2) / (2 * w * f2 + r * f1)\n",
    "\n",
    "    # compute sd\n",
    "    t1 = ((2 * w * f2 * (f0**2) + (f1**2) * f0) ** 2) / (f1 ** 5)\n",
    "    t2 = (4 * (w**2) * f2) * ((f0 / f1)**4)\n",
    "    var = f0 + t1 + t2\n",
    "        \n",
    "    z = abs(stats.norm.ppf((1 - conf) / 2))\n",
    "    K = np.exp(z * np.sqrt(np.log(1 + var / f0 ** 2)))\n",
    "    lci, uci = t + f0 / K, t + f0 * K\n",
    "    return {\n",
    "        \"q\": q,\n",
    "        \"f1\": f1,\n",
    "        \"f2\": f2,\n",
    "        \"f0\": f0,\n",
    "        \"V_obs\": t,\n",
    "        \"V_est\": math.ceil(t + f0), \n",
    "        \"var\": var,\n",
    "        \"sd\": np.sqrt(var),\n",
    "        \"lci\": lci,\n",
    "        \"uci\": uci,\n",
    "        \"Chao1\": chao1(x)\n",
    "    }"
   ]
  },
  {
   "cell_type": "markdown",
   "metadata": {},
   "source": [
    "# Loading Data"
   ]
  },
  {
   "cell_type": "code",
   "execution_count": 376,
   "metadata": {},
   "outputs": [
    {
     "data": {
      "text/html": [
       "<div>\n",
       "<style scoped>\n",
       "    .dataframe tbody tr th:only-of-type {\n",
       "        vertical-align: middle;\n",
       "    }\n",
       "\n",
       "    .dataframe tbody tr th {\n",
       "        vertical-align: top;\n",
       "    }\n",
       "\n",
       "    .dataframe thead th {\n",
       "        text-align: right;\n",
       "    }\n",
       "</style>\n",
       "<table border=\"1\" class=\"dataframe\">\n",
       "  <thead>\n",
       "    <tr style=\"text-align: right;\">\n",
       "      <th></th>\n",
       "      <th>vocop_id</th>\n",
       "      <th>disambiguated_person</th>\n",
       "      <th>person_cluster_id</th>\n",
       "      <th>date_begin_contract</th>\n",
       "      <th>outward_voyage_id</th>\n",
       "    </tr>\n",
       "  </thead>\n",
       "  <tbody>\n",
       "    <tr>\n",
       "      <th>0</th>\n",
       "      <td>104944</td>\n",
       "      <td>1.0</td>\n",
       "      <td>415682.0</td>\n",
       "      <td>1700-05-05</td>\n",
       "      <td>92895</td>\n",
       "    </tr>\n",
       "    <tr>\n",
       "      <th>1</th>\n",
       "      <td>104945</td>\n",
       "      <td>1.0</td>\n",
       "      <td>406243.0</td>\n",
       "      <td>1700-05-05</td>\n",
       "      <td>92895</td>\n",
       "    </tr>\n",
       "    <tr>\n",
       "      <th>2</th>\n",
       "      <td>104946</td>\n",
       "      <td>1.0</td>\n",
       "      <td>1.0</td>\n",
       "      <td>1700-05-05</td>\n",
       "      <td>92895</td>\n",
       "    </tr>\n",
       "    <tr>\n",
       "      <th>3</th>\n",
       "      <td>104947</td>\n",
       "      <td>1.0</td>\n",
       "      <td>77235.0</td>\n",
       "      <td>1700-05-05</td>\n",
       "      <td>92895</td>\n",
       "    </tr>\n",
       "    <tr>\n",
       "      <th>4</th>\n",
       "      <td>104948</td>\n",
       "      <td>1.0</td>\n",
       "      <td>65732.0</td>\n",
       "      <td>1700-05-05</td>\n",
       "      <td>92895</td>\n",
       "    </tr>\n",
       "  </tbody>\n",
       "</table>\n",
       "</div>"
      ],
      "text/plain": [
       "   vocop_id  disambiguated_person  person_cluster_id date_begin_contract  \\\n",
       "0    104944                   1.0           415682.0          1700-05-05   \n",
       "1    104945                   1.0           406243.0          1700-05-05   \n",
       "2    104946                   1.0                1.0          1700-05-05   \n",
       "3    104947                   1.0            77235.0          1700-05-05   \n",
       "4    104948                   1.0            65732.0          1700-05-05   \n",
       "\n",
       "   outward_voyage_id  \n",
       "0              92895  \n",
       "1              92895  \n",
       "2              92895  \n",
       "3              92895  \n",
       "4              92895  "
      ]
     },
     "execution_count": 376,
     "metadata": {},
     "output_type": "execute_result"
    }
   ],
   "source": [
    "df = pd.read_csv('../data/raw/vocapture.csv')\n",
    "df.head()"
   ]
  },
  {
   "cell_type": "markdown",
   "metadata": {},
   "source": [
    "__vocop_id__: the unique id for each contract \\\n",
    "__disambiguated_person__: indicates whether the person is disambiguated (0 = no, 1 = yes). \\\n",
    "__person_cluster_id__: id that refers to unique person. If a person is disambiguated, multiple contracts can belong to one person \\\n",
    "__date_begin_contract__: start date of contract \\\n",
    "__outward_voyage_id__: unique id of outward voyage. "
   ]
  },
  {
   "cell_type": "code",
   "execution_count": 377,
   "metadata": {},
   "outputs": [
    {
     "name": "stdout",
     "output_type": "stream",
     "text": [
      "total number of contracts: 774200\n"
     ]
    }
   ],
   "source": [
    "print(f'total number of contracts: {df.shape[0]}')"
   ]
  },
  {
   "cell_type": "code",
   "execution_count": 378,
   "metadata": {},
   "outputs": [
    {
     "name": "stdout",
     "output_type": "stream",
     "text": [
      "number of nans in date field: 257\n"
     ]
    }
   ],
   "source": [
    "nans = df['date_begin_contract'].isnull().sum()\n",
    "print(f'number of nans in date field: {nans}')\n",
    "df = df.dropna(subset=['date_begin_contract'])"
   ]
  },
  {
   "cell_type": "code",
   "execution_count": 379,
   "metadata": {},
   "outputs": [
    {
     "name": "stdout",
     "output_type": "stream",
     "text": [
      "number of disambiguated records: 546973\n"
     ]
    }
   ],
   "source": [
    "#only select disambiguated records\n",
    "records = df.loc[df['disambiguated_person'] == 1, 'person_cluster_id'].astype(int).values\n",
    "print(f'number of disambiguated records: {len(records)}')"
   ]
  },
  {
   "cell_type": "code",
   "execution_count": 380,
   "metadata": {},
   "outputs": [
    {
     "data": {
      "text/plain": [
       "array([1633, 1635, 1636, 1637, 1638, 1640, 1641, 1643, 1644, 1645, 1646,\n",
       "       1647, 1648, 1649, 1661, 1662, 1668, 1671, 1672, 1674, 1675, 1676,\n",
       "       1677, 1678, 1679, 1680, 1681, 1682, 1683, 1684, 1685, 1686, 1687,\n",
       "       1688, 1689, 1690, 1691, 1692, 1693, 1694, 1695, 1696, 1697, 1698,\n",
       "       1699, 1700, 1701, 1702, 1703, 1704, 1705, 1706, 1707, 1708, 1709,\n",
       "       1710, 1711, 1712, 1713, 1714, 1715, 1716, 1717, 1718, 1719, 1720,\n",
       "       1721, 1722, 1723, 1724, 1725, 1726, 1727, 1728, 1729, 1730, 1731,\n",
       "       1732, 1733, 1734, 1735, 1736, 1737, 1738, 1739, 1740, 1741, 1742,\n",
       "       1743, 1744, 1745, 1746, 1747, 1748, 1749, 1750, 1751, 1752, 1753,\n",
       "       1754, 1755, 1756, 1757, 1758, 1759, 1760, 1761, 1762, 1763, 1764,\n",
       "       1765, 1766, 1767, 1768, 1769, 1770, 1771, 1772, 1773, 1774, 1775,\n",
       "       1776, 1777, 1778, 1779, 1780, 1781, 1782, 1783, 1784, 1785, 1786,\n",
       "       1787, 1788, 1789, 1790, 1791, 1792, 1793, 1794])"
      ]
     },
     "execution_count": 380,
     "metadata": {},
     "output_type": "execute_result"
    }
   ],
   "source": [
    "# construct year variable\n",
    "df['year'] = df['date_begin_contract'].str.split('-', expand=True)[0].astype(int)\n",
    "df = df.sort_values(by='year')\n",
    "df[\"year\"].unique()"
   ]
  },
  {
   "cell_type": "code",
   "execution_count": 381,
   "metadata": {},
   "outputs": [],
   "source": [
    "df_disambiguated = df.loc[df['disambiguated_person'] == 1]\n",
    "df_unique_persons = df.loc[df['disambiguated_person'] == 1].drop_duplicates(subset=['person_cluster_id'])"
   ]
  },
  {
   "cell_type": "markdown",
   "metadata": {},
   "source": [
    "## plot time series\n",
    "\n",
    "\n"
   ]
  },
  {
   "cell_type": "code",
   "execution_count": 382,
   "metadata": {},
   "outputs": [
    {
     "data": {
      "image/png": "[encoded data removed]",
      "text/plain": [
       "<Figure size 432x288 with 1 Axes>"
      ]
     },
     "metadata": {
      "needs_background": "light"
     },
     "output_type": "display_data"
    }
   ],
   "source": [
    "fig, ax = plt.subplots(figsize=(6, 4))\n",
    "\n",
    "\n",
    "df_disambiguated.groupby('year')['date_begin_contract'].count().plot(ax=ax, color=\"k\", label=None) # disambiguated\n",
    "ax.set(xlabel='Year', ylabel='Number of contracts')\n",
    "ax.ticklabel_format(axis=\"y\", style=\"sci\", scilimits=(3, 3))\n",
    "#TITLE YES OR NO?\n",
    "plt.savefig('../figures/total_contracts.png', dpi=300)"
   ]
  },
  {
   "cell_type": "markdown",
   "metadata": {},
   "source": [
    "## Calculating number of sailors on a ship"
   ]
  },
  {
   "cell_type": "code",
   "execution_count": 383,
   "metadata": {},
   "outputs": [],
   "source": [
    "# remove outward_voyage_id 0\n",
    "sailors_df = df[df['outward_voyage_id'] != 0]"
   ]
  },
  {
   "cell_type": "code",
   "execution_count": 384,
   "metadata": {},
   "outputs": [
    {
     "name": "stdout",
     "output_type": "stream",
     "text": [
      "mean sailors on a ship: 244.59721342621913\n",
      "median sailors on a ship: 247.0\n"
     ]
    }
   ],
   "source": [
    "# For the calculation of the median and mean, we outward voyages to which no contracts are linked. \n",
    "\n",
    "mean_sailors = sailors_df.groupby(['outward_voyage_id'])['vocop_id'].count().mean()\n",
    "median_sailors = sailors_df.groupby(['outward_voyage_id'])['vocop_id'].count().median()\n",
    "print(f'mean sailors on a ship: {mean_sailors}')\n",
    "print(f'median sailors on a ship: {median_sailors}')\n",
    "n_records = 4_352"
   ]
  },
  {
   "cell_type": "code",
   "execution_count": 385,
   "metadata": {},
   "outputs": [],
   "source": [
    "# I used person_cluster_id before, this should be vocop_id, we want to use all records\n",
    "# not only the disambiguated ones\n"
   ]
  },
  {
   "cell_type": "code",
   "execution_count": 386,
   "metadata": {},
   "outputs": [
    {
     "name": "stdout",
     "output_type": "stream",
     "text": [
      "The archive consists of N=546973 records and V_obs=460274 unique sailors.\n"
     ]
    }
   ],
   "source": [
    "counts = np.array(list(collections.Counter(records).values()))\n",
    "N_obs, V_obs = counts.sum(), counts.shape[0]\n",
    "\n",
    "#N, V = len(records), len(np.unique(records))\n",
    "print(f\"The archive consists of N={N_obs} records and V_obs={V_obs} unique sailors.\")"
   ]
  },
  {
   "cell_type": "markdown",
   "metadata": {},
   "source": [
    "### Using Mean Sailors"
   ]
  },
  {
   "cell_type": "code",
   "execution_count": 387,
   "metadata": {},
   "outputs": [
    {
     "name": "stdout",
     "output_type": "stream",
     "text": [
      "1064487\n"
     ]
    }
   ],
   "source": [
    "N_est = int(mean_sailors * n_records)\n",
    "print(N_est)"
   ]
  },
  {
   "cell_type": "code",
   "execution_count": 388,
   "metadata": {},
   "outputs": [
    {
     "name": "stdout",
     "output_type": "stream",
     "text": [
      "0.5138371816659104\n"
     ]
    }
   ],
   "source": [
    "q = N_obs / N_est\n",
    "print(q)"
   ]
  },
  {
   "cell_type": "code",
   "execution_count": 389,
   "metadata": {},
   "outputs": [
    {
     "data": {
      "text/plain": [
       "{'q': 0.5138371816659104,\n",
       " 'f1': 401179,\n",
       " 'f2': 42889,\n",
       " 'f0': 315705.2121473892,\n",
       " 'V_obs': 460274,\n",
       " 'V_est': 775980,\n",
       " 'var': 720580.4720172862,\n",
       " 'sd': 848.8701149276527,\n",
       " 'lci': 774319.8365583214,\n",
       " 'uci': 777647.3556519173,\n",
       " 'Chao1': 2336562.7429766366}"
      ]
     },
     "execution_count": 389,
     "metadata": {},
     "output_type": "execute_result"
    }
   ],
   "source": [
    "estimates = chao_wor(counts, q)\n",
    "estimates"
   ]
  },
  {
   "cell_type": "code",
   "execution_count": 390,
   "metadata": {},
   "outputs": [
    {
     "data": {
      "text/plain": [
       "0.59315188535787"
      ]
     },
     "execution_count": 390,
     "metadata": {},
     "output_type": "execute_result"
    }
   ],
   "source": [
    "estimates['V_obs'] /estimates['V_est']"
   ]
  },
  {
   "cell_type": "markdown",
   "metadata": {},
   "source": [
    "### Using Median"
   ]
  },
  {
   "cell_type": "code",
   "execution_count": 391,
   "metadata": {},
   "outputs": [
    {
     "name": "stdout",
     "output_type": "stream",
     "text": [
      "1074944\n"
     ]
    }
   ],
   "source": [
    "N_est = int(median_sailors * n_records)\n",
    "print(N_est)"
   ]
  },
  {
   "cell_type": "code",
   "execution_count": 392,
   "metadata": {},
   "outputs": [
    {
     "name": "stdout",
     "output_type": "stream",
     "text": [
      "0.5088385999642772\n"
     ]
    }
   ],
   "source": [
    "q = N_obs / N_est\n",
    "print(q)"
   ]
  },
  {
   "cell_type": "code",
   "execution_count": 393,
   "metadata": {},
   "outputs": [
    {
     "data": {
      "text/plain": [
       "{'q': 0.5088385999642772,\n",
       " 'f1': 401179,\n",
       " 'f2': 42889,\n",
       " 'f0': 320993.07334599714,\n",
       " 'V_obs': 460274,\n",
       " 'V_est': 781268,\n",
       " 'var': 743535.5172261045,\n",
       " 'sd': 862.2850556666888,\n",
       " 'lci': 779581.470028203,\n",
       " 'uci': 782961.5748538171,\n",
       " 'Chao1': 2336562.7429766366}"
      ]
     },
     "execution_count": 393,
     "metadata": {},
     "output_type": "execute_result"
    }
   ],
   "source": [
    "estimates = chao_wor(counts, q)\n",
    "estimates"
   ]
  },
  {
   "cell_type": "code",
   "execution_count": 359,
   "metadata": {},
   "outputs": [
    {
     "data": {
      "text/plain": [
       "0.4108628537198503"
      ]
     },
     "execution_count": 359,
     "metadata": {},
     "output_type": "execute_result"
    }
   ],
   "source": [
    "1 - (estimates['V_obs'] / estimates['V_est'])\n",
    "## TODO: DOUBLE CHECK; Too tired to think"
   ]
  },
  {
   "cell_type": "markdown",
   "metadata": {},
   "source": [
    "Note that Chao1 gives an unrealistic lowerbound of more than 2 million, which by far exceeds the know upper limt of N_est. "
   ]
  },
  {
   "cell_type": "markdown",
   "metadata": {},
   "source": [
    "## per 25 years"
   ]
  },
  {
   "cell_type": "code",
   "execution_count": 360,
   "metadata": {},
   "outputs": [
    {
     "data": {
      "text/plain": [
       "[(1633, 1658),\n",
       " (1658, 1683),\n",
       " (1683, 1708),\n",
       " (1708, 1733),\n",
       " (1733, 1758),\n",
       " (1758, 1783),\n",
       " (1783, 1795)]"
      ]
     },
     "execution_count": 360,
     "metadata": {},
     "output_type": "execute_result"
    }
   ],
   "source": [
    "bins = list(range(1633, 1795, 25)) + [1795]\n",
    "date_ranges = [(bins[i-1], bins[i]) for i in range(1, len(bins))]\n",
    "date_ranges"
   ]
  },
  {
   "cell_type": "code",
   "execution_count": 361,
   "metadata": {},
   "outputs": [],
   "source": [
    "DAS_voyages = [468, 586, 620, 884, 848, 718, 383]"
   ]
  },
  {
   "cell_type": "code",
   "execution_count": 362,
   "metadata": {},
   "outputs": [
    {
     "name": "stdout",
     "output_type": "stream",
     "text": [
      "0     True\n",
      "1     True\n",
      "2    False\n",
      "3    False\n",
      "4    False\n",
      "dtype: bool\n",
      "0    False\n",
      "1    False\n",
      "2     True\n",
      "3     True\n",
      "4    False\n",
      "dtype: bool\n"
     ]
    }
   ],
   "source": [
    "x = pd.Series(range(5))\n",
    "print(x.between(0, 2, inclusive=\"left\"))\n",
    "print(x.between(2, 4, inclusive=\"left\"))"
   ]
  },
  {
   "cell_type": "code",
   "execution_count": 363,
   "metadata": {},
   "outputs": [
    {
     "name": "stdout",
     "output_type": "stream",
     "text": [
      "1633 1658\n",
      "mean number of sailors:181\n",
      "1658 1683\n",
      "mean number of sailors:240\n",
      "1683 1708\n",
      "mean number of sailors:194\n",
      "1708 1733\n",
      "mean number of sailors:201\n",
      "1733 1758\n",
      "mean number of sailors:251\n",
      "1758 1783\n",
      "mean number of sailors:309\n",
      "1783 1795\n",
      "mean number of sailors:273\n"
     ]
    }
   ],
   "source": [
    "estimates = []\n",
    "V_observations = []\n",
    "for index, (start, end) in enumerate(date_ranges):\n",
    "    print(start, end)\n",
    "    df_slice = sailors_df[sailors_df['year'].between(start, end, inclusive=\"left\")]\n",
    "    mean_sailors = int(df_slice.groupby(['outward_voyage_id'])['vocop_id'].count().mean())\n",
    "    print(f'mean number of sailors:{mean_sailors}')\n",
    "    V = DAS_voyages[index] * mean_sailors\n",
    "    records = df_slice.loc[df_slice['disambiguated_person'] == 1, 'person_cluster_id'].astype(int).values\n",
    "    counts = np.array(list(collections.Counter(records).values()))\n",
    "    N, V_obs = counts.sum(), counts.shape[0]\n",
    "    V_observations.append(V_obs)\n",
    "    q = len(records) / V\n",
    "    estimate = chao_wor(counts, q)\n",
    "    estimates.append(estimate)"
   ]
  },
  {
   "cell_type": "code",
   "execution_count": 364,
   "metadata": {},
   "outputs": [
    {
     "data": {
      "image/png": "[encoded data removed]",
      "text/plain": [
       "<Figure size 432x288 with 1 Axes>"
      ]
     },
     "metadata": {
      "needs_background": "light"
     },
     "output_type": "display_data"
    }
   ],
   "source": [
    "labels = [x[0] for x in date_ranges]\n",
    "\n",
    "fig, ax = plt.subplots(figsize=(6, 4))\n",
    "\n",
    "ax.plot(labels, V_observations, label=r'$V_{\\text{obs}}$', color=\"k\", linestyle='dashed')\n",
    "lci, uci, est = zip(*[(est[\"lci\"], est[\"uci\"], est[\"V_est\"]) for est in estimates])\n",
    "ax.plot(labels, est, color=\"k\", label=r'$\\hat{V}$')\n",
    "ax.fill_between(labels, lci, uci, color=\"lightgrey\", alpha=0.4)\n",
    "ax.set(xlabel='year', ylabel='Number of unique sailors')\n",
    "ax.ticklabel_format(axis=\"y\", style=\"sci\", scilimits=(3, 3))\n",
    "ax.legend()\n",
    "plt.savefig('../figures/25year_plot_mean.png', dpi=300)"
   ]
  },
  {
   "cell_type": "markdown",
   "metadata": {},
   "source": [
    "### Median Sailors"
   ]
  },
  {
   "cell_type": "markdown",
   "metadata": {},
   "source": []
  },
  {
   "cell_type": "code",
   "execution_count": 365,
   "metadata": {},
   "outputs": [
    {
     "name": "stdout",
     "output_type": "stream",
     "text": [
      "1633 1658\n",
      "median number of sailors:148\n",
      "1658 1683\n",
      "median number of sailors:262\n",
      "1683 1708\n",
      "median number of sailors:204\n",
      "1708 1733\n",
      "median number of sailors:199\n",
      "1733 1758\n",
      "median number of sailors:254\n",
      "1758 1783\n",
      "median number of sailors:312\n",
      "1783 1795\n",
      "median number of sailors:298\n"
     ]
    }
   ],
   "source": [
    "estimates = []\n",
    "V_observations = []\n",
    "for index, (start, end) in enumerate(date_ranges):\n",
    "    print(start, end)\n",
    "    df_slice = sailors_df[sailors_df['year'].between(start, end, inclusive=\"left\")]\n",
    "    median_sailors = int(df_slice.groupby(['outward_voyage_id'])['vocop_id'].count().median())\n",
    "    \n",
    "    print(f'median number of sailors:{median_sailors}')\n",
    "    V = DAS_voyages[index] * median_sailors\n",
    "    records = df_slice.loc[df_slice['disambiguated_person'] == 1]['person_cluster_id'].astype(int).values\n",
    "    counts = np.array(list(collections.Counter(records).values()))\n",
    "    N, V_obs = counts.sum(), counts.shape[0]\n",
    "    V_observations.append(V_obs)\n",
    "    q = len(records) / V\n",
    "    estimate = chao_wor(counts, q)\n",
    "    estimate['period'] = (start, end)\n",
    "    estimate['n_voyages'] = DAS_voyages[index]\n",
    "    estimate['median_sailors'] = median_sailors\n",
    "    estimate['n_records'] = len(records)\n",
    "    estimates.append(estimate)"
   ]
  },
  {
   "cell_type": "code",
   "execution_count": 366,
   "metadata": {},
   "outputs": [
    {
     "data": {
      "text/plain": [
       "[{'q': 0.035675098175098174,\n",
       "  'f1': 2443,\n",
       "  'f2': 14,\n",
       "  'f0': 50411.82422503258,\n",
       "  'V_obs': 2457,\n",
       "  'V_est': 52869,\n",
       "  'var': 11803071.796889361,\n",
       "  'sd': 3435.559895692311,\n",
       "  'lci': 46572.40940107014,\n",
       "  'uci': 60063.90099441612,\n",
       "  'Chao1': 215522.48866855525,\n",
       "  'period': (1633, 1658),\n",
       "  'n_voyages': 468,\n",
       "  'median_sailors': 148,\n",
       "  'n_records': 2471},\n",
       " {'q': 0.035771044472813485,\n",
       "  'f1': 5432,\n",
       "  'f2': 30,\n",
       "  'f0': 112824.08440178585,\n",
       "  'V_obs': 5462,\n",
       "  'V_est': 118287,\n",
       "  'var': 25996296.94366372,\n",
       "  'sd': 5098.6563861142595,\n",
       "  'lci': 108727.34775026624,\n",
       "  'uci': 128729.62363581425,\n",
       "  'Chao1': 497149.5224083515,\n",
       "  'period': (1658, 1683),\n",
       "  'n_voyages': 586,\n",
       "  'median_sailors': 262,\n",
       "  'n_records': 5492},\n",
       " {'q': 0.4416824794433903,\n",
       "  'f1': 47787,\n",
       "  'f2': 3190,\n",
       "  'f0': 51683.57983856962,\n",
       "  'V_obs': 51501,\n",
       "  'V_est': 103185,\n",
       "  'var': 142349.81356994636,\n",
       "  'sd': 377.2927425354831,\n",
       "  'lci': 102450.37440348248,\n",
       "  'uci': 103929.36553351712,\n",
       "  'Chao1': 409425.2149217709,\n",
       "  'period': (1683, 1708),\n",
       "  'n_voyages': 620,\n",
       "  'median_sailors': 204,\n",
       "  'n_records': 55864},\n",
       " {'q': 0.7468052934355033,\n",
       "  'f1': 95847,\n",
       "  'f2': 10681,\n",
       "  'f0': 30212.702328860487,\n",
       "  'V_obs': 110517,\n",
       "  'V_est': 140730,\n",
       "  'var': 41543.27371032035,\n",
       "  'sd': 203.82167134610674,\n",
       "  'lci': 140332.85313157592,\n",
       "  'uci': 141131.83359151782,\n",
       "  'Chao1': 540559.9492600405,\n",
       "  'period': (1708, 1733),\n",
       "  'n_voyages': 884,\n",
       "  'median_sailors': 199,\n",
       "  'n_records': 131375},\n",
       " {'q': 0.6960889912345862,\n",
       "  'f1': 115396,\n",
       "  'f2': 11174,\n",
       "  'f0': 46453.81358344409,\n",
       "  'V_obs': 130069,\n",
       "  'V_est': 176523,\n",
       "  'var': 69357.5683163892,\n",
       "  'sd': 263.3582508986365,\n",
       "  'lci': 176009.50213878218,\n",
       "  'uci': 177041.8604603924,\n",
       "  'Chao1': 725923.1256857443,\n",
       "  'period': (1733, 1758),\n",
       "  'n_voyages': 848,\n",
       "  'median_sailors': 254,\n",
       "  'n_records': 149932},\n",
       " {'q': 0.6581047782301265,\n",
       "  'f1': 106675,\n",
       "  'f2': 12613,\n",
       "  'f0': 49355.73637708434,\n",
       "  'V_obs': 123553,\n",
       "  'V_est': 172909,\n",
       "  'var': 79773.65519044318,\n",
       "  'sd': 282.44230417988587,\n",
       "  'lci': 172358.25701460932,\n",
       "  'uci': 173465.42465120222,\n",
       "  'Chao1': 574654.1827775068,\n",
       "  'period': (1758, 1783),\n",
       "  'n_voyages': 718,\n",
       "  'median_sailors': 312,\n",
       "  'n_records': 147426},\n",
       " {'q': 0.474459845444828,\n",
       "  'f1': 44110,\n",
       "  'f2': 3977,\n",
       "  'f0': 40724.58830772201,\n",
       "  'V_obs': 48738,\n",
       "  'V_est': 89463,\n",
       "  'var': 103443.84329753228,\n",
       "  'sd': 321.6268696759216,\n",
       "  'lci': 88837.07464145645,\n",
       "  'uci': 90097.85948959569,\n",
       "  'Chao1': 293351.54913272185,\n",
       "  'period': (1783, 1795),\n",
       "  'n_voyages': 383,\n",
       "  'median_sailors': 298,\n",
       "  'n_records': 54152}]"
      ]
     },
     "execution_count": 366,
     "metadata": {},
     "output_type": "execute_result"
    }
   ],
   "source": [
    "estimates"
   ]
  },
  {
   "cell_type": "code",
   "execution_count": 367,
   "metadata": {},
   "outputs": [
    {
     "data": {
      "image/png": "[encoded data removed]",
      "text/plain": [
       "<Figure size 432x288 with 1 Axes>"
      ]
     },
     "metadata": {
      "needs_background": "light"
     },
     "output_type": "display_data"
    }
   ],
   "source": [
    "labels = [x[0] for x in date_ranges]\n",
    "\n",
    "fig, ax = plt.subplots(figsize=(6, 4))\n",
    "\n",
    "ax.plot(labels, V_observations, label=r'$V_{\\text{obs}}$', color=\"k\", linestyle='dashed')\n",
    "lci, uci, est = zip(*[(est[\"lci\"], est[\"uci\"], est[\"V_est\"]) for est in estimates])\n",
    "ax.plot(labels, est, color=\"k\", label=r'$\\hat{V}$')\n",
    "ax.fill_between(labels, lci, uci, color=\"lightgrey\", alpha=0.4)\n",
    "ax.set(xlabel='year', ylabel='Number of unique sailors')\n",
    "ax.ticklabel_format(axis=\"y\", style=\"sci\", scilimits=(3, 3))\n",
    "ax.legend()\n",
    "plt.savefig('../figures/25year_plot_median.png', dpi=300)"
   ]
  },
  {
   "cell_type": "code",
   "execution_count": 368,
   "metadata": {},
   "outputs": [],
   "source": [
    "## TODO: make latex table from estimates output"
   ]
  },
  {
   "cell_type": "code",
   "execution_count": 369,
   "metadata": {},
   "outputs": [
    {
     "data": {
      "text/plain": [
       "Index(['q', 'f1', 'f2', 'f0', 'V_obs', 'V_est', 'var', 'sd', 'lci', 'uci',\n",
       "       'Chao1', 'period', 'n_voyages', 'median_sailors', 'n_records'],\n",
       "      dtype='object')"
      ]
     },
     "execution_count": 369,
     "metadata": {},
     "output_type": "execute_result"
    }
   ],
   "source": [
    "estimates_df = pd.DataFrame(estimates)\n",
    "estimates_df.columns"
   ]
  },
  {
   "cell_type": "code",
   "execution_count": 370,
   "metadata": {},
   "outputs": [
    {
     "data": {
      "text/plain": [
       "(52869, 118287, 103185, 140730, 176523, 172909, 89463)"
      ]
     },
     "execution_count": 370,
     "metadata": {},
     "output_type": "execute_result"
    }
   ],
   "source": [
    "est"
   ]
  },
  {
   "cell_type": "code",
   "execution_count": 371,
   "metadata": {},
   "outputs": [
    {
     "data": {
      "text/html": [
       "<div>\n",
       "<style scoped>\n",
       "    .dataframe tbody tr th:only-of-type {\n",
       "        vertical-align: middle;\n",
       "    }\n",
       "\n",
       "    .dataframe tbody tr th {\n",
       "        vertical-align: top;\n",
       "    }\n",
       "\n",
       "    .dataframe thead th {\n",
       "        text-align: right;\n",
       "    }\n",
       "</style>\n",
       "<table border=\"1\" class=\"dataframe\">\n",
       "  <thead>\n",
       "    <tr style=\"text-align: right;\">\n",
       "      <th></th>\n",
       "      <th>period</th>\n",
       "      <th>n_voyages</th>\n",
       "      <th>median_sailors</th>\n",
       "      <th>q</th>\n",
       "      <th>n_records</th>\n",
       "      <th>V_obs</th>\n",
       "      <th>V_est</th>\n",
       "      <th>Chao1</th>\n",
       "    </tr>\n",
       "  </thead>\n",
       "  <tbody>\n",
       "    <tr>\n",
       "      <th>0</th>\n",
       "      <td>(1633, 1658)</td>\n",
       "      <td>468</td>\n",
       "      <td>148</td>\n",
       "      <td>0.035675</td>\n",
       "      <td>2471</td>\n",
       "      <td>2457</td>\n",
       "      <td>52869</td>\n",
       "      <td>215522.488669</td>\n",
       "    </tr>\n",
       "    <tr>\n",
       "      <th>1</th>\n",
       "      <td>(1658, 1683)</td>\n",
       "      <td>586</td>\n",
       "      <td>262</td>\n",
       "      <td>0.035771</td>\n",
       "      <td>5492</td>\n",
       "      <td>5462</td>\n",
       "      <td>118287</td>\n",
       "      <td>497149.522408</td>\n",
       "    </tr>\n",
       "    <tr>\n",
       "      <th>2</th>\n",
       "      <td>(1683, 1708)</td>\n",
       "      <td>620</td>\n",
       "      <td>204</td>\n",
       "      <td>0.441682</td>\n",
       "      <td>55864</td>\n",
       "      <td>51501</td>\n",
       "      <td>103185</td>\n",
       "      <td>409425.214922</td>\n",
       "    </tr>\n",
       "    <tr>\n",
       "      <th>3</th>\n",
       "      <td>(1708, 1733)</td>\n",
       "      <td>884</td>\n",
       "      <td>199</td>\n",
       "      <td>0.746805</td>\n",
       "      <td>131375</td>\n",
       "      <td>110517</td>\n",
       "      <td>140730</td>\n",
       "      <td>540559.949260</td>\n",
       "    </tr>\n",
       "    <tr>\n",
       "      <th>4</th>\n",
       "      <td>(1733, 1758)</td>\n",
       "      <td>848</td>\n",
       "      <td>254</td>\n",
       "      <td>0.696089</td>\n",
       "      <td>149932</td>\n",
       "      <td>130069</td>\n",
       "      <td>176523</td>\n",
       "      <td>725923.125686</td>\n",
       "    </tr>\n",
       "    <tr>\n",
       "      <th>5</th>\n",
       "      <td>(1758, 1783)</td>\n",
       "      <td>718</td>\n",
       "      <td>312</td>\n",
       "      <td>0.658105</td>\n",
       "      <td>147426</td>\n",
       "      <td>123553</td>\n",
       "      <td>172909</td>\n",
       "      <td>574654.182778</td>\n",
       "    </tr>\n",
       "    <tr>\n",
       "      <th>6</th>\n",
       "      <td>(1783, 1795)</td>\n",
       "      <td>383</td>\n",
       "      <td>298</td>\n",
       "      <td>0.474460</td>\n",
       "      <td>54152</td>\n",
       "      <td>48738</td>\n",
       "      <td>89463</td>\n",
       "      <td>293351.549133</td>\n",
       "    </tr>\n",
       "  </tbody>\n",
       "</table>\n",
       "</div>"
      ],
      "text/plain": [
       "         period  n_voyages  median_sailors         q  n_records   V_obs  \\\n",
       "0  (1633, 1658)        468             148  0.035675       2471    2457   \n",
       "1  (1658, 1683)        586             262  0.035771       5492    5462   \n",
       "2  (1683, 1708)        620             204  0.441682      55864   51501   \n",
       "3  (1708, 1733)        884             199  0.746805     131375  110517   \n",
       "4  (1733, 1758)        848             254  0.696089     149932  130069   \n",
       "5  (1758, 1783)        718             312  0.658105     147426  123553   \n",
       "6  (1783, 1795)        383             298  0.474460      54152   48738   \n",
       "\n",
       "    V_est          Chao1  \n",
       "0   52869  215522.488669  \n",
       "1  118287  497149.522408  \n",
       "2  103185  409425.214922  \n",
       "3  140730  540559.949260  \n",
       "4  176523  725923.125686  \n",
       "5  172909  574654.182778  \n",
       "6   89463  293351.549133  "
      ]
     },
     "execution_count": 371,
     "metadata": {},
     "output_type": "execute_result"
    }
   ],
   "source": [
    "estimates_df[['period', 'n_voyages', 'median_sailors', 'q', 'n_records', 'V_obs', 'V_est', 'Chao1']]"
   ]
  },
  {
   "cell_type": "code",
   "execution_count": null,
   "metadata": {},
   "outputs": [],
   "source": []
  }
 ],
 "metadata": {
  "kernelspec": {
   "display_name": "Python 3 (ipykernel)",
   "language": "python",
   "name": "python3"
  },
  "language_info": {
   "codemirror_mode": {
    "name": "ipython",
    "version": 3
   },
   "file_extension": ".py",
   "mimetype": "text/x-python",
   "name": "python",
   "nbconvert_exporter": "python",
   "pygments_lexer": "ipython3",
   "version": "3.9.13"
  },
  "vscode": {
   "interpreter": {
    "hash": "2f1dcb2d14e818eb78da5fc0066a669981c8f24be2db3cc976636f8607eeea8a"
   }
  }
 },
 "nbformat": 4,
 "nbformat_minor": 2
}
