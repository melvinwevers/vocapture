{
 "cells": [
  {
   "cell_type": "code",
   "execution_count": 4,
   "metadata": {},
   "outputs": [],
   "source": [
    "import collections\n",
    "import matplotlib.pyplot as plt\n",
    "import numpy as np\n",
    "import pandas as pd\n",
    "import scipy.stats as stats\n",
    "\n",
    "from copia import chao1"
   ]
  },
  {
   "cell_type": "code",
   "execution_count": 5,
   "metadata": {},
   "outputs": [],
   "source": [
    "plt.style.use('science')"
   ]
  },
  {
   "cell_type": "markdown",
   "metadata": {},
   "source": [
    "# Functions"
   ]
  },
  {
   "cell_type": "code",
   "execution_count": 31,
   "metadata": {},
   "outputs": [],
   "source": [
    "def chao_wor(x, q, conf=0.95):\n",
    "    x = x[x > 0]\n",
    "    n = x.sum() # sample size\n",
    "    t = len(x)  # number of unique items\n",
    "    # Convert the int64 to longs to ensure the numbers\n",
    "    # don't get too big in the variance calculation\n",
    "    f1 = (x == 1).sum().item() # number of singletons\n",
    "    f2 = (x == 2).sum().item() # number of doubletons\n",
    "    w = n / (n - 1)\n",
    "    r = q / (1 - q)\n",
    "    f0 = (f1 ** 2) / (2 * w * f2 + r * f1)\n",
    "\n",
    "    # compute sd\n",
    "    t1 = ((2 * w * f2 * (f0**2) + (f1**2) * f0) ** 2) / (f1 ** 5)\n",
    "    t2 = (4 * (w**2) * f2) * ((f0 / f1)**4)\n",
    "    var = f0 + t1 + t2\n",
    "        \n",
    "    z = abs(stats.norm.ppf((1 - conf) / 2))\n",
    "    K = np.exp(z * np.sqrt(np.log(1 + var / f0 ** 2)))\n",
    "    lci, uci = t + f0 / K, t + f0 * K\n",
    "    return {\n",
    "        \"q\": q,\n",
    "        \"f1\": f1,\n",
    "        \"f2\": f2,\n",
    "        \"f0\": f0,\n",
    "        \"V_obs\": t,\n",
    "        \"V_est\": int(t + f0), ##turned this into integer\n",
    "        \"var\": var,\n",
    "        \"sd\": np.sqrt(var),\n",
    "        \"lci\": lci,\n",
    "        \"uci\": uci,\n",
    "        \"Chao1\": chao1(x)\n",
    "    }"
   ]
  },
  {
   "cell_type": "markdown",
   "metadata": {},
   "source": [
    "# Loading Data"
   ]
  },
  {
   "cell_type": "code",
   "execution_count": 7,
   "metadata": {},
   "outputs": [
    {
     "data": {
      "text/html": [
       "<div>\n",
       "<style scoped>\n",
       "    .dataframe tbody tr th:only-of-type {\n",
       "        vertical-align: middle;\n",
       "    }\n",
       "\n",
       "    .dataframe tbody tr th {\n",
       "        vertical-align: top;\n",
       "    }\n",
       "\n",
       "    .dataframe thead th {\n",
       "        text-align: right;\n",
       "    }\n",
       "</style>\n",
       "<table border=\"1\" class=\"dataframe\">\n",
       "  <thead>\n",
       "    <tr style=\"text-align: right;\">\n",
       "      <th></th>\n",
       "      <th>vocop_id</th>\n",
       "      <th>disambiguated_person</th>\n",
       "      <th>person_cluster_id</th>\n",
       "      <th>date_begin_contract</th>\n",
       "      <th>outward_voyage_id</th>\n",
       "    </tr>\n",
       "  </thead>\n",
       "  <tbody>\n",
       "    <tr>\n",
       "      <th>0</th>\n",
       "      <td>104944</td>\n",
       "      <td>1.0</td>\n",
       "      <td>415682.0</td>\n",
       "      <td>1700-05-05</td>\n",
       "      <td>92895</td>\n",
       "    </tr>\n",
       "    <tr>\n",
       "      <th>1</th>\n",
       "      <td>104945</td>\n",
       "      <td>1.0</td>\n",
       "      <td>406243.0</td>\n",
       "      <td>1700-05-05</td>\n",
       "      <td>92895</td>\n",
       "    </tr>\n",
       "    <tr>\n",
       "      <th>2</th>\n",
       "      <td>104946</td>\n",
       "      <td>1.0</td>\n",
       "      <td>1.0</td>\n",
       "      <td>1700-05-05</td>\n",
       "      <td>92895</td>\n",
       "    </tr>\n",
       "    <tr>\n",
       "      <th>3</th>\n",
       "      <td>104947</td>\n",
       "      <td>1.0</td>\n",
       "      <td>77235.0</td>\n",
       "      <td>1700-05-05</td>\n",
       "      <td>92895</td>\n",
       "    </tr>\n",
       "    <tr>\n",
       "      <th>4</th>\n",
       "      <td>104948</td>\n",
       "      <td>1.0</td>\n",
       "      <td>65732.0</td>\n",
       "      <td>1700-05-05</td>\n",
       "      <td>92895</td>\n",
       "    </tr>\n",
       "  </tbody>\n",
       "</table>\n",
       "</div>"
      ],
      "text/plain": [
       "   vocop_id  disambiguated_person  person_cluster_id date_begin_contract  \\\n",
       "0    104944                   1.0           415682.0          1700-05-05   \n",
       "1    104945                   1.0           406243.0          1700-05-05   \n",
       "2    104946                   1.0                1.0          1700-05-05   \n",
       "3    104947                   1.0            77235.0          1700-05-05   \n",
       "4    104948                   1.0            65732.0          1700-05-05   \n",
       "\n",
       "   outward_voyage_id  \n",
       "0              92895  \n",
       "1              92895  \n",
       "2              92895  \n",
       "3              92895  \n",
       "4              92895  "
      ]
     },
     "execution_count": 7,
     "metadata": {},
     "output_type": "execute_result"
    }
   ],
   "source": [
    "df = pd.read_csv('../data/raw/vocapture.csv')\n",
    "df.head()"
   ]
  },
  {
   "cell_type": "markdown",
   "metadata": {},
   "source": [
    "__vocop_id__: the unique id for each contract \\\n",
    "__disambiguated_person__: indicates whether the person is disambiguated (0 = no, 1 = yes). \\\n",
    "__person_cluster_id__: id that refers to unique person. If a person is disambiguated, multiple contracts can belong to one person \\\n",
    "__date_begin_contract__: start date of contract \\\n",
    "__outward_voyage_id__: unique id of outward voyage. "
   ]
  },
  {
   "cell_type": "code",
   "execution_count": 8,
   "metadata": {},
   "outputs": [
    {
     "name": "stdout",
     "output_type": "stream",
     "text": [
      "total number of contracts: 774200\n"
     ]
    }
   ],
   "source": [
    "print(f'total number of contracts: {df.shape[0]}')"
   ]
  },
  {
   "cell_type": "code",
   "execution_count": 13,
   "metadata": {},
   "outputs": [
    {
     "name": "stdout",
     "output_type": "stream",
     "text": [
      "number of nans in date field: 257\n"
     ]
    }
   ],
   "source": [
    "nans = df['date_begin_contract'].isnull().sum()\n",
    "print(f'number of nans in date field: {nans}')\n",
    "df = df.dropna(subset=['date_begin_contract'])"
   ]
  },
  {
   "cell_type": "code",
   "execution_count": 14,
   "metadata": {},
   "outputs": [
    {
     "name": "stdout",
     "output_type": "stream",
     "text": [
      "number of disambiguated records: 546973\n"
     ]
    }
   ],
   "source": [
    "#only select disambiguated records\n",
    "records = df.loc[df['disambiguated_person'] == 1]['person_cluster_id'].astype(int).values\n",
    "print(f'number of disambiguated records: {len(records)}')"
   ]
  },
  {
   "cell_type": "code",
   "execution_count": 15,
   "metadata": {},
   "outputs": [],
   "source": [
    "# construct year variable as Pandas is notoriously bad at working with dates before 1643\n",
    "\n",
    "df['year'] = df['date_begin_contract'].str.split('-', expand=True)[0].astype(int)\n",
    "df = df.sort_values(by='year')"
   ]
  },
  {
   "cell_type": "markdown",
   "metadata": {},
   "source": [
    "## plot time series\n",
    "\n",
    "\n"
   ]
  },
  {
   "cell_type": "code",
   "execution_count": 17,
   "metadata": {},
   "outputs": [
    {
     "data": {
      "image/png": "[encoded data removed]",
      "text/plain": [
       "<Figure size 360x288 with 1 Axes>"
      ]
     },
     "metadata": {
      "needs_background": "light"
     },
     "output_type": "display_data"
    }
   ],
   "source": [
    "fig, ax = plt.subplots(figsize=(5, 4))\n",
    "\n",
    "df.groupby(pd.Grouper(key='year'))['date_begin_contract'].count().plot(ax=ax, color=\"k\")\n",
    "ax.set(xlabel='Year', ylabel='Number of contracts')\n",
    "ax.ticklabel_format(axis=\"y\", style=\"sci\", scilimits=(3, 3))\n",
    "plt.savefig('../figures/total_contracts.png', dpi=300)"
   ]
  },
  {
   "cell_type": "code",
   "execution_count": 26,
   "metadata": {},
   "outputs": [
    {
     "name": "stdout",
     "output_type": "stream",
     "text": [
      "mean sailors on a ship: 173.14751503640392\n"
     ]
    }
   ],
   "source": [
    "mean_sailors = df.groupby(['outward_voyage_id'])['person_cluster_id'].count().mean()\n",
    "print(f'mean sailors on a ship: {mean_sailors}')\n",
    "n_records = 4_352"
   ]
  },
  {
   "cell_type": "markdown",
   "metadata": {},
   "source": [
    "Given that there were 4,352 voyages, we can make estimate the observed number of sailors (4,352 * 181): 787,712. "
   ]
  },
  {
   "cell_type": "code",
   "execution_count": 27,
   "metadata": {},
   "outputs": [
    {
     "name": "stdout",
     "output_type": "stream",
     "text": [
      "753537\n"
     ]
    }
   ],
   "source": [
    "N_est = int(mean_sailors * n_records)\n",
    "print(N_est)"
   ]
  },
  {
   "cell_type": "code",
   "execution_count": 28,
   "metadata": {},
   "outputs": [
    {
     "name": "stdout",
     "output_type": "stream",
     "text": [
      "The archive consists of N=546973 records and V_obs=460274 unique sailors.\n"
     ]
    }
   ],
   "source": [
    "counts = np.array(list(collections.Counter(records).values()))\n",
    "N_obs, V_obs = counts.sum(), counts.shape[0]\n",
    "\n",
    "#N, V = len(records), len(np.unique(records))\n",
    "print(f\"The archive consists of N={N_obs} records and V_obs={V_obs} unique sailors.\")"
   ]
  },
  {
   "cell_type": "code",
   "execution_count": 29,
   "metadata": {},
   "outputs": [
    {
     "name": "stdout",
     "output_type": "stream",
     "text": [
      "0.725874111025736\n"
     ]
    }
   ],
   "source": [
    "q = N_obs / N_est\n",
    "print(q)"
   ]
  },
  {
   "cell_type": "code",
   "execution_count": 33,
   "metadata": {},
   "outputs": [],
   "source": [
    "estimates = chao_wor(counts, q)"
   ]
  },
  {
   "cell_type": "code",
   "execution_count": 34,
   "metadata": {},
   "outputs": [
    {
     "data": {
      "text/plain": [
       "{'q': 0.725874111025736,\n",
       " 'f1': 401179,\n",
       " 'f2': 42889,\n",
       " 'f0': 140185.41571152065,\n",
       " 'V_obs': 460274,\n",
       " 'V_est': 600459,\n",
       " 'var': 199321.97618833484,\n",
       " 'sd': 446.4548982689459,\n",
       " 'lci': 599587.1077018755,\n",
       " 'uci': 601337.1856714176,\n",
       " 'Chao1': 2336562.7429766366}"
      ]
     },
     "execution_count": 34,
     "metadata": {},
     "output_type": "execute_result"
    }
   ],
   "source": [
    "estimates"
   ]
  },
  {
   "cell_type": "code",
   "execution_count": 35,
   "metadata": {},
   "outputs": [
    {
     "data": {
      "text/plain": [
       "1.3045685830613938"
      ]
     },
     "execution_count": 35,
     "metadata": {},
     "output_type": "execute_result"
    }
   ],
   "source": [
    "estimates['V_est'] /estimates['V_obs']"
   ]
  },
  {
   "cell_type": "markdown",
   "metadata": {},
   "source": [
    "Note that Chao1 gives an unrealistic lowerbound of more than 2 million, which by far exceeds the know upper limt of N_est. "
   ]
  },
  {
   "cell_type": "markdown",
   "metadata": {},
   "source": [
    "## per 25 years"
   ]
  },
  {
   "cell_type": "code",
   "execution_count": 16,
   "metadata": {},
   "outputs": [
    {
     "data": {
      "text/org": [
       "|    |    0 |    1 |\n",
       "|----+------+------|\n",
       "|  0 | 1633 | 1658 |\n",
       "|  1 | 1658 | 1683 |\n",
       "|  2 | 1683 | 1708 |\n",
       "|  3 | 1708 | 1733 |\n",
       "|  4 | 1733 | 1758 |\n",
       "|  5 | 1758 | 1783 |\n",
       "|  6 | 1783 | 1795 |"
      ],
      "text/plain": [
       "[(1633, 1658),\n",
       " (1658, 1683),\n",
       " (1683, 1708),\n",
       " (1708, 1733),\n",
       " (1733, 1758),\n",
       " (1758, 1783),\n",
       " (1783, 1795)]"
      ]
     },
     "execution_count": 16,
     "metadata": {},
     "output_type": "execute_result"
    }
   ],
   "source": [
    "date_ranges = []\n",
    "x = 1633\n",
    "y = 0\n",
    "while y < 1795:\n",
    "    y = x + 25\n",
    "    if y > 1795:\n",
    "        y = 1795\n",
    "    date_ranges.append((x, y))\n",
    "    x = y\n",
    "\n",
    "\n",
    "date_ranges\n"
   ]
  },
  {
   "cell_type": "code",
   "execution_count": 17,
   "metadata": {},
   "outputs": [],
   "source": [
    "DAS_voyages = [468, 586, 620, 884, 848, 718, 383]"
   ]
  },
  {
   "cell_type": "code",
   "execution_count": 18,
   "metadata": {},
   "outputs": [
    {
     "name": "stdout",
     "output_type": "stream",
     "text": [
      "(1633, 1658)\n",
      "mean number of sailors:145\n",
      "(1658, 1683)\n",
      "mean number of sailors:74\n",
      "(1683, 1708)\n",
      "mean number of sailors:124\n",
      "(1708, 1733)\n",
      "mean number of sailors:157\n",
      "(1733, 1758)\n",
      "mean number of sailors:186\n",
      "(1758, 1783)\n",
      "mean number of sailors:219\n",
      "(1783, 1795)\n",
      "mean number of sailors:177\n"
     ]
    }
   ],
   "source": [
    "estimates = []\n",
    "V_observations = []\n",
    "for index, date in enumerate(date_ranges):\n",
    "    print(date)\n",
    "    df_slice = df[df['year'].between(date[0], date[1])]\n",
    "\n",
    "    mean_sailors = int(df_slice.groupby(['outward_voyage_id'])['person_cluster_id'].count().mean())\n",
    "    print(f'mean number of sailors:{mean_sailors}')\n",
    "    V = DAS_voyages[index] * mean_sailors\n",
    "    records = df_slice.loc[df_slice['disambiguated_person'] == 1]['person_cluster_id'].astype(int).values\n",
    "    counts = np.array(list(collections.Counter(records).values()))\n",
    "    N, V_obs = counts.sum(), counts.shape[0]\n",
    "    V_observations.append(V_obs)\n",
    "    q = len(records) / V\n",
    "    estimate = chao_wor(counts, q)\n",
    "    estimates.append(estimate)"
   ]
  },
  {
   "cell_type": "code",
   "execution_count": 61,
   "metadata": {},
   "outputs": [
    {
     "data": {
      "image/png": "[encoded data removed]",
      "text/plain": [
       "<Figure size 432x288 with 1 Axes>"
      ]
     },
     "metadata": {
      "needs_background": "light"
     },
     "output_type": "display_data"
    }
   ],
   "source": [
    "labels = [x[0] for x in date_ranges]\n",
    "\n",
    "fig, ax = plt.subplots(figsize=(6, 4))\n",
    "\n",
    "ax.plot(labels, V_observations, label=r'$V_{\\text{obs}}$', color=\"k\", linestyle='dashed')\n",
    "lci, uci, est = zip(*[(est[\"lci\"], est[\"uci\"], est[\"V_est\"]) for est in estimates])\n",
    "ax.plot(labels, est, color=\"k\", label=r'$\\hat{V}$')\n",
    "ax.fill_between(labels, lci, uci, color=\"lightgrey\", alpha=0.4)\n",
    "ax.set(xlabel='year', ylabel='Number of unique sailors')\n",
    "ax.ticklabel_format(axis=\"y\", style=\"sci\", scilimits=(3, 3))\n",
    "ax.legend()\n",
    "plt.savefig('../figures/25year_plot.png', dpi=300)"
   ]
  },
  {
   "cell_type": "markdown",
   "metadata": {},
   "source": []
  }
 ],
 "metadata": {
  "kernelspec": {
   "display_name": "Python 3 (ipykernel)",
   "language": "python",
   "name": "python3"
  },
  "language_info": {
   "codemirror_mode": {
    "name": "ipython",
    "version": 3
   },
   "file_extension": ".py",
   "mimetype": "text/x-python",
   "name": "python",
   "nbconvert_exporter": "python",
   "pygments_lexer": "ipython3",
   "version": "3.9.12"
  },
  "vscode": {
   "interpreter": {
    "hash": "2f1dcb2d14e818eb78da5fc0066a669981c8f24be2db3cc976636f8607eeea8a"
   }
  }
 },
 "nbformat": 4,
 "nbformat_minor": 2
}
