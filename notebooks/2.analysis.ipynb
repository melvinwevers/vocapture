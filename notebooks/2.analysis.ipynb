{
 "cells": [
  {
   "cell_type": "code",
   "execution_count": 1,
   "metadata": {},
   "outputs": [],
   "source": [
    "import collections\n",
    "import math\n",
    "import matplotlib.pyplot as plt\n",
    "import numpy as np\n",
    "import os\n",
    "import pandas as pd\n",
    "import scipy.stats as stats\n",
    "\n",
    "from copia import chao1\n",
    "from IPython.display import display, Markdown"
   ]
  },
  {
   "cell_type": "code",
   "execution_count": 2,
   "metadata": {},
   "outputs": [],
   "source": [
    "# Setting style for figures\n",
    "plt.style.use(['science'])\n",
    "\n",
    "mathprint = lambda x: display(Markdown(x))\n",
    "\n",
    "figures_path = '../figures'"
   ]
  },
  {
   "cell_type": "markdown",
   "metadata": {},
   "source": [
    "# Functions"
   ]
  },
  {
   "cell_type": "code",
   "execution_count": 3,
   "metadata": {},
   "outputs": [],
   "source": [
    "def chao_wor(x, q, conf=0.95):\n",
    "    '''\n",
    "    Function to calculate Chao without replacement\n",
    "    x =  input, list of counts\n",
    "    q = sample fraction\n",
    "    conf = confidence interval\n",
    "    '''\n",
    "    x = x[x > 0]\n",
    "    n = x.sum() # sample size\n",
    "    t = len(x)  # number of unique items\n",
    "    # Convert the int64 to longs to ensure the numbers\n",
    "    # don't get too big in the variance calculation\n",
    "    f1 = (x == 1).sum().item() # number of singletons\n",
    "    f2 = (x == 2).sum().item() # number of doubletons\n",
    "    w = n / (n - 1)\n",
    "    r = q / (1 - q)\n",
    "    f0 = (f1 ** 2) / (2 * w * f2 + r * f1)\n",
    "\n",
    "    # compute sd\n",
    "    t1 = ((2 * w * f2 * (f0**2) + (f1**2) * f0) ** 2) / (f1 ** 5)\n",
    "    t2 = (4 * (w**2) * f2) * ((f0 / f1)**4)\n",
    "    var = f0 + t1 + t2\n",
    "        \n",
    "    z = abs(stats.norm.ppf((1 - conf) / 2))\n",
    "    K = np.exp(z * np.sqrt(np.log(1 + var / f0 ** 2)))\n",
    "    lci, uci = t + f0 / K, t + f0 * K\n",
    "    return {\n",
    "        \"q\": q,\n",
    "        \"f1\": f1,\n",
    "        \"f2\": f2,\n",
    "        \"f0\": f0,\n",
    "        \"V_obs\": t,\n",
    "        \"V_est\": math.ceil(t + f0), \n",
    "        \"var\": var,\n",
    "        \"sd\": np.sqrt(var),\n",
    "        \"lci\": lci,\n",
    "        \"uci\": uci,\n",
    "        \"Chao1\": chao1(x)\n",
    "    }\n"
   ]
  },
  {
   "cell_type": "markdown",
   "metadata": {},
   "source": [
    "# Loading Data"
   ]
  },
  {
   "cell_type": "code",
   "execution_count": 4,
   "metadata": {},
   "outputs": [
    {
     "name": "stdout",
     "output_type": "stream",
     "text": [
      "total number of voyages\n",
      "4352\n",
      "Total number of seafarers: 947517\n"
     ]
    },
    {
     "data": {
      "text/html": [
       "<div>\n",
       "<style scoped>\n",
       "    .dataframe tbody tr th:only-of-type {\n",
       "        vertical-align: middle;\n",
       "    }\n",
       "\n",
       "    .dataframe tbody tr th {\n",
       "        vertical-align: top;\n",
       "    }\n",
       "\n",
       "    .dataframe thead th {\n",
       "        text-align: right;\n",
       "    }\n",
       "</style>\n",
       "<table border=\"1\" class=\"dataframe\">\n",
       "  <thead>\n",
       "    <tr style=\"text-align: right;\">\n",
       "      <th></th>\n",
       "      <th>period</th>\n",
       "      <th>ships</th>\n",
       "      <th>ships_onboard</th>\n",
       "      <th>voyagers_onboard</th>\n",
       "      <th>average_voyagers</th>\n",
       "      <th>total_voyagers</th>\n",
       "    </tr>\n",
       "  </thead>\n",
       "  <tbody>\n",
       "    <tr>\n",
       "      <th>0</th>\n",
       "      <td>1633 - 1658</td>\n",
       "      <td>449</td>\n",
       "      <td>100</td>\n",
       "      <td>19617</td>\n",
       "      <td>196.2</td>\n",
       "      <td>88080</td>\n",
       "    </tr>\n",
       "    <tr>\n",
       "      <th>1</th>\n",
       "      <td>1658 - 1683</td>\n",
       "      <td>565</td>\n",
       "      <td>541</td>\n",
       "      <td>102112</td>\n",
       "      <td>188.7</td>\n",
       "      <td>106642</td>\n",
       "    </tr>\n",
       "    <tr>\n",
       "      <th>2</th>\n",
       "      <td>1683 - 1708</td>\n",
       "      <td>596</td>\n",
       "      <td>590</td>\n",
       "      <td>110203</td>\n",
       "      <td>186.8</td>\n",
       "      <td>111324</td>\n",
       "    </tr>\n",
       "    <tr>\n",
       "      <th>3</th>\n",
       "      <td>1708 - 1733</td>\n",
       "      <td>856</td>\n",
       "      <td>854</td>\n",
       "      <td>168004</td>\n",
       "      <td>196.7</td>\n",
       "      <td>168397</td>\n",
       "    </tr>\n",
       "    <tr>\n",
       "      <th>4</th>\n",
       "      <td>1733 - 1758</td>\n",
       "      <td>821</td>\n",
       "      <td>811</td>\n",
       "      <td>198291</td>\n",
       "      <td>244.5</td>\n",
       "      <td>200736</td>\n",
       "    </tr>\n",
       "    <tr>\n",
       "      <th>5</th>\n",
       "      <td>1758 - 1783</td>\n",
       "      <td>682</td>\n",
       "      <td>676</td>\n",
       "      <td>191610</td>\n",
       "      <td>283.4</td>\n",
       "      <td>193311</td>\n",
       "    </tr>\n",
       "    <tr>\n",
       "      <th>6</th>\n",
       "      <td>1783 - 1795</td>\n",
       "      <td>383</td>\n",
       "      <td>367</td>\n",
       "      <td>75726</td>\n",
       "      <td>206.3</td>\n",
       "      <td>79027</td>\n",
       "    </tr>\n",
       "  </tbody>\n",
       "</table>\n",
       "</div>"
      ],
      "text/org": [
       "|    | period      |   ships |   ships_onboard |   voyagers_onboard |   average_voyagers |   total_voyagers |\n",
       "|----+-------------+---------+-----------------+--------------------+--------------------+------------------|\n",
       "|  0 | 1633 - 1658 |     449 |             100 |              19617 |              196.2 |            88080 |\n",
       "|  1 | 1658 - 1683 |     565 |             541 |             102112 |              188.7 |           106642 |\n",
       "|  2 | 1683 - 1708 |     596 |             590 |             110203 |              186.8 |           111324 |\n",
       "|  3 | 1708 - 1733 |     856 |             854 |             168004 |              196.7 |           168397 |\n",
       "|  4 | 1733 - 1758 |     821 |             811 |             198291 |              244.5 |           200736 |\n",
       "|  5 | 1758 - 1783 |     682 |             676 |             191610 |              283.4 |           193311 |\n",
       "|  6 | 1783 - 1795 |     383 |             367 |              75726 |              206.3 |            79027 |"
      ],
      "text/plain": [
       "        period  ships  ships_onboard  voyagers_onboard  average_voyagers  \\\n",
       "0  1633 - 1658    449            100             19617             196.2   \n",
       "1  1658 - 1683    565            541            102112             188.7   \n",
       "2  1683 - 1708    596            590            110203             186.8   \n",
       "3  1708 - 1733    856            854            168004             196.7   \n",
       "4  1733 - 1758    821            811            198291             244.5   \n",
       "5  1758 - 1783    682            676            191610             283.4   \n",
       "6  1783 - 1795    383            367             75726             206.3   \n",
       "\n",
       "   total_voyagers  \n",
       "0           88080  \n",
       "1          106642  \n",
       "2          111324  \n",
       "3          168397  \n",
       "4          200736  \n",
       "5          193311  \n",
       "6           79027  "
      ]
     },
     "execution_count": 4,
     "metadata": {},
     "output_type": "execute_result"
    }
   ],
   "source": [
    "# this csv includes all the outward voyages with their voyage id and year of departure\n",
    "# this dataset is extracted from the Dutch-Asiatic Shipping dataset\n",
    "# http://resources.huygens.knaw.nl/das/search\n",
    "\n",
    "seafarer_counts = pd.read_csv('../data/total_counts.csv')\n",
    "print('total number of voyages')\n",
    "print(seafarer_counts['ships'].sum())\n",
    "\n",
    "N_est = seafarer_counts['total_voyagers'].sum().astype(int)\n",
    "print(f'Total number of seafarers: {N_est}')\n",
    "seafarer_counts"
   ]
  },
  {
   "cell_type": "code",
   "execution_count": 5,
   "metadata": {},
   "outputs": [
    {
     "name": "stdout",
     "output_type": "stream",
     "text": [
      "Loaded VOCAR contract data\n",
      "Total number of contracts: 773,943\n",
      "Number of disambiguated records: 546,973\n"
     ]
    },
    {
     "data": {
      "text/html": [
       "<div>\n",
       "<style scoped>\n",
       "    .dataframe tbody tr th:only-of-type {\n",
       "        vertical-align: middle;\n",
       "    }\n",
       "\n",
       "    .dataframe tbody tr th {\n",
       "        vertical-align: top;\n",
       "    }\n",
       "\n",
       "    .dataframe thead th {\n",
       "        text-align: right;\n",
       "    }\n",
       "</style>\n",
       "<table border=\"1\" class=\"dataframe\">\n",
       "  <thead>\n",
       "    <tr style=\"text-align: right;\">\n",
       "      <th></th>\n",
       "      <th>vocop_id</th>\n",
       "      <th>disambiguated_person</th>\n",
       "      <th>person_cluster_id</th>\n",
       "      <th>date_begin_contract</th>\n",
       "      <th>outward_voyage_id</th>\n",
       "      <th>year</th>\n",
       "    </tr>\n",
       "  </thead>\n",
       "  <tbody>\n",
       "    <tr>\n",
       "      <th>0</th>\n",
       "      <td>1648348</td>\n",
       "      <td>0.0</td>\n",
       "      <td>NaN</td>\n",
       "      <td>1633-03-23</td>\n",
       "      <td>91474</td>\n",
       "      <td>1633</td>\n",
       "    </tr>\n",
       "    <tr>\n",
       "      <th>1</th>\n",
       "      <td>1574985</td>\n",
       "      <td>1.0</td>\n",
       "      <td>271923.0</td>\n",
       "      <td>1633-03-23</td>\n",
       "      <td>91474</td>\n",
       "      <td>1633</td>\n",
       "    </tr>\n",
       "    <tr>\n",
       "      <th>2</th>\n",
       "      <td>1574984</td>\n",
       "      <td>1.0</td>\n",
       "      <td>312073.0</td>\n",
       "      <td>1633-03-23</td>\n",
       "      <td>91474</td>\n",
       "      <td>1633</td>\n",
       "    </tr>\n",
       "    <tr>\n",
       "      <th>3</th>\n",
       "      <td>1574983</td>\n",
       "      <td>1.0</td>\n",
       "      <td>102537.0</td>\n",
       "      <td>1633-03-23</td>\n",
       "      <td>91474</td>\n",
       "      <td>1633</td>\n",
       "    </tr>\n",
       "    <tr>\n",
       "      <th>4</th>\n",
       "      <td>1574982</td>\n",
       "      <td>0.0</td>\n",
       "      <td>NaN</td>\n",
       "      <td>1633-03-23</td>\n",
       "      <td>91474</td>\n",
       "      <td>1633</td>\n",
       "    </tr>\n",
       "  </tbody>\n",
       "</table>\n",
       "</div>"
      ],
      "text/org": [
       "|    |   vocop_id |   disambiguated_person |   person_cluster_id | date_begin_contract   |   outward_voyage_id |   year |\n",
       "|----+------------+------------------------+---------------------+-----------------------+---------------------+--------|\n",
       "|  0 |    1648348 |                      0 |                 nan | 1633-03-23            |               91474 |   1633 |\n",
       "|  1 |    1574985 |                      1 |              271923 | 1633-03-23            |               91474 |   1633 |\n",
       "|  2 |    1574984 |                      1 |              312073 | 1633-03-23            |               91474 |   1633 |\n",
       "|  3 |    1574983 |                      1 |              102537 | 1633-03-23            |               91474 |   1633 |\n",
       "|  4 |    1574982 |                      0 |                 nan | 1633-03-23            |               91474 |   1633 |"
      ],
      "text/plain": [
       "   vocop_id  disambiguated_person  person_cluster_id date_begin_contract  \\\n",
       "0   1648348                   0.0                NaN          1633-03-23   \n",
       "1   1574985                   1.0           271923.0          1633-03-23   \n",
       "2   1574984                   1.0           312073.0          1633-03-23   \n",
       "3   1574983                   1.0           102537.0          1633-03-23   \n",
       "4   1574982                   0.0                NaN          1633-03-23   \n",
       "\n",
       "   outward_voyage_id  year  \n",
       "0              91474  1633  \n",
       "1              91474  1633  \n",
       "2              91474  1633  \n",
       "3              91474  1633  \n",
       "4              91474  1633  "
      ]
     },
     "execution_count": 5,
     "metadata": {},
     "output_type": "execute_result"
    }
   ],
   "source": [
    "df = pd.read_csv('../data/voyages_clean.csv')\n",
    "print('Loaded VOCAR contract data')\n",
    "print(f'Total number of contracts: {df.shape[0]:,}')\n",
    "\n",
    "# Only select disambiguated records\n",
    "records = df.loc[df['disambiguated_person'] == 1, 'person_cluster_id'].astype(int).values\n",
    "print(f'Number of disambiguated records: {len(records):,}')\n",
    "\n",
    "df.head()"
   ]
  },
  {
   "cell_type": "markdown",
   "metadata": {},
   "source": [
    "### Variables\n",
    "\n",
    "- __vocop_id__: the unique id for each contract <br>\n",
    "- __disambiguated_person__: indicates whether the person is disambiguated (0 = no, 1 = yes). <br>\n",
    "- __person_cluster_id__: id that refers to unique person. If a person is disambiguated, multiple contracts can belong to one person <br>\n",
    "- __date_begin_contract__: start date of contract <br>\n",
    "- __outward_voyage_id__: unique id of outward voyage. "
   ]
  },
  {
   "cell_type": "markdown",
   "metadata": {},
   "source": [
    "### Preparing Data"
   ]
  },
  {
   "cell_type": "code",
   "execution_count": 6,
   "metadata": {},
   "outputs": [],
   "source": [
    "# construct dataframes for disambiguated and unique persons \n",
    "df_disambiguated = df.loc[df['disambiguated_person'] == 1]\n",
    "df_unique_persons = df.loc[df['disambiguated_person'] == 1].drop_duplicates(subset=['person_cluster_id'])"
   ]
  },
  {
   "cell_type": "markdown",
   "metadata": {},
   "source": [
    "### Plot Time Series"
   ]
  },
  {
   "cell_type": "code",
   "execution_count": 7,
   "metadata": {},
   "outputs": [
    {
     "data": {
      "image/png": "[encoded data removed]",
      "text/plain": [
       "<Figure size 600x400 with 1 Axes>"
      ]
     },
     "metadata": {},
     "output_type": "display_data"
    }
   ],
   "source": [
    "fig, ax = plt.subplots(figsize=(6, 4))\n",
    "\n",
    "df_disambiguated.groupby('year')['date_begin_contract'].count().plot(ax=ax, color=\"k\", label=None)\n",
    "ax.set(xlabel='Year', ylabel='Number of contracts')\n",
    "ax.ticklabel_format(axis=\"y\", style=\"sci\", scilimits=(3, 3))\n",
    "plt.savefig(os.path.join(figures_path, 'total_contracts.png'), dpi=300)"
   ]
  },
  {
   "cell_type": "code",
   "execution_count": 8,
   "metadata": {},
   "outputs": [],
   "source": [
    "sailors_df = df[df['outward_voyage_id'] != 0]"
   ]
  },
  {
   "cell_type": "markdown",
   "metadata": {},
   "source": [
    "### Analysis"
   ]
  },
  {
   "cell_type": "code",
   "execution_count": 9,
   "metadata": {},
   "outputs": [
    {
     "data": {
      "text/markdown": [
       "The archive consists of $N$=546,973 records and $V$=460,274 unique sailors."
      ],
      "text/plain": [
       "<IPython.core.display.Markdown object>"
      ]
     },
     "metadata": {},
     "output_type": "display_data"
    }
   ],
   "source": [
    "_, counts = np.unique(records, return_counts=True)\n",
    "N_obs, V_obs = counts.sum(), counts.shape[0]\n",
    "\n",
    "mathprint(fr\"The archive consists of $N$={N_obs:,} records and $V$={V_obs:,} unique sailors.\")"
   ]
  },
  {
   "cell_type": "code",
   "execution_count": 10,
   "metadata": {},
   "outputs": [
    {
     "data": {
      "text/markdown": [
       "The estimated number of sailors ($\\hat{N}$) = 947,517"
      ],
      "text/plain": [
       "<IPython.core.display.Markdown object>"
      ]
     },
     "metadata": {},
     "output_type": "display_data"
    },
    {
     "data": {
      "text/markdown": [
       "The observed fraction ($q$) = 0.577"
      ],
      "text/plain": [
       "<IPython.core.display.Markdown object>"
      ]
     },
     "metadata": {},
     "output_type": "display_data"
    },
    {
     "data": {
      "text/markdown": [
       "Chao1 estimates: {'q': 0.577269853733495, 'f1': 401179, 'f2': 42889, 'f0': 254008.74748237987, 'V_obs': 460274, 'V_est': 714283, 'var': 488899.1310150412, 'sd': 699.2132228548322, 'lci': 712916.0075827627, 'uci': 715656.8811561799, 'Chao1': 2336562.7429766366}"
      ],
      "text/plain": [
       "<IPython.core.display.Markdown object>"
      ]
     },
     "metadata": {},
     "output_type": "display_data"
    },
    {
     "data": {
      "text/markdown": [
       "Percentage of missing observations: 35.56%"
      ],
      "text/plain": [
       "<IPython.core.display.Markdown object>"
      ]
     },
     "metadata": {},
     "output_type": "display_data"
    }
   ],
   "source": [
    "q = N_obs / N_est\n",
    "estimates = chao_wor(counts, q)\n",
    "missing = 1 - estimates['V_obs'] / estimates['V_est']\n",
    "\n",
    "mathprint(fr\"The estimated number of sailors ($\\hat{{N}}$) = {N_est:,}\")\n",
    "mathprint(fr\"The observed fraction ($q$) = {q:.3f}\")\n",
    "mathprint(f\"Chao1 estimates: {estimates}\")\n",
    "mathprint(f\"Percentage of missing observations: {missing:.2%}\")"
   ]
  },
  {
   "cell_type": "markdown",
   "metadata": {},
   "source": [
    "Note that `Chao1` gives an unrealistic lower bound of more than 2.3 million, which by far exceeds the know upper limit of $\\hat{N}$. "
   ]
  },
  {
   "cell_type": "markdown",
   "metadata": {},
   "source": [
    "## Varying $q$-values\n",
    "\n",
    "To get a better idea of the how strong the estimates depend on knowledge about $\\hat{N}$, we plot $\\hat{V}$ for different values $q$. "
   ]
  },
  {
   "cell_type": "code",
   "execution_count": 11,
   "metadata": {},
   "outputs": [
    {
     "data": {
      "image/png": "[encoded data removed]",
      "text/plain": [
       "<Figure size 350x262.5 with 1 Axes>"
      ]
     },
     "metadata": {},
     "output_type": "display_data"
    }
   ],
   "source": [
    "fig, ax = plt.subplots()\n",
    "ratios = np.linspace(0, 1 - 1e-7, 100)\n",
    "estimations = np.zeros(100)\n",
    "for i, ratio in enumerate(ratios):\n",
    "    estimations[i] = chao_wor(counts, ratio)[\"V_est\"]\n",
    "ax.plot(ratios, estimations, 'o', alpha=0.2)\n",
    "ax.axvline(q, color=\"grey\", ls=\"--\")\n",
    "ax.axhline(N_est, color=\"grey\", ls=\"-\")\n",
    "ax.set(xlabel=\"$q$\", ylabel=r\"$\\hat{V}$\")\n",
    "\n",
    "ax.annotate(\n",
    "    \"Estimated $q$\",\n",
    "    (q, 1.8*10**6),\n",
    "    size=\"x-small\",\n",
    "    xytext=(-60, +10),\n",
    "    textcoords=\"offset points\",\n",
    "    arrowprops=dict(\n",
    "        arrowstyle=\"->\", color=\"grey\", connectionstyle=\"arc3,rad=-0.3\"\n",
    "    ),\n",
    ")\n",
    "\n",
    "ax.annotate(\n",
    "    r\"Upper-bound on $\\hat{V}$\",\n",
    "    (0.6, N_est),\n",
    "    size=\"x-small\",\n",
    "    xytext=(0, +20),\n",
    "    textcoords=\"offset points\",\n",
    "    arrowprops=dict(\n",
    "        arrowstyle=\"->\", color=\"grey\", connectionstyle=\"arc3,rad=0.3\"\n",
    "    ),\n",
    ");"
   ]
  },
  {
   "cell_type": "markdown",
   "metadata": {},
   "source": [
    "## Run analysis for every twenty-five year period"
   ]
  },
  {
   "cell_type": "code",
   "execution_count": 12,
   "metadata": {},
   "outputs": [
    {
     "data": {
      "text/markdown": [
       "These are the date ranges: [(1633, 1658), (1658, 1683), (1683, 1708), (1708, 1733), (1733, 1758), (1758, 1783), (1783, 1795)]"
      ],
      "text/plain": [
       "<IPython.core.display.Markdown object>"
      ]
     },
     "metadata": {},
     "output_type": "display_data"
    }
   ],
   "source": [
    "bins = list(range(1633, 1795, 25)) + [1795]\n",
    "date_ranges = [(bins[i-1], bins[i]) for i in range(1, len(bins))]\n",
    "mathprint(f'These are the date ranges: {date_ranges}')"
   ]
  },
  {
   "cell_type": "code",
   "execution_count": 13,
   "metadata": {},
   "outputs": [],
   "source": [
    "estimates = list()\n",
    "V_observations = []\n",
    "for index, (start, end) in enumerate(date_ranges):\n",
    "    df_slice = sailors_df[sailors_df['year'].between(start, end, inclusive=\"left\")]\n",
    "    records = df_slice.loc[df_slice['disambiguated_person'] == 1, 'person_cluster_id'].astype(int).values\n",
    "    _, counts = np.unique(records, return_counts=True)\n",
    "    N, V_obs = counts.sum(), counts.shape[0]\n",
    "    V_observations.append(V_obs)\n",
    "\n",
    "    N_est = seafarer_counts.iloc[index]['total_voyagers']\n",
    "    n_voyages = seafarer_counts.iloc[index]['ships']\n",
    "\n",
    "    q = len(records) / N_est\n",
    "    estimate = chao_wor(counts, q)\n",
    "    estimate[\"N_est\"] = N_est\n",
    "    estimate['voyages'] = n_voyages\n",
    "    estimate[\"period\"] = f\"{start} - {end}\"\n",
    "    estimate[\"records\"] = len(records)\n",
    "    estimates.append(estimate)"
   ]
  },
  {
   "cell_type": "markdown",
   "metadata": {},
   "source": [
    "### Plot estimates over time"
   ]
  },
  {
   "cell_type": "code",
   "execution_count": 14,
   "metadata": {},
   "outputs": [
    {
     "data": {
      "image/png": "[encoded data removed]",
      "text/plain": [
       "<Figure size 600x400 with 1 Axes>"
      ]
     },
     "metadata": {},
     "output_type": "display_data"
    }
   ],
   "source": [
    "labels = [x[0] for x in date_ranges]\n",
    "\n",
    "fig, ax = plt.subplots(figsize=(6, 4))\n",
    "\n",
    "ax.plot(labels, V_observations, '--x', label=r'$V$', color=\"k\")\n",
    "lci, uci, est = zip(*[(est[\"lci\"], est[\"uci\"], est[\"V_est\"]) for est in estimates])\n",
    "ax.plot(labels, est, '-o', color=\"k\", label=r'$\\hat{V}$', fillstyle=\"none\")\n",
    "ax.fill_between(labels, lci, uci, color=\"lightgrey\", alpha=0.4)\n",
    "ax.set(xlabel='year', ylabel='Number of unique seafarers')\n",
    "ax.ticklabel_format(axis=\"y\", style=\"sci\", scilimits=(3, 3))\n",
    "ax.legend(ncol=2)\n",
    "plt.savefig('../figures/25year_plot.png', dpi=300)"
   ]
  },
  {
   "cell_type": "markdown",
   "metadata": {},
   "source": [
    "## LaTeX tables"
   ]
  },
  {
   "cell_type": "code",
   "execution_count": 15,
   "metadata": {},
   "outputs": [
    {
     "name": "stdout",
     "output_type": "stream",
     "text": [
      "\\begin{tabular}{llrrrrrrrrr}\n",
      "\\toprule\n",
      "{} &       period & voyages &    q &   N\\_est &   V\\_obs &   V\\_est &     lci &     uci & loss rate &   Chao1 \\\\\n",
      "\\midrule\n",
      "0 &  1633 - 1658 &     449 & 0.03 &  88,080 &   2,457 &  63,033 &  54,214 &  73,354 &    96.10\\% & 215,522 \\\\\n",
      "1 &  1658 - 1683 &     565 & 0.05 & 106,642 &   5,462 &  88,593 &  83,101 &  94,472 &    93.83\\% & 497,150 \\\\\n",
      "2 &  1683 - 1708 &     596 & 0.50 & 111,324 &  51,501 &  93,391 &  92,790 &  93,999 &    44.85\\% & 409,425 \\\\\n",
      "3 &  1708 - 1733 &     856 & 0.78 & 168,397 & 110,517 & 135,931 & 135,576 & 136,290 &    18.70\\% & 540,560 \\\\\n",
      "4 &  1733 - 1758 &     821 & 0.75 & 200,736 & 130,069 & 166,763 & 166,326 & 167,205 &    22.00\\% & 725,923 \\\\\n",
      "5 &  1758 - 1783 &     682 & 0.76 & 193,311 & 123,553 & 154,479 & 154,082 & 154,880 &    20.02\\% & 574,654 \\\\\n",
      "6 &  1783 - 1795 &     383 & 0.69 &  79,027 &  48,738 &  67,451 &  67,123 &  67,784 &    27.74\\% & 293,352 \\\\\n",
      "\\bottomrule\n",
      "\\end{tabular}\n",
      "\n"
     ]
    },
    {
     "name": "stderr",
     "output_type": "stream",
     "text": [
      "/var/folders/s8/1h01d3xx303c51_q78_b9gjw0000gn/T/ipykernel_57249/2389406760.py:14: FutureWarning: In future versions `DataFrame.to_latex` is expected to utilise the base implementation of `Styler.to_latex` for formatting and rendering. The arguments signature may therefore change. It is recommended instead to use `DataFrame.style.to_latex` which also contains additional functionality.\n",
      "  print(estimates_df[interesting_columns].to_latex(formatters=formatters))\n"
     ]
    }
   ],
   "source": [
    "interesting_columns = ['period', 'voyages', 'q', 'N_est', 'V_obs', 'V_est', 'lci', 'uci', 'loss rate', 'Chao1']\n",
    "formatters = {\n",
    "    \"q\": lambda x: f\"{x:.2f}\",\n",
    "    \"loss rate\": lambda x: f\"{x:.2%}\",\n",
    "}\n",
    "for column in ('voyages', 'N_est', 'V_obs', 'V_est', 'lci', 'uci', 'Chao1'):\n",
    "    formatters[column] = lambda x: f\"{x:,.0f}\"\n",
    "\n",
    "def format_column(x):\n",
    "    return x if isinstance(x, str) else f\"{x:,.0f}\"\n",
    "\n",
    "estimates_df = pd.DataFrame(estimates)\n",
    "estimates_df[\"loss rate\"] = 1 - estimates_df[\"V_obs\"] / estimates_df[\"V_est\"]\n",
    "print(estimates_df[interesting_columns].to_latex(formatters=formatters))"
   ]
  }
 ],
 "metadata": {
  "kernelspec": {
   "display_name": "Python 3 (ipykernel)",
   "language": "python",
   "name": "python3"
  },
  "language_info": {
   "codemirror_mode": {
    "name": "ipython",
    "version": 3
   },
   "file_extension": ".py",
   "mimetype": "text/x-python",
   "name": "python",
   "nbconvert_exporter": "python",
   "pygments_lexer": "ipython3",
   "version": "3.10.8"
  },
  "vscode": {
   "interpreter": {
    "hash": "07fb87be3254d990fd3cd84ff6d33ad45e16685cc7a7b3622affa24dc68a13d5"
   }
  }
 },
 "nbformat": 4,
 "nbformat_minor": 2
}
