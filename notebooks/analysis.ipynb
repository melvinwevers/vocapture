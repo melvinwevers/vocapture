{
 "cells": [
  {
   "cell_type": "code",
   "execution_count": 1,
   "metadata": {},
   "outputs": [],
   "source": [
    "import collections\n",
    "import math\n",
    "import matplotlib.pyplot as plt\n",
    "import numpy as np\n",
    "import pandas as pd\n",
    "import scipy.stats as stats\n",
    "\n",
    "from copia import chao1"
   ]
  },
  {
   "cell_type": "code",
   "execution_count": 2,
   "metadata": {},
   "outputs": [],
   "source": [
    "plt.style.use('science')"
   ]
  },
  {
   "cell_type": "markdown",
   "metadata": {},
   "source": [
    "# Functions"
   ]
  },
  {
   "cell_type": "code",
   "execution_count": 3,
   "metadata": {},
   "outputs": [],
   "source": [
    "def chao_wor(x, q, conf=0.95):\n",
    "    x = x[x > 0]\n",
    "    n = x.sum() # sample size\n",
    "    t = len(x)  # number of unique items\n",
    "    # Convert the int64 to longs to ensure the numbers\n",
    "    # don't get too big in the variance calculation\n",
    "    f1 = (x == 1).sum().item() # number of singletons\n",
    "    f2 = (x == 2).sum().item() # number of doubletons\n",
    "    w = n / (n - 1)\n",
    "    r = q / (1 - q)\n",
    "    f0 = (f1 ** 2) / (2 * w * f2 + r * f1)\n",
    "\n",
    "    # compute sd\n",
    "    t1 = ((2 * w * f2 * (f0**2) + (f1**2) * f0) ** 2) / (f1 ** 5)\n",
    "    t2 = (4 * (w**2) * f2) * ((f0 / f1)**4)\n",
    "    var = f0 + t1 + t2\n",
    "        \n",
    "    z = abs(stats.norm.ppf((1 - conf) / 2))\n",
    "    K = np.exp(z * np.sqrt(np.log(1 + var / f0 ** 2)))\n",
    "    lci, uci = t + f0 / K, t + f0 * K\n",
    "    return {\n",
    "        \"q\": q,\n",
    "        \"f1\": f1,\n",
    "        \"f2\": f2,\n",
    "        \"f0\": f0,\n",
    "        \"V_obs\": t,\n",
    "        \"V_est\": math.ceil(t + f0), \n",
    "        \"var\": var,\n",
    "        \"sd\": np.sqrt(var),\n",
    "        \"lci\": lci,\n",
    "        \"uci\": uci,\n",
    "        \"Chao1\": chao1(x)\n",
    "    }"
   ]
  },
  {
   "cell_type": "markdown",
   "metadata": {},
   "source": [
    "# Loading Data"
   ]
  },
  {
   "cell_type": "code",
   "execution_count": 4,
   "metadata": {},
   "outputs": [
    {
     "data": {
      "text/html": [
       "<div>\n",
       "<style scoped>\n",
       "    .dataframe tbody tr th:only-of-type {\n",
       "        vertical-align: middle;\n",
       "    }\n",
       "\n",
       "    .dataframe tbody tr th {\n",
       "        vertical-align: top;\n",
       "    }\n",
       "\n",
       "    .dataframe thead th {\n",
       "        text-align: right;\n",
       "    }\n",
       "</style>\n",
       "<table border=\"1\" class=\"dataframe\">\n",
       "  <thead>\n",
       "    <tr style=\"text-align: right;\">\n",
       "      <th></th>\n",
       "      <th>vocop_id</th>\n",
       "      <th>disambiguated_person</th>\n",
       "      <th>person_cluster_id</th>\n",
       "      <th>date_begin_contract</th>\n",
       "      <th>outward_voyage_id</th>\n",
       "    </tr>\n",
       "  </thead>\n",
       "  <tbody>\n",
       "    <tr>\n",
       "      <th>0</th>\n",
       "      <td>104944</td>\n",
       "      <td>1.0</td>\n",
       "      <td>415682.0</td>\n",
       "      <td>1700-05-05</td>\n",
       "      <td>92895</td>\n",
       "    </tr>\n",
       "    <tr>\n",
       "      <th>1</th>\n",
       "      <td>104945</td>\n",
       "      <td>1.0</td>\n",
       "      <td>406243.0</td>\n",
       "      <td>1700-05-05</td>\n",
       "      <td>92895</td>\n",
       "    </tr>\n",
       "    <tr>\n",
       "      <th>2</th>\n",
       "      <td>104946</td>\n",
       "      <td>1.0</td>\n",
       "      <td>1.0</td>\n",
       "      <td>1700-05-05</td>\n",
       "      <td>92895</td>\n",
       "    </tr>\n",
       "    <tr>\n",
       "      <th>3</th>\n",
       "      <td>104947</td>\n",
       "      <td>1.0</td>\n",
       "      <td>77235.0</td>\n",
       "      <td>1700-05-05</td>\n",
       "      <td>92895</td>\n",
       "    </tr>\n",
       "    <tr>\n",
       "      <th>4</th>\n",
       "      <td>104948</td>\n",
       "      <td>1.0</td>\n",
       "      <td>65732.0</td>\n",
       "      <td>1700-05-05</td>\n",
       "      <td>92895</td>\n",
       "    </tr>\n",
       "  </tbody>\n",
       "</table>\n",
       "</div>"
      ],
      "text/org": [
       "|    |   vocop_id |   disambiguated_person |   person_cluster_id | date_begin_contract   |   outward_voyage_id |\n",
       "|----+------------+------------------------+---------------------+-----------------------+---------------------|\n",
       "|  0 |     104944 |                      1 |              415682 | 1700-05-05            |               92895 |\n",
       "|  1 |     104945 |                      1 |              406243 | 1700-05-05            |               92895 |\n",
       "|  2 |     104946 |                      1 |                   1 | 1700-05-05            |               92895 |\n",
       "|  3 |     104947 |                      1 |               77235 | 1700-05-05            |               92895 |\n",
       "|  4 |     104948 |                      1 |               65732 | 1700-05-05            |               92895 |"
      ],
      "text/plain": [
       "   vocop_id  disambiguated_person  person_cluster_id date_begin_contract  \\\n",
       "0    104944                   1.0           415682.0          1700-05-05   \n",
       "1    104945                   1.0           406243.0          1700-05-05   \n",
       "2    104946                   1.0                1.0          1700-05-05   \n",
       "3    104947                   1.0            77235.0          1700-05-05   \n",
       "4    104948                   1.0            65732.0          1700-05-05   \n",
       "\n",
       "   outward_voyage_id  \n",
       "0              92895  \n",
       "1              92895  \n",
       "2              92895  \n",
       "3              92895  \n",
       "4              92895  "
      ]
     },
     "execution_count": 4,
     "metadata": {},
     "output_type": "execute_result"
    }
   ],
   "source": [
    "df = pd.read_csv('../data/raw/vocapture.csv')\n",
    "df.head()"
   ]
  },
  {
   "cell_type": "markdown",
   "metadata": {},
   "source": [
    "__vocop_id__: the unique id for each contract \\\n",
    "__disambiguated_person__: indicates whether the person is disambiguated (0 = no, 1 = yes). \\\n",
    "__person_cluster_id__: id that refers to unique person. If a person is disambiguated, multiple contracts can belong to one person \\\n",
    "__date_begin_contract__: start date of contract \\\n",
    "__outward_voyage_id__: unique id of outward voyage. "
   ]
  },
  {
   "cell_type": "code",
   "execution_count": 5,
   "metadata": {},
   "outputs": [
    {
     "name": "stdout",
     "output_type": "stream",
     "text": [
      "total number of contracts: 774,200\n"
     ]
    }
   ],
   "source": [
    "print(f'total number of contracts: {df.shape[0]:,}')"
   ]
  },
  {
   "cell_type": "code",
   "execution_count": 6,
   "metadata": {},
   "outputs": [
    {
     "name": "stdout",
     "output_type": "stream",
     "text": [
      "number of nans in date field: 257\n"
     ]
    }
   ],
   "source": [
    "nans = df['date_begin_contract'].isnull().sum()\n",
    "print(f'number of nans in date field: {nans}')\n",
    "df = df.dropna(subset=['date_begin_contract'])"
   ]
  },
  {
   "cell_type": "code",
   "execution_count": 7,
   "metadata": {},
   "outputs": [
    {
     "name": "stdout",
     "output_type": "stream",
     "text": [
      "number of disambiguated records: 546,973\n"
     ]
    }
   ],
   "source": [
    "#only select disambiguated records\n",
    "records = df.loc[df['disambiguated_person'] == 1, 'person_cluster_id'].astype(int).values\n",
    "print(f'number of disambiguated records: {len(records):,}')"
   ]
  },
  {
   "cell_type": "code",
   "execution_count": 8,
   "metadata": {},
   "outputs": [],
   "source": [
    "# construct year variable\n",
    "df['year'] = df['date_begin_contract'].str.split('-', expand=True)[0].astype(int)\n",
    "df = df.sort_values(by='year')\n",
    "assert df[\"year\"].min() == 1633 and df[\"year\"].max() == 1794"
   ]
  },
  {
   "cell_type": "code",
   "execution_count": 9,
   "metadata": {},
   "outputs": [],
   "source": [
    "df_disambiguated = df.loc[df['disambiguated_person'] == 1]\n",
    "df_unique_persons = df.loc[df['disambiguated_person'] == 1].drop_duplicates(subset=['person_cluster_id'])"
   ]
  },
  {
   "cell_type": "markdown",
   "metadata": {},
   "source": [
    "## plot time series\n",
    "\n",
    "\n"
   ]
  },
  {
   "cell_type": "code",
   "execution_count": 10,
   "metadata": {},
   "outputs": [
    {
     "data": {
      "image/png": "[encoded data removed]",
      "text/plain": [
       "<Figure size 432x288 with 1 Axes>"
      ]
     },
     "metadata": {
      "needs_background": "light"
     },
     "output_type": "display_data"
    }
   ],
   "source": [
    "fig, ax = plt.subplots(figsize=(6, 4))\n",
    "\n",
    "df_disambiguated.groupby('year')['date_begin_contract'].count().plot(ax=ax, color=\"k\", label=None) # disambiguated\n",
    "ax.set(xlabel='Year', ylabel='Number of contracts')\n",
    "ax.ticklabel_format(axis=\"y\", style=\"sci\", scilimits=(3, 3))\n",
    "plt.savefig('../figures/total_contracts.png', dpi=300)"
   ]
  },
  {
   "cell_type": "markdown",
   "metadata": {},
   "source": [
    "## Calculating number of sailors on a ship"
   ]
  },
  {
   "cell_type": "code",
   "execution_count": 11,
   "metadata": {},
   "outputs": [],
   "source": [
    "# remove outward_voyage_id 0\n",
    "sailors_df = df[df['outward_voyage_id'] != 0]"
   ]
  },
  {
   "cell_type": "code",
   "execution_count": 12,
   "metadata": {},
   "outputs": [
    {
     "name": "stdout",
     "output_type": "stream",
     "text": [
      "mean sailors on a ship: 244.60\n",
      "median sailors on a ship: 247.00\n"
     ]
    }
   ],
   "source": [
    "# For the calculation of the median and mean, we use outward voyages to which no contracts are linked. \n",
    "\n",
    "mean_sailors = sailors_df.groupby(['outward_voyage_id'])['vocop_id'].count().mean()\n",
    "median_sailors = sailors_df.groupby(['outward_voyage_id'])['vocop_id'].count().median()\n",
    "print(f'mean sailors on a ship: {mean_sailors:.2f}')\n",
    "print(f'median sailors on a ship: {median_sailors:.2f}')\n",
    "n_records = 4_352"
   ]
  },
  {
   "cell_type": "code",
   "execution_count": 13,
   "metadata": {},
   "outputs": [
    {
     "name": "stdout",
     "output_type": "stream",
     "text": [
      "The archive consists of N=546,973 records and V=460,274 unique sailors.\n"
     ]
    }
   ],
   "source": [
    "from IPython.display import display, Markdown\n",
    "\n",
    "mathprint = lambda x: display(Markdown(x))\n",
    "\n",
    "_, counts = np.unique(records, return_counts=True)\n",
    "N_obs, V_obs = counts.sum(), counts.shape[0]\n",
    "\n",
    "#N, V = len(records), len(np.unique(records))\n",
    "print(fr\"The archive consists of N={N_obs:,} records and V={V_obs:,} unique sailors.\")"
   ]
  },
  {
   "cell_type": "markdown",
   "metadata": {},
   "source": [
    "### Using Mean Sailors"
   ]
  },
  {
   "cell_type": "code",
   "execution_count": 14,
   "metadata": {},
   "outputs": [
    {
     "data": {
      "text/markdown": [
       "$\\hat{N}$ = 1,064,487"
      ],
      "text/plain": [
       "<IPython.core.display.Markdown object>"
      ]
     },
     "metadata": {},
     "output_type": "display_data"
    }
   ],
   "source": [
    "N_est = int(mean_sailors * n_records)\n",
    "mathprint(fr\"$\\hat{{N}}$ = {N_est:,}\")"
   ]
  },
  {
   "cell_type": "code",
   "execution_count": 15,
   "metadata": {},
   "outputs": [
    {
     "name": "stdout",
     "output_type": "stream",
     "text": [
      "q = 0.514\n"
     ]
    }
   ],
   "source": [
    "q = N_obs / N_est\n",
    "print(f\"q = {q:.3f}\")"
   ]
  },
  {
   "cell_type": "code",
   "execution_count": 16,
   "metadata": {},
   "outputs": [
    {
     "data": {
      "text/plain": [
       "{'q': 0.5138371816659104,\n",
       " 'f1': 401179,\n",
       " 'f2': 42889,\n",
       " 'f0': 315705.2121473892,\n",
       " 'V_obs': 460274,\n",
       " 'V_est': 775980,\n",
       " 'var': 720580.4720172862,\n",
       " 'sd': 848.8701149276527,\n",
       " 'lci': 774319.8365583214,\n",
       " 'uci': 777647.3556519173,\n",
       " 'Chao1': 2336562.7429766366}"
      ]
     },
     "execution_count": 16,
     "metadata": {},
     "output_type": "execute_result"
    }
   ],
   "source": [
    "estimates = chao_wor(counts, q)\n",
    "estimates"
   ]
  },
  {
   "cell_type": "code",
   "execution_count": 17,
   "metadata": {},
   "outputs": [
    {
     "name": "stdout",
     "output_type": "stream",
     "text": [
      "40.68%\n"
     ]
    }
   ],
   "source": [
    "missing = 1 - estimates['V_obs'] / estimates['V_est']\n",
    "print(f\"{missing:.2%}\")"
   ]
  },
  {
   "cell_type": "markdown",
   "metadata": {},
   "source": [
    "### Using Median"
   ]
  },
  {
   "cell_type": "code",
   "execution_count": 18,
   "metadata": {},
   "outputs": [
    {
     "data": {
      "text/markdown": [
       "$\\hat{N}$ = 1074944"
      ],
      "text/plain": [
       "<IPython.core.display.Markdown object>"
      ]
     },
     "metadata": {},
     "output_type": "display_data"
    }
   ],
   "source": [
    "N_est = int(median_sailors * n_records)\n",
    "mathprint(fr\"$\\hat{{N}}$ = {N_est}\")"
   ]
  },
  {
   "cell_type": "code",
   "execution_count": 19,
   "metadata": {},
   "outputs": [
    {
     "name": "stdout",
     "output_type": "stream",
     "text": [
      "q = 0.509\n"
     ]
    }
   ],
   "source": [
    "q = N_obs / N_est\n",
    "print(f\"q = {q:.3f}\")"
   ]
  },
  {
   "cell_type": "code",
   "execution_count": 20,
   "metadata": {},
   "outputs": [
    {
     "data": {
      "text/plain": [
       "{'q': 0.5088385999642772,\n",
       " 'f1': 401179,\n",
       " 'f2': 42889,\n",
       " 'f0': 320993.07334599714,\n",
       " 'V_obs': 460274,\n",
       " 'V_est': 781268,\n",
       " 'var': 743535.5172261045,\n",
       " 'sd': 862.2850556666888,\n",
       " 'lci': 779581.470028203,\n",
       " 'uci': 782961.5748538171,\n",
       " 'Chao1': 2336562.7429766366}"
      ]
     },
     "execution_count": 20,
     "metadata": {},
     "output_type": "execute_result"
    }
   ],
   "source": [
    "estimates = chao_wor(counts, q)\n",
    "estimates"
   ]
  },
  {
   "cell_type": "code",
   "execution_count": 21,
   "metadata": {},
   "outputs": [
    {
     "name": "stdout",
     "output_type": "stream",
     "text": [
      "41.09%\n"
     ]
    }
   ],
   "source": [
    "missing = 1 - estimates['V_obs'] / estimates['V_est']\n",
    "print(f\"{missing:.2%}\")"
   ]
  },
  {
   "cell_type": "markdown",
   "metadata": {},
   "source": [
    "Note that Chao1 gives an unrealistic lower bound of more than 2.3 million, which by far exceeds the know upper limit of $\\hat{N}$. "
   ]
  },
  {
   "cell_type": "markdown",
   "metadata": {},
   "source": [
    "## per 25 years"
   ]
  },
  {
   "cell_type": "code",
   "execution_count": 22,
   "metadata": {},
   "outputs": [
    {
     "data": {
      "text/org": [
       "|    |    0 |    1 |\n",
       "|----+------+------|\n",
       "|  0 | 1633 | 1658 |\n",
       "|  1 | 1658 | 1683 |\n",
       "|  2 | 1683 | 1708 |\n",
       "|  3 | 1708 | 1733 |\n",
       "|  4 | 1733 | 1758 |\n",
       "|  5 | 1758 | 1783 |\n",
       "|  6 | 1783 | 1795 |"
      ],
      "text/plain": [
       "[(1633, 1658),\n",
       " (1658, 1683),\n",
       " (1683, 1708),\n",
       " (1708, 1733),\n",
       " (1733, 1758),\n",
       " (1758, 1783),\n",
       " (1783, 1795)]"
      ]
     },
     "execution_count": 22,
     "metadata": {},
     "output_type": "execute_result"
    }
   ],
   "source": [
    "bins = list(range(1633, 1795, 25)) + [1795]\n",
    "date_ranges = [(bins[i-1], bins[i]) for i in range(1, len(bins))]\n",
    "date_ranges"
   ]
  },
  {
   "cell_type": "code",
   "execution_count": 23,
   "metadata": {},
   "outputs": [],
   "source": [
    "DAS_voyages = [468, 586, 620, 884, 848, 718, 383]"
   ]
  },
  {
   "cell_type": "code",
   "execution_count": 24,
   "metadata": {},
   "outputs": [],
   "source": [
    "estimates = collections.defaultdict(list)\n",
    "V_observations = []\n",
    "for index, (start, end) in enumerate(date_ranges):\n",
    "    df_slice = sailors_df[sailors_df['year'].between(start, end, inclusive=\"left\")]\n",
    "    records = df_slice.loc[df_slice['disambiguated_person'] == 1, 'person_cluster_id'].astype(int).values\n",
    "    _, counts = np.unique(records, return_counts=True)\n",
    "    N, V_obs = counts.sum(), counts.shape[0]\n",
    "    V_observations.append(V_obs)\n",
    "    for aggregation in ('mean', 'median'):\n",
    "        agg_sailors = int(df_slice.groupby(['outward_voyage_id'])['vocop_id'].count().agg(aggregation))\n",
    "        N_est = DAS_voyages[index] * agg_sailors\n",
    "        q = len(records) / N_est\n",
    "        estimate = chao_wor(counts, q)\n",
    "        estimate[\"N_est\"] = N_est\n",
    "        estimate[\"period\"] = f\"{start} - {end}\"\n",
    "        estimate[f\"{aggregation} sailors\"] = agg_sailors\n",
    "        estimate[\"voyages\"] = DAS_voyages[index]\n",
    "        estimate[\"records\"] = len(records)\n",
    "        estimates[aggregation].append(estimate)"
   ]
  },
  {
   "cell_type": "code",
   "execution_count": 25,
   "metadata": {},
   "outputs": [
    {
     "data": {
      "image/png": "[encoded data removed]",
      "text/plain": [
       "<Figure size 432x288 with 1 Axes>"
      ]
     },
     "metadata": {
      "needs_background": "light"
     },
     "output_type": "display_data"
    }
   ],
   "source": [
    "labels = [x[0] for x in date_ranges]\n",
    "\n",
    "fig, ax = plt.subplots(figsize=(6, 4))\n",
    "\n",
    "ax.plot(labels, V_observations, label=r'$V$', color=\"k\", linestyle='dashed')\n",
    "lci, uci, est = zip(*[(est[\"lci\"], est[\"uci\"], est[\"V_est\"]) for est in estimates[\"mean\"]])\n",
    "ax.plot(labels, est, color=\"k\", label=r'$\\hat{V}$')\n",
    "ax.fill_between(labels, lci, uci, color=\"lightgrey\", alpha=0.4)\n",
    "ax.set(xlabel='year', ylabel='Number of unique sailors')\n",
    "ax.ticklabel_format(axis=\"y\", style=\"sci\", scilimits=(3, 3))\n",
    "ax.legend(ncol=2)\n",
    "plt.savefig('../figures/25year_plot_mean.png', dpi=300)"
   ]
  },
  {
   "cell_type": "markdown",
   "metadata": {},
   "source": [
    "### Median Sailors"
   ]
  },
  {
   "cell_type": "code",
   "execution_count": 26,
   "metadata": {},
   "outputs": [
    {
     "data": {
      "image/png": "[encoded data removed]",
      "text/plain": [
       "<Figure size 432x288 with 1 Axes>"
      ]
     },
     "metadata": {
      "needs_background": "light"
     },
     "output_type": "display_data"
    }
   ],
   "source": [
    "labels = [x[0] for x in date_ranges]\n",
    "\n",
    "fig, ax = plt.subplots(figsize=(6, 4))\n",
    "\n",
    "ax.plot(labels, V_observations, label=r'$V$', color=\"k\", linestyle='dashed')\n",
    "lci, uci, est = zip(*[(est[\"lci\"], est[\"uci\"], est[\"V_est\"]) for est in estimates[\"median\"]])\n",
    "ax.plot(labels, est, color=\"k\", label=r'$\\hat{V}$')\n",
    "ax.fill_between(labels, lci, uci, color=\"lightgrey\", alpha=0.4)\n",
    "ax.set(xlabel='year', ylabel='Number of unique sailors')\n",
    "ax.ticklabel_format(axis=\"y\", style=\"sci\", scilimits=(3, 3))\n",
    "ax.legend(ncol=2)\n",
    "plt.savefig('../figures/25year_plot_median.png', dpi=300)"
   ]
  },
  {
   "cell_type": "markdown",
   "metadata": {},
   "source": [
    "## LaTeX tables"
   ]
  },
  {
   "cell_type": "code",
   "execution_count": 70,
   "metadata": {},
   "outputs": [
    {
     "name": "stdout",
     "output_type": "stream",
     "text": [
      "\\begin{tabular}{llrrrrrrrrr}\n",
      "\\toprule\n",
      "{} &       period & voyages &    q &   N\\_est &   V\\_obs &   V\\_est &     lci &     uci & loss rate &   Chao1 \\\\\n",
      "\\midrule\n",
      "0 &  1633 - 1658 &     468 & 0.03 &  84,708 &   2,457 &  61,306 &  52,944 &  71,052 &    95.99\\% & 215,522 \\\\\n",
      "1 &  1658 - 1683 &     586 & 0.04 & 140,640 &   5,462 & 110,562 & 102,170 & 119,680 &    95.06\\% & 497,150 \\\\\n",
      "2 &  1683 - 1708 &     620 & 0.46 & 120,280 &  51,501 &  99,253 &  98,573 &  99,941 &    48.11\\% & 409,425 \\\\\n",
      "3 &  1708 - 1733 &     884 & 0.74 & 177,684 & 110,517 & 141,842 & 141,435 & 142,254 &    22.08\\% & 540,560 \\\\\n",
      "4 &  1733 - 1758 &     848 & 0.70 & 212,848 & 130,069 & 174,854 & 174,353 & 175,359 &    25.61\\% & 725,923 \\\\\n",
      "5 &  1758 - 1783 &     718 & 0.66 & 221,862 & 123,553 & 171,669 & 171,129 & 172,215 &    28.03\\% & 574,654 \\\\\n",
      "6 &  1783 - 1795 &     383 & 0.52 & 104,559 &  48,738 &  83,897 &  83,352 &  84,449 &    41.91\\% & 293,352 \\\\\n",
      "\\bottomrule\n",
      "\\end{tabular}\n",
      "\n"
     ]
    }
   ],
   "source": [
    "interesting_columns = ['period', 'voyages', 'q', 'N_est', 'V_obs', 'V_est', 'lci', 'uci', 'loss rate', 'Chao1']\n",
    "formatters = {\n",
    "    \"q\": lambda x: f\"{x:.2f}\",\n",
    "    \"loss rate\": lambda x: f\"{x:.2%}\",\n",
    "}\n",
    "for column in ('voyages', 'N_est', 'V_obs', 'V_est', 'lci', 'uci', 'Chao1'):\n",
    "    formatters[column] = lambda x: f\"{x:,.0f}\"\n",
    "\n",
    "def format_column(x):\n",
    "    return x if isinstance(x, str) else f\"{x:,.0f}\"\n",
    "\n",
    "estimates_df = pd.DataFrame(estimates[\"mean\"])\n",
    "estimates_df[\"loss rate\"] = 1 - estimates_df[\"V_obs\"] / estimates_df[\"V_est\"]\n",
    "print(estimates_df[interesting_columns].to_latex(formatters=formatters))"
   ]
  },
  {
   "cell_type": "code",
   "execution_count": 71,
   "metadata": {},
   "outputs": [
    {
     "name": "stdout",
     "output_type": "stream",
     "text": [
      "\\begin{tabular}{llrrrrrrrrr}\n",
      "\\toprule\n",
      "{} &       period & voyages &    q &   N\\_est &   V\\_obs &   V\\_est &     lci &     uci & loss rate &   Chao1 \\\\\n",
      "\\midrule\n",
      "0 &  1633 - 1658 &     468 & 0.04 &  69,264 &   2,457 &  52,869 &  46,572 &  60,064 &    95.35\\% & 215,522 \\\\\n",
      "1 &  1658 - 1683 &     586 & 0.04 & 153,532 &   5,462 & 118,287 & 108,727 & 128,730 &    95.38\\% & 497,150 \\\\\n",
      "2 &  1683 - 1708 &     620 & 0.44 & 126,480 &  51,501 & 103,185 & 102,450 & 103,929 &    50.09\\% & 409,425 \\\\\n",
      "3 &  1708 - 1733 &     884 & 0.75 & 175,916 & 110,517 & 140,730 & 140,333 & 141,132 &    21.47\\% & 540,560 \\\\\n",
      "4 &  1733 - 1758 &     848 & 0.70 & 215,392 & 130,069 & 176,523 & 176,010 & 177,042 &    26.32\\% & 725,923 \\\\\n",
      "5 &  1758 - 1783 &     718 & 0.66 & 224,016 & 123,553 & 172,909 & 172,358 & 173,465 &    28.54\\% & 574,654 \\\\\n",
      "6 &  1783 - 1795 &     383 & 0.47 & 114,134 &  48,738 &  89,463 &  88,837 &  90,098 &    45.52\\% & 293,352 \\\\\n",
      "\\bottomrule\n",
      "\\end{tabular}\n",
      "\n"
     ]
    }
   ],
   "source": [
    "estimates_df = pd.DataFrame(estimates[\"median\"])\n",
    "estimates_df[\"loss rate\"] = 1 - estimates_df[\"V_obs\"] / estimates_df[\"V_est\"]\n",
    "estimates_df[interesting_columns]\n",
    "print(estimates_df[interesting_columns].to_latex(formatters=formatters))"
   ]
  }
 ],
 "metadata": {
  "kernelspec": {
   "display_name": "Python 3 (ipykernel)",
   "language": "python",
   "name": "python3"
  },
  "language_info": {
   "codemirror_mode": {
    "name": "ipython",
    "version": 3
   },
   "file_extension": ".py",
   "mimetype": "text/x-python",
   "name": "python",
   "nbconvert_exporter": "python",
   "pygments_lexer": "ipython3",
   "version": "3.9.13"
  },
  "vscode": {
   "interpreter": {
    "hash": "2f1dcb2d14e818eb78da5fc0066a669981c8f24be2db3cc976636f8607eeea8a"
   }
  }
 },
 "nbformat": 4,
 "nbformat_minor": 2
}
